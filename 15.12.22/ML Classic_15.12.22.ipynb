{
 "cells": [
  {
   "cell_type": "markdown",
   "id": "c8639597",
   "metadata": {},
   "source": [
    "## Создание классических моделей машинного обучения"
   ]
  },
  {
   "cell_type": "markdown",
   "id": "c4a31b5c",
   "metadata": {},
   "source": [
    "### Импорт собранных и обработанных данных"
   ]
  },
  {
   "cell_type": "code",
   "execution_count": 33,
   "id": "1bcb51aa",
   "metadata": {},
   "outputs": [
    {
     "data": {
      "text/html": [
       "<div>\n",
       "<style scoped>\n",
       "    .dataframe tbody tr th:only-of-type {\n",
       "        vertical-align: middle;\n",
       "    }\n",
       "\n",
       "    .dataframe tbody tr th {\n",
       "        vertical-align: top;\n",
       "    }\n",
       "\n",
       "    .dataframe thead th {\n",
       "        text-align: right;\n",
       "    }\n",
       "</style>\n",
       "<table border=\"1\" class=\"dataframe\">\n",
       "  <thead>\n",
       "    <tr style=\"text-align: right;\">\n",
       "      <th></th>\n",
       "      <th>main_rubric</th>\n",
       "      <th>rubric</th>\n",
       "      <th>text_lemm</th>\n",
       "      <th>title_lemm</th>\n",
       "    </tr>\n",
       "  </thead>\n",
       "  <tbody>\n",
       "    <tr>\n",
       "      <th>0</th>\n",
       "      <td>Происшествия</td>\n",
       "      <td>Происшествия</td>\n",
       "      <td>следствие попадать глава аналитический отдел п...</td>\n",
       "      <td>обвинение взяточничество арестовывать подмоско...</td>\n",
       "    </tr>\n",
       "    <tr>\n",
       "      <th>1</th>\n",
       "      <td>Происшествия</td>\n",
       "      <td>Происшествия</td>\n",
       "      <td>систематическое получение взятка арестовывать ...</td>\n",
       "      <td>систематическое получение взятка арестовывать ...</td>\n",
       "    </tr>\n",
       "    <tr>\n",
       "      <th>2</th>\n",
       "      <td>Происшествия</td>\n",
       "      <td>Происшествия</td>\n",
       "      <td>место выезжать аварийный бригада сотрудник адм...</td>\n",
       "      <td>приграничное село белгородский область попадат...</td>\n",
       "    </tr>\n",
       "    <tr>\n",
       "      <th>3</th>\n",
       "      <td>Происшествия</td>\n",
       "      <td>Происшествия</td>\n",
       "      <td>село старый хутор белгородский область попадат...</td>\n",
       "      <td>украинские войско обстреливать село белгородск...</td>\n",
       "    </tr>\n",
       "    <tr>\n",
       "      <th>4</th>\n",
       "      <td>Происшествия</td>\n",
       "      <td>Происшествия</td>\n",
       "      <td>четверг декабрь обстрел вооруженный формирован...</td>\n",
       "      <td>губернатор гладков всу обстреливать село стары...</td>\n",
       "    </tr>\n",
       "    <tr>\n",
       "      <th>...</th>\n",
       "      <td>...</td>\n",
       "      <td>...</td>\n",
       "      <td>...</td>\n",
       "      <td>...</td>\n",
       "    </tr>\n",
       "    <tr>\n",
       "      <th>3391</th>\n",
       "      <td>Наука</td>\n",
       "      <td>Космос</td>\n",
       "      <td>ученые томский университет система управление ...</td>\n",
       "      <td>томские ученый разрабатывать система электропи...</td>\n",
       "    </tr>\n",
       "    <tr>\n",
       "      <th>3392</th>\n",
       "      <td>Наука</td>\n",
       "      <td>Космос</td>\n",
       "      <td>вес бортовой система космический аппарат число...</td>\n",
       "      <td>томске разрабатывать система электропитание сп...</td>\n",
       "    </tr>\n",
       "    <tr>\n",
       "      <th>3393</th>\n",
       "      <td>Наука</td>\n",
       "      <td>Космос</td>\n",
       "      <td>двадцать пятый август год зарегистрировать мар...</td>\n",
       "      <td>ученые зафиксировать марсотрясение рекордный силы</td>\n",
       "    </tr>\n",
       "    <tr>\n",
       "      <th>3394</th>\n",
       "      <td>Наука</td>\n",
       "      <td>Космос</td>\n",
       "      <td>сейсмометр марсианский модуль insight зафиксир...</td>\n",
       "      <td>марсе происходить крупный землетрясение истори...</td>\n",
       "    </tr>\n",
       "    <tr>\n",
       "      <th>3395</th>\n",
       "      <td>Наука</td>\n",
       "      <td>Космос</td>\n",
       "      <td>американское европейский космический агентство...</td>\n",
       "      <td>nasa esa представлять ролик самый яркий момент...</td>\n",
       "    </tr>\n",
       "  </tbody>\n",
       "</table>\n",
       "<p>3396 rows × 4 columns</p>\n",
       "</div>"
      ],
      "text/plain": [
       "       main_rubric        rubric  \\\n",
       "0     Происшествия  Происшествия   \n",
       "1     Происшествия  Происшествия   \n",
       "2     Происшествия  Происшествия   \n",
       "3     Происшествия  Происшествия   \n",
       "4     Происшествия  Происшествия   \n",
       "...            ...           ...   \n",
       "3391         Наука        Космос   \n",
       "3392         Наука        Космос   \n",
       "3393         Наука        Космос   \n",
       "3394         Наука        Космос   \n",
       "3395         Наука        Космос   \n",
       "\n",
       "                                              text_lemm  \\\n",
       "0     следствие попадать глава аналитический отдел п...   \n",
       "1     систематическое получение взятка арестовывать ...   \n",
       "2     место выезжать аварийный бригада сотрудник адм...   \n",
       "3     село старый хутор белгородский область попадат...   \n",
       "4     четверг декабрь обстрел вооруженный формирован...   \n",
       "...                                                 ...   \n",
       "3391  ученые томский университет система управление ...   \n",
       "3392  вес бортовой система космический аппарат число...   \n",
       "3393  двадцать пятый август год зарегистрировать мар...   \n",
       "3394  сейсмометр марсианский модуль insight зафиксир...   \n",
       "3395  американское европейский космический агентство...   \n",
       "\n",
       "                                             title_lemm  \n",
       "0     обвинение взяточничество арестовывать подмоско...  \n",
       "1     систематическое получение взятка арестовывать ...  \n",
       "2     приграничное село белгородский область попадат...  \n",
       "3     украинские войско обстреливать село белгородск...  \n",
       "4     губернатор гладков всу обстреливать село стары...  \n",
       "...                                                 ...  \n",
       "3391  томские ученый разрабатывать система электропи...  \n",
       "3392  томске разрабатывать система электропитание сп...  \n",
       "3393  ученые зафиксировать марсотрясение рекордный силы  \n",
       "3394  марсе происходить крупный землетрясение истори...  \n",
       "3395  nasa esa представлять ролик самый яркий момент...  \n",
       "\n",
       "[3396 rows x 4 columns]"
      ]
     },
     "execution_count": 33,
     "metadata": {},
     "output_type": "execute_result"
    }
   ],
   "source": [
    "import pandas as pd\n",
    "\n",
    "# Для mac\n",
    "df_nlp = pd.read_csv(r'/Users/user/Documents/ML.csv')\n",
    "\n",
    "# Для win\n",
    "#df_nlp = pd.read_csv(r'C:\\Users\\User\\Downloads\\ML.csv'), если в начале лишних столбец с индексами\n",
    "\n",
    "#df_ml = df_nlp.drop(df_nlp.columns[[0,3,4,5,6,7,8,9,10]], axis = 1)\n",
    "\n",
    "df_ml"
   ]
  },
  {
   "cell_type": "markdown",
   "id": "93694ec1",
   "metadata": {},
   "source": [
    "### Кодирование целевой переменной. Формирование тестовой и обучающей выборок"
   ]
  },
  {
   "cell_type": "code",
   "execution_count": 47,
   "id": "6f205bea",
   "metadata": {},
   "outputs": [
    {
     "data": {
      "text/plain": [
       "(2377,)"
      ]
     },
     "execution_count": 47,
     "metadata": {},
     "output_type": "execute_result"
    }
   ],
   "source": [
    "from sklearn.preprocessing import LabelEncoder\n",
    "from sklearn.preprocessing import OneHotEncoder\n",
    "from sklearn.model_selection import train_test_split\n",
    "\n",
    "rubrics = ['Политика', 'Общество', 'Экономика', 'В мире', 'Спорт', 'Происшествия', 'Культура', 'Технологии', 'Наука']\n",
    "\n",
    "encoder = LabelEncoder()\n",
    "rubrics_list = df_ml['main_rubric'].to_list()\n",
    "rubric_labels = encoder.fit_transform(rubrics_list)\n",
    "\n",
    "X = df_ml['text_lemm']\n",
    "y = rubric_labels\n",
    "\n",
    "X_train, X_test, y_train, y_test = train_test_split(X, y, test_size=0.3, random_state=42)\n",
    "my_tags = rubrics\n",
    "\n",
    "X_train.shape"
   ]
  },
  {
   "cell_type": "code",
   "execution_count": 43,
   "id": "b435f8a2",
   "metadata": {},
   "outputs": [],
   "source": [
    "from sklearn.pipeline import Pipeline\n",
    "from sklearn.feature_extraction.text import TfidfTransformer\n",
    "from sklearn.feature_extraction.text import CountVectorizer\n",
    "from sklearn.metrics import accuracy_score\n",
    "from sklearn.metrics import classification_report"
   ]
  },
  {
   "cell_type": "markdown",
   "id": "f60d09c6",
   "metadata": {},
   "source": [
    "### Байесовский классификатор"
   ]
  },
  {
   "cell_type": "code",
   "execution_count": 36,
   "id": "c4b49ef3",
   "metadata": {},
   "outputs": [
    {
     "name": "stdout",
     "output_type": "stream",
     "text": [
      "accuracy 0.8056918547595682\n",
      "              precision    recall  f1-score   support\n",
      "\n",
      "    Политика       0.00      0.00      0.00        35\n",
      "    Общество       0.97      0.86      0.91       124\n",
      "   Экономика       1.00      0.41      0.58        78\n",
      "      В мире       0.62      0.97      0.75       213\n",
      "       Спорт       0.91      0.68      0.78       108\n",
      "Происшествия       0.97      0.56      0.71        68\n",
      "    Культура       0.79      0.99      0.88       153\n",
      "  Технологии       0.95      0.84      0.89       106\n",
      "       Наука       0.90      0.93      0.91       134\n",
      "\n",
      "    accuracy                           0.81      1019\n",
      "   macro avg       0.79      0.69      0.71      1019\n",
      "weighted avg       0.82      0.81      0.79      1019\n",
      "\n"
     ]
    },
    {
     "name": "stderr",
     "output_type": "stream",
     "text": [
      "/Users/user/opt/anaconda3/lib/python3.9/site-packages/sklearn/metrics/_classification.py:1334: UndefinedMetricWarning: Precision and F-score are ill-defined and being set to 0.0 in labels with no predicted samples. Use `zero_division` parameter to control this behavior.\n",
      "  _warn_prf(average, modifier, msg_start, len(result))\n",
      "/Users/user/opt/anaconda3/lib/python3.9/site-packages/sklearn/metrics/_classification.py:1334: UndefinedMetricWarning: Precision and F-score are ill-defined and being set to 0.0 in labels with no predicted samples. Use `zero_division` parameter to control this behavior.\n",
      "  _warn_prf(average, modifier, msg_start, len(result))\n",
      "/Users/user/opt/anaconda3/lib/python3.9/site-packages/sklearn/metrics/_classification.py:1334: UndefinedMetricWarning: Precision and F-score are ill-defined and being set to 0.0 in labels with no predicted samples. Use `zero_division` parameter to control this behavior.\n",
      "  _warn_prf(average, modifier, msg_start, len(result))\n"
     ]
    },
    {
     "data": {
      "text/plain": [
       "0.81"
      ]
     },
     "execution_count": 36,
     "metadata": {},
     "output_type": "execute_result"
    }
   ],
   "source": [
    "from sklearn.naive_bayes import MultinomialNB\n",
    "\n",
    "def nb_classifier():\n",
    "    \n",
    "    nb = Pipeline ([('vect', CountVectorizer()),\n",
    "                    ('tfidf', TfidfTransformer()),\n",
    "                    ('clf', MultinomialNB()),\n",
    "                   ])\n",
    "\n",
    "    nb.fit(X_train, y_train)\n",
    "    y_pred = nb.predict(X_test)\n",
    "\n",
    "    print('accuracy %s' % accuracy_score(y_pred, y_test))\n",
    "    print(classification_report(y_test, y_pred, target_names=my_tags))\n",
    "    \n",
    "    return round(accuracy_score(y_pred, y_test), 2)\n",
    "\n",
    "nb_classifier()"
   ]
  },
  {
   "cell_type": "markdown",
   "id": "8bcd1374",
   "metadata": {},
   "source": [
    "### Метод опорных векторов"
   ]
  },
  {
   "cell_type": "code",
   "execution_count": 37,
   "id": "3ad10a64",
   "metadata": {},
   "outputs": [
    {
     "name": "stdout",
     "output_type": "stream",
     "text": [
      "accuracy 0.8851815505397449\n",
      "              precision    recall  f1-score   support\n",
      "\n",
      "    Политика       0.57      0.46      0.51        35\n",
      "    Общество       0.94      0.94      0.94       124\n",
      "   Экономика       0.97      0.87      0.92        78\n",
      "      В мире       0.88      0.90      0.89       213\n",
      "       Спорт       0.88      0.85      0.86       108\n",
      "Происшествия       0.92      0.72      0.81        68\n",
      "    Культура       0.89      0.98      0.93       153\n",
      "  Технологии       0.87      0.92      0.89       106\n",
      "       Наука       0.86      0.92      0.89       134\n",
      "\n",
      "    accuracy                           0.89      1019\n",
      "   macro avg       0.87      0.84      0.85      1019\n",
      "weighted avg       0.88      0.89      0.88      1019\n",
      "\n"
     ]
    },
    {
     "data": {
      "text/plain": [
       "0.89"
      ]
     },
     "execution_count": 37,
     "metadata": {},
     "output_type": "execute_result"
    }
   ],
   "source": [
    "from sklearn.linear_model import SGDClassifier\n",
    "\n",
    "def sgd_classifier():\n",
    "    \n",
    "    sgd = Pipeline ([('vect', CountVectorizer()),\n",
    "                     ('tfidf', TfidfTransformer()),\n",
    "                     ('clf', SGDClassifier(loss='hinge', penalty='l2', alpha=1e-3, random_state=42, max_iter=5, tol=None)),\n",
    "                    ])\n",
    "\n",
    "    sgd.fit(X_train, y_train)\n",
    "    y_pred = sgd.predict(X_test)\n",
    "\n",
    "    print('accuracy %s' % accuracy_score(y_pred, y_test))\n",
    "    print(classification_report(y_test, y_pred, target_names=my_tags))\n",
    "    \n",
    "    return round(accuracy_score(y_pred, y_test), 2)\n",
    "\n",
    "sgd_classifier()"
   ]
  },
  {
   "cell_type": "markdown",
   "id": "e5c897fa",
   "metadata": {},
   "source": [
    "### Логистическая регрессия"
   ]
  },
  {
   "cell_type": "code",
   "execution_count": 38,
   "id": "2bbb7277",
   "metadata": {},
   "outputs": [
    {
     "name": "stdout",
     "output_type": "stream",
     "text": [
      "accuracy 0.8792934249263984\n",
      "              precision    recall  f1-score   support\n",
      "\n",
      "    Политика       0.53      0.49      0.51        35\n",
      "    Общество       0.96      0.93      0.94       124\n",
      "   Экономика       0.96      0.85      0.90        78\n",
      "      В мире       0.86      0.90      0.88       213\n",
      "       Спорт       0.84      0.85      0.85       108\n",
      "Происшествия       0.84      0.79      0.82        68\n",
      "    Культура       0.93      0.97      0.95       153\n",
      "  Технологии       0.89      0.89      0.89       106\n",
      "       Наука       0.87      0.88      0.88       134\n",
      "\n",
      "    accuracy                           0.88      1019\n",
      "   macro avg       0.85      0.84      0.84      1019\n",
      "weighted avg       0.88      0.88      0.88      1019\n",
      "\n"
     ]
    },
    {
     "name": "stderr",
     "output_type": "stream",
     "text": [
      "/Users/user/opt/anaconda3/lib/python3.9/site-packages/sklearn/linear_model/_logistic.py:444: ConvergenceWarning: lbfgs failed to converge (status=1):\n",
      "STOP: TOTAL NO. of ITERATIONS REACHED LIMIT.\n",
      "\n",
      "Increase the number of iterations (max_iter) or scale the data as shown in:\n",
      "    https://scikit-learn.org/stable/modules/preprocessing.html\n",
      "Please also refer to the documentation for alternative solver options:\n",
      "    https://scikit-learn.org/stable/modules/linear_model.html#logistic-regression\n",
      "  n_iter_i = _check_optimize_result(\n"
     ]
    },
    {
     "data": {
      "text/plain": [
       "0.88"
      ]
     },
     "execution_count": 38,
     "metadata": {},
     "output_type": "execute_result"
    }
   ],
   "source": [
    "from sklearn.linear_model import LogisticRegression\n",
    "\n",
    "def logreg_classifier():\n",
    "\n",
    "    logreg = Pipeline ([('vect', CountVectorizer()),\n",
    "                        ('tfidf', TfidfTransformer()),\n",
    "                        ('clf', LogisticRegression(n_jobs=1, C=1e5)),\n",
    "                       ])\n",
    "\n",
    "    logreg.fit(X_train, y_train)\n",
    "    y_pred = logreg.predict(X_test)\n",
    "\n",
    "    print('accuracy %s' % accuracy_score(y_pred, y_test))\n",
    "    print(classification_report(y_test, y_pred, target_names=my_tags))\n",
    "    \n",
    "    return round(accuracy_score(y_pred, y_test), 2)\n",
    "\n",
    "logreg_classifier()"
   ]
  },
  {
   "cell_type": "markdown",
   "id": "2ef07dbc",
   "metadata": {},
   "source": [
    "### Дерево решений "
   ]
  },
  {
   "cell_type": "code",
   "execution_count": 39,
   "id": "dfc4890a",
   "metadata": {},
   "outputs": [
    {
     "name": "stdout",
     "output_type": "stream",
     "text": [
      "accuracy 0.25318940137389595\n",
      "              precision    recall  f1-score   support\n",
      "\n",
      "    Политика       0.00      0.00      0.00        35\n",
      "    Общество       1.00      0.13      0.23       124\n",
      "   Экономика       0.00      0.00      0.00        78\n",
      "      В мире       0.22      1.00      0.36       213\n",
      "       Спорт       0.00      0.00      0.00       108\n",
      "Происшествия       1.00      0.06      0.11        68\n",
      "    Культура       0.81      0.16      0.27       153\n",
      "  Технологии       0.00      0.00      0.00       106\n",
      "       Наука       0.00      0.00      0.00       134\n",
      "\n",
      "    accuracy                           0.25      1019\n",
      "   macro avg       0.34      0.15      0.11      1019\n",
      "weighted avg       0.36      0.25      0.15      1019\n",
      "\n"
     ]
    },
    {
     "name": "stderr",
     "output_type": "stream",
     "text": [
      "/Users/user/opt/anaconda3/lib/python3.9/site-packages/sklearn/metrics/_classification.py:1334: UndefinedMetricWarning: Precision and F-score are ill-defined and being set to 0.0 in labels with no predicted samples. Use `zero_division` parameter to control this behavior.\n",
      "  _warn_prf(average, modifier, msg_start, len(result))\n",
      "/Users/user/opt/anaconda3/lib/python3.9/site-packages/sklearn/metrics/_classification.py:1334: UndefinedMetricWarning: Precision and F-score are ill-defined and being set to 0.0 in labels with no predicted samples. Use `zero_division` parameter to control this behavior.\n",
      "  _warn_prf(average, modifier, msg_start, len(result))\n",
      "/Users/user/opt/anaconda3/lib/python3.9/site-packages/sklearn/metrics/_classification.py:1334: UndefinedMetricWarning: Precision and F-score are ill-defined and being set to 0.0 in labels with no predicted samples. Use `zero_division` parameter to control this behavior.\n",
      "  _warn_prf(average, modifier, msg_start, len(result))\n"
     ]
    },
    {
     "data": {
      "text/plain": [
       "0.25"
      ]
     },
     "execution_count": 39,
     "metadata": {},
     "output_type": "execute_result"
    }
   ],
   "source": [
    "from sklearn.tree import DecisionTreeClassifier\n",
    "\n",
    "def dtree_classifier():\n",
    "    \n",
    "    dtree = Pipeline ([('vect', CountVectorizer()),\n",
    "                       ('tfidf', TfidfTransformer()),\n",
    "                       ('clf', DecisionTreeClassifier(max_depth = 2)),\n",
    "                      ])\n",
    "\n",
    "    dtree.fit(X_train, y_train)\n",
    "    y_pred = dtree.predict(X_test)\n",
    "\n",
    "    print('accuracy %s' % accuracy_score(y_pred, y_test))\n",
    "    print(classification_report(y_test, y_pred, target_names=my_tags))\n",
    "    \n",
    "    return round(accuracy_score(y_pred, y_test), 2)\n",
    "\n",
    "dtree_classifier()"
   ]
  },
  {
   "cell_type": "markdown",
   "id": "ff5fc9fa",
   "metadata": {},
   "source": [
    "### Метод K ближайщих соседей KNN"
   ]
  },
  {
   "cell_type": "code",
   "execution_count": 40,
   "id": "2afd3d11",
   "metadata": {},
   "outputs": [
    {
     "name": "stdout",
     "output_type": "stream",
     "text": [
      "accuracy 0.8557409224730128\n",
      "              precision    recall  f1-score   support\n",
      "\n",
      "    Политика       0.34      0.54      0.42        35\n",
      "    Общество       0.86      0.95      0.90       124\n",
      "   Экономика       0.84      0.86      0.85        78\n",
      "      В мире       0.87      0.82      0.84       213\n",
      "       Спорт       0.84      0.83      0.84       108\n",
      "Происшествия       0.98      0.82      0.90        68\n",
      "    Культура       0.93      0.95      0.94       153\n",
      "  Технологии       0.95      0.82      0.88       106\n",
      "       Наука       0.87      0.87      0.87       134\n",
      "\n",
      "    accuracy                           0.86      1019\n",
      "   macro avg       0.83      0.83      0.83      1019\n",
      "weighted avg       0.87      0.86      0.86      1019\n",
      "\n"
     ]
    },
    {
     "data": {
      "text/plain": [
       "0.86"
      ]
     },
     "execution_count": 40,
     "metadata": {},
     "output_type": "execute_result"
    }
   ],
   "source": [
    "from sklearn.neighbors import KNeighborsClassifier\n",
    "\n",
    "def knn_classifier():\n",
    "\n",
    "    knn = Pipeline([('vect', CountVectorizer()),\n",
    "                    ('tfidf', TfidfTransformer()),\n",
    "                    ('clf', KNeighborsClassifier(n_neighbors=3)),\n",
    "                   ])\n",
    "\n",
    "    knn.fit(X_train, y_train)\n",
    "    y_pred = knn.predict(X_test)\n",
    "\n",
    "    print('accuracy %s' % accuracy_score(y_pred, y_test))\n",
    "    print(classification_report(y_test, y_pred, target_names=my_tags))\n",
    "    \n",
    "    return round(accuracy_score(y_pred, y_test), 2)\n",
    "\n",
    "knn_classifier()"
   ]
  },
  {
   "cell_type": "markdown",
   "id": "2b11db16",
   "metadata": {},
   "source": [
    "### Метод градиентного бустинга"
   ]
  },
  {
   "cell_type": "code",
   "execution_count": 41,
   "id": "8ca063d5",
   "metadata": {},
   "outputs": [
    {
     "name": "stdout",
     "output_type": "stream",
     "text": [
      "0.5237779153699518\n",
      "0.41224377930584766\n",
      "MSE: 3.38\n",
      "0.41224377930584766\n"
     ]
    },
    {
     "data": {
      "text/plain": [
       "0.41"
      ]
     },
     "execution_count": 41,
     "metadata": {},
     "output_type": "execute_result"
    }
   ],
   "source": [
    "from sklearn.ensemble import GradientBoostingRegressor\n",
    "from sklearn.metrics import mean_squared_error,r2_score \n",
    "\n",
    "def gbr_classifier():\n",
    "    \n",
    "    gbr = Pipeline([('vect', CountVectorizer()),\n",
    "                    ('tfidf', TfidfTransformer()),\n",
    "                    ('clf', GradientBoostingRegressor(n_estimators=200, max_depth=12, criterion='squared_error', learning_rate=0.03, min_samples_leaf=16, min_samples_split=16)),\n",
    "                   ])\n",
    "\n",
    "    gbr.fit(X_train, y_train)\n",
    "    y_pred = gbr.predict(X_test)\n",
    "    train_accuracy_score=gbr.score(X_train,y_train)\n",
    "    test_accuracy_score=gbr.score(X_test,y_test)\n",
    "    mse = mean_squared_error(y_test,y_pred)\n",
    "\n",
    "    print(train_accuracy_score)\n",
    "    print(test_accuracy_score)\n",
    "    print(\"MSE: %.2f\" % mse)\n",
    "    print(r2_score(y_test,y_pred))\n",
    "    \n",
    "    return round(test_accuracy_score, 2)\n",
    "\n",
    "gbr_classifier()"
   ]
  },
  {
   "cell_type": "code",
   "execution_count": null,
   "id": "6412bb6a",
   "metadata": {},
   "outputs": [],
   "source": []
  }
 ],
 "metadata": {
  "kernelspec": {
   "display_name": "Python 3 (ipykernel)",
   "language": "python",
   "name": "python3"
  },
  "language_info": {
   "codemirror_mode": {
    "name": "ipython",
    "version": 3
   },
   "file_extension": ".py",
   "mimetype": "text/x-python",
   "name": "python",
   "nbconvert_exporter": "python",
   "pygments_lexer": "ipython3",
   "version": "3.9.13"
  }
 },
 "nbformat": 4,
 "nbformat_minor": 5
}
