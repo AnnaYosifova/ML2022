{
 "cells": [
  {
   "cell_type": "markdown",
   "metadata": {},
   "source": [
    "## Сбор данных (создание веб-краулера) с сайта \"Яндекс Дзен\""
   ]
  },
  {
   "cell_type": "code",
   "execution_count": 42,
   "metadata": {},
   "outputs": [],
   "source": [
    "import requests\n",
    "from bs4 import BeautifulSoup\n",
    "import json\n",
    "import re\n",
    "import pandas as pd\n",
    "from datetime import datetime, timedelta\n",
    "from sqlalchemy import create_engine\n",
    "import traceback\n",
    "\n",
    "cookies = {\n",
    "    'news_lang': 'ru',\n",
    "    'nc': 'tips=1669116675432%3Bfavorites-button:1',\n",
    "    'sso_checked': '1',\n",
    "    'yandex_login': '',\n",
    "    'yandexuid': '4418883751668766953',\n",
    "    '_yasc': 'bvYHi8GFr6wiVgwnzIGbRxV1jmn9isOWGNAJOxGLT7gEOCeBN0eS96hYsvk=',\n",
    "    '_ym_uid': '16687727324320845',\n",
    "    '_ym_d': '1668772732',\n",
    "    'vid': 'c4a038b4868be81c',\n",
    "    'Session_id': 'noauth:1669019784',\n",
    "    'mda2_beacon': '1669019784785',\n",
    "    '_ym_isad': '2',\n",
    "    'tmr_lvid': '52390132f1b93bbd91c4c20fb582a7b7',\n",
    "    'tmr_lvidTS': '1668772731725',\n",
    "    'tmr_detect': '0%7C1669277547765',\n",
    "}\n",
    "\n",
    "headers = {\n",
    "    'Accept': 'text/html,application/xhtml+xml,application/xml;q=0.9,image/avif,image/webp,image/apng,*/*;q=0.8,application/signed-exchange;v=b3;q=0.9',\n",
    "    'Accept-Language': 'ru-RU,ru;q=0.9,en-US;q=0.8,en;q=0.7',\n",
    "    'Cache-Control': 'max-age=0',\n",
    "    'Connection': 'keep-alive',\n",
    "    # Requests sorts cookies= alphabetically\n",
    "    # 'Cookie': 'news_lang=ru; nc=tips=1669116675432%3Bfavorites-button:1; sso_checked=1; yandex_login=; yandexuid=4418883751668766953; _yasc=bvYHi8GFr6wiVgwnzIGbRxV1jmn9isOWGNAJOxGLT7gEOCeBN0eS96hYsvk=; _ym_uid=16687727324320845; _ym_d=1668772732; vid=c4a038b4868be81c; Session_id=noauth:1669019784; mda2_beacon=1669019784785; _ym_isad=2; tmr_lvid=52390132f1b93bbd91c4c20fb582a7b7; tmr_lvidTS=1668772731725; tmr_detect=0%7C1669277547765',\n",
    "    'Referer': 'https://dzen.ru/news?issue_tld=ru',\n",
    "    'Sec-Fetch-Dest': 'document',\n",
    "    'Sec-Fetch-Mode': 'navigate',\n",
    "    'Sec-Fetch-Site': 'same-origin',\n",
    "    'Sec-Fetch-User': '?1',\n",
    "    'Upgrade-Insecure-Requests': '1',\n",
    "    'User-Agent': 'Mozilla/5.0 (Windows NT 10.0; Win64; x64) AppleWebKit/537.36 (KHTML, like Gecko) Chrome/107.0.0.0 Safari/537.36',\n",
    "    'sec-ch-ua': '\"Google Chrome\";v=\"107\", \"Chromium\";v=\"107\", \"Not=A?Brand\";v=\"24\"',\n",
    "    'sec-ch-ua-mobile': '?0',\n",
    "    'sec-ch-ua-platform': '\"Windows\"',\n",
    "}\n",
    "\n",
    "# Функция для обработки и вывода времени\n",
    "def parse_date(s_date):\n",
    "    months = {'января': '01',\n",
    "              'февраля': '02',\n",
    "              'марта': '03',\n",
    "              'апреля': '04',\n",
    "              'мая': '05',\n",
    "              'июня': '06',\n",
    "              'июля': '07',\n",
    "              'августа': '08',\n",
    "              'сентября': '09',\n",
    "              'октября': '10',\n",
    "              'ноября': '11',\n",
    "              'декабря': '12',\n",
    "              }\n",
    "    \n",
    "    row_date = s_date.split(' в')[0]\n",
    "    month_ = row_date.split(' ')[1].strip(' ')\n",
    "    date_num = re.search(r'\\d{2}', row_date).group(0)\n",
    "    date = f\"{date_num}.{months[month_]}.2022\"\n",
    "    return date"
   ]
  },
  {
   "cell_type": "markdown",
   "metadata": {},
   "source": [
    "### Сбор новостей по рубрикам"
   ]
  },
  {
   "cell_type": "code",
   "execution_count": 43,
   "metadata": {
    "scrolled": false
   },
   "outputs": [],
   "source": [
    "def parse_rubrics():\n",
    "    rubrics = ['Политика', 'Армия и оружие', 'Общество', 'ЖКХ', 'Религия', 'Экология', 'Здоровье', 'Путешествия', \n",
    "               'Транспорт', 'Экономика', 'Энергетика', 'Недвижимость', 'Финансы', 'В мире', 'Спорт', 'Автоспорт',\n",
    "               'Баскетбол', 'Футбол', 'Хоккей', 'Фигурное катание', 'Происшествия', 'Культура', 'Театры', 'Музыка',\n",
    "               'Кино', 'Технологии', 'Игры', 'Гаджеты', 'Интернет', 'Наука', 'Космос']\n",
    "    rubrics_links = ['rubric/politics', 'rubric/army', 'rubric/society', 'rubric/communal', 'rubric/religion',\n",
    "                     'rubric/ecology', 'rubric/health', 'rubric/travels', 'rubric/vehicle',  'rubric/business',\n",
    "                     'rubric/energy', 'rubric/realty', 'rubric/finances', 'rubric/world', 'rubric/sport',\n",
    "                     'rubric/auto_racing', 'rubric/basketball', 'rubric/football', 'rubric/hockey',\n",
    "                     'rubric/figure_skating', 'rubric/incident', 'rubric/culture', 'rubric/theaters',\n",
    "                     'rubric/music', 'rubric/movies', 'rubric/computers', 'rubric/games', 'rubric/gadgets',\n",
    "                     'rubric/internet', 'rubric/science', 'rubric/cosmos']\n",
    "\n",
    "    rubricsAndLinks = list(zip(rubrics, rubrics_links))\n",
    "    df_rubricsAndLinks = pd.DataFrame(rubricsAndLinks, columns=['rubric', 'rubric_link'])\n",
    "\n",
    "    session = requests.Session()\n",
    "    session.headers.update(headers)\n",
    "    session.cookies.update(cookies)\n",
    "\n",
    "    dates = []\n",
    "    times = []\n",
    "    data = []\n",
    "    stories = []\n",
    "\n",
    "    for i, row in df_rubricsAndLinks.iterrows():\n",
    "        link = row['rubric_link']\n",
    "        r = session.get(f'https://dzen.ru/news/{link}?issue_tld=ru')\n",
    "\n",
    "        soup = BeautifulSoup(r.text)\n",
    "        script_text = soup.find_all('script')[3].contents[0]\n",
    "        data = json.loads(re.search(r\"window.Ya.Neo.dataSource=({.*?});\", script_text, flags=re.S).group(1))\n",
    "\n",
    "        story_rubric = row['rubric']\n",
    "    \n",
    "        for stories_top in data['news']['top']:\n",
    "        \n",
    "            story_id = stories_top['id']\n",
    "            story_title = stories_top['title']\n",
    "            story_annotation = stories_top['annotation']\n",
    "            story_url = stories_top['url']\n",
    "            instory_url = story_url.replace('/story/', '/instory/')\n",
    "            story_time = stories_top['time']\n",
    "            if 'вчера' in story_time:\n",
    "                date = (datetime.now() - timedelta(days=1)).strftime('%d.%m.%Y')\n",
    "                time = re.search(r'(?<=вчера в )\\d{2}:\\d{2}', story_time).group(0)\n",
    "                story_time = f'{date} {time}'\n",
    "            elif re.search(r'\\d{2} \\w+ \\w+ \\d{2}:\\d{2}', story_time) is not None:\n",
    "                date = parse_date(story_time)\n",
    "                time = re.search(r'\\d{2}:\\d{2}', story_time).group(0)\n",
    "                story_time = f'{date} {time}'\n",
    "            else:\n",
    "                date = datetime.now().strftime('%d.%m.%Y')\n",
    "                time = re.search(r'\\d{2}:\\d{2}', story_time).group(0)\n",
    "                story_time = f'{date} {time}'\n",
    "        \n",
    "            stories.append([story_rubric, story_id, story_title, story_annotation, story_url, instory_url, story_time])\n",
    "    \n",
    "        for stories_feed in data['news']['feed']:\n",
    "        \n",
    "            story_id = stories_feed['id']\n",
    "            story_title = stories_feed['title']\n",
    "            story_annotation = stories_feed['annotation']\n",
    "            story_url = stories_feed['url']\n",
    "            instory_url = story_url.replace('/story/', '/instory/')\n",
    "            story_time = stories_feed['time']\n",
    "            if 'вчера' in story_time:\n",
    "                date = (datetime.now() - timedelta(days=1)).strftime('%d.%m.%Y')\n",
    "                time = re.search(r'(?<=вчера в )\\d{2}:\\d{2}', story_time).group(0)\n",
    "                story_time = f'{date} {time}'\n",
    "            elif re.search(r'\\d{2} \\w+ \\w+ \\d{2}:\\d{2}', story_time) is not None:\n",
    "                date = parse_date(story_time)\n",
    "                time = re.search(r'\\d{2}:\\d{2}', story_time).group(0)\n",
    "                story_time = f'{date} {time}'\n",
    "            else:\n",
    "                date = datetime.now().strftime('%d.%m.%Y')\n",
    "                time = re.search(r'\\d{2}:\\d{2}', story_time).group(0)\n",
    "                story_time = f'{date} {time}'\n",
    "        \n",
    "            stories.append([story_rubric, story_id, story_title, story_annotation, story_url, instory_url, story_time])\n",
    "    \n",
    "    \n",
    "    story_headers = ['rubric', 'id', 'title', 'annotation', 'story_url', 'instory_url', 'time']\n",
    "    df_stories = pd.DataFrame(stories, columns=story_headers)\n",
    "\n",
    "    return df_stories"
   ]
  },
  {
   "cell_type": "markdown",
   "metadata": {},
   "source": [
    "### Сбор похожих новостей при переходе к каждой новости (instory)"
   ]
  },
  {
   "cell_type": "code",
   "execution_count": 44,
   "metadata": {},
   "outputs": [],
   "source": [
    "def parse_main():\n",
    "    df_stories = parse_rubrics()\n",
    "    df_instory = df_stories[['rubric', 'id', 'instory_url']]\n",
    "    more_stories = []\n",
    "    \n",
    "    session = requests.Session()\n",
    "    session.headers.update(headers)\n",
    "    session.cookies.update(cookies)\n",
    "\n",
    "    for i, row in df_stories.iterrows():\n",
    "        url = row['instory_url']\n",
    "        more = session.get(url)\n",
    "        more_soup = BeautifulSoup(more.text)\n",
    "        more_script_text = more_soup.find_all('script')[3].contents[0]\n",
    "        more_data = json.loads(re.search(r\"window.Ya.Neo.dataSource=({.*?});\", more_script_text, flags=re.S).group(1))\n",
    "                               \n",
    "        more_info = more_data['news']['instoryPage'][0]\n",
    "        docs = more_info['docs']\n",
    "    \n",
    "        more_rubric = row['rubric']\n",
    "        more_idMain = row['id']\n",
    "        more_instoryUrl = row['instory_url']\n",
    "            \n",
    "        for doc in docs:\n",
    "        \n",
    "            more_id = doc['docId']\n",
    "            more_title = doc['title'][0]['text']  \n",
    "            more_text = doc['text'][0]['text'] \n",
    "            more_source = doc['sourceName']\n",
    "            more_url = doc['url']\n",
    "            more_time = doc['time']\n",
    "            if 'вчера' in more_time:\n",
    "                date = (datetime.now() - timedelta(days=1)).strftime('%d.%m.%Y')\n",
    "                time = re.search(r'(?<=вчера в )\\d{2}:\\d{2}', more_time).group(0)\n",
    "                more_time = f'{date} {time}'\n",
    "            elif re.search(r'\\d{2} \\w+ \\w+ \\d{2}:\\d{2}', more_time) is not None:\n",
    "                date = parse_date(more_time)\n",
    "                time = re.search(r'\\d{2}:\\d{2}', more_time).group(0)\n",
    "                more_time = f'{date} {time}'\n",
    "            else:\n",
    "                date = datetime.now().strftime('%d.%m.%Y')\n",
    "                time = re.search(r'\\d{2}:\\d{2}', more_time).group(0)\n",
    "                more_time = f'{date} {time}'\n",
    "   \n",
    "            more_stories.append([more_rubric, more_idMain, more_title, more_text, more_source, more_instoryUrl, more_url, more_time])\n",
    "            \n",
    "    more_stories_headers = ['rubric', 'story_id', 'title', 'text', 'sourceName', 'instory_url', 'url', 'time']\n",
    "    df_more_stories = pd.DataFrame(more_stories, columns=more_stories_headers)\n",
    "    \n",
    "    main_rubrics = []\n",
    "    for i, row in df_more_stories.iterrows():\n",
    "        if row['rubric'] == 'Политика' or row['rubric'] == 'Армия и оружие':\n",
    "            main_rubric = 'Политика'\n",
    "        elif row['rubric'] == 'Общество' or row['rubric'] == 'ЖКХ' or row['rubric'] == 'Религия' or row['rubric'] == 'Экология' or row['rubric'] == 'Здоровье' or row['rubric'] == 'Путешествия' or row['rubric'] == 'Транспорт':\n",
    "            main_rubric = 'Общество'\n",
    "        elif row['rubric'] == 'Экономика' or row['rubric'] == 'Энергетика' or row['rubric'] == 'Недвижимость' or row['rubric'] == 'Финансы':\n",
    "            main_rubric = 'Экономика'\n",
    "        elif row['rubric'] == 'В мире':\n",
    "            main_rubric = 'В мире'\n",
    "        elif row['rubric'] == 'Спорт' or row['rubric'] == 'Автоспорт' or row['rubric'] == 'Баскетбол' or row['rubric'] == 'Футбол' or row['rubric'] == 'Хоккей' or row['rubric'] == 'Фигурное катание':\n",
    "            main_rubric = 'Спорт'\n",
    "        elif row['rubric'] == 'Происшествия':\n",
    "            main_rubric = 'Происшествия'\n",
    "        elif row['rubric'] == 'Культура' or row['rubric'] == 'Театры' or row['rubric'] == 'Музыка' or row['rubric'] == 'Кино':\n",
    "            main_rubric = 'Культура'\n",
    "        elif row['rubric'] == 'Технологии' or row['rubric'] == 'Игры' or row['rubric'] == 'Гаджеты' or row['rubric'] == 'Интернет':\n",
    "            main_rubric = 'Технологии'\n",
    "        elif row['rubric'] == 'Наука' or row['rubric'] == 'Космос':\n",
    "            main_rubric = 'Наука'\n",
    "        else:\n",
    "            main_rubric = 'Другое'\n",
    "        \n",
    "        main_rubrics.append(main_rubric)\n",
    "                             \n",
    "    df_more_stories.insert(loc=0, column='main_rubric', value=main_rubrics)\n",
    "    return df_more_stories"
   ]
  },
  {
   "cell_type": "markdown",
   "metadata": {},
   "source": [
    "## Разведочный анализ данных"
   ]
  },
  {
   "cell_type": "code",
   "execution_count": 45,
   "metadata": {},
   "outputs": [
    {
     "name": "stdout",
     "output_type": "stream",
     "text": [
      "CPU times: user 35 s, sys: 1.85 s, total: 36.8 s\n",
      "Wall time: 2min 56s\n"
     ]
    }
   ],
   "source": [
    "%%time\n",
    "df_parse = parse_main()\n",
    "df_nlp = df_parse.loc[:, ['main_rubric','rubric','title','text']]\n",
    "\n",
    "#df_nlp"
   ]
  },
  {
   "cell_type": "code",
   "execution_count": 46,
   "metadata": {},
   "outputs": [
    {
     "name": "stdout",
     "output_type": "stream",
     "text": [
      "<class 'pandas.core.frame.DataFrame'>\n",
      "RangeIndex: 3659 entries, 0 to 3658\n",
      "Data columns (total 4 columns):\n",
      " #   Column       Non-Null Count  Dtype \n",
      "---  ------       --------------  ----- \n",
      " 0   main_rubric  3659 non-null   object\n",
      " 1   rubric       3659 non-null   object\n",
      " 2   title        3659 non-null   object\n",
      " 3   text         3659 non-null   object\n",
      "dtypes: object(4)\n",
      "memory usage: 114.5+ KB\n"
     ]
    }
   ],
   "source": [
    "# Информация о данных\n",
    "df_nlp.info()"
   ]
  },
  {
   "cell_type": "code",
   "execution_count": 47,
   "metadata": {},
   "outputs": [
    {
     "data": {
      "text/plain": [
       "main_rubric    0\n",
       "rubric         0\n",
       "title          0\n",
       "text           0\n",
       "dtype: int64"
      ]
     },
     "execution_count": 47,
     "metadata": {},
     "output_type": "execute_result"
    }
   ],
   "source": [
    "# Кол-во пропусков во всем датафрейме\n",
    "df_nlp.isnull().sum()"
   ]
  },
  {
   "cell_type": "markdown",
   "metadata": {},
   "source": [
    "<div class=\"alert alert-success\"><b>Пропусков в данных нет</b>"
   ]
  },
  {
   "cell_type": "code",
   "execution_count": 48,
   "metadata": {},
   "outputs": [
    {
     "data": {
      "text/plain": [
       "Происшествия        0.115879\n",
       "Армия и оружие      0.073517\n",
       "Здоровье            0.039355\n",
       "Политика            0.037989\n",
       "Общество            0.036895\n",
       "В мире              0.036075\n",
       "Экономика           0.035802\n",
       "Транспорт           0.031703\n",
       "Наука               0.031703\n",
       "Культура            0.031429\n",
       "Футбол              0.031429\n",
       "Технологии          0.031156\n",
       "Спорт               0.031156\n",
       "Путешествия         0.030609\n",
       "Гаджеты             0.030609\n",
       "Финансы             0.029790\n",
       "Энергетика          0.028150\n",
       "Хоккей              0.027876\n",
       "Космос              0.027603\n",
       "Фигурное катание    0.027330\n",
       "Музыка              0.026783\n",
       "ЖКХ                 0.026783\n",
       "Игры                0.026237\n",
       "Кино                0.024870\n",
       "Автоспорт           0.022957\n",
       "Недвижимость        0.022684\n",
       "Театры              0.022137\n",
       "Баскетбол           0.019678\n",
       "Интернет            0.017764\n",
       "Религия             0.016671\n",
       "Экология            0.007379\n",
       "Name: rubric, dtype: float64"
      ]
     },
     "execution_count": 48,
     "metadata": {},
     "output_type": "execute_result"
    }
   ],
   "source": [
    "# Статистика распределения значений в столбце rubric в % виде\n",
    "df_nlp['rubric'].value_counts(normalize=True)"
   ]
  },
  {
   "cell_type": "code",
   "execution_count": 49,
   "metadata": {},
   "outputs": [
    {
     "data": {
      "text/plain": [
       "Общество        0.189396\n",
       "Спорт           0.160426\n",
       "Экономика       0.116425\n",
       "Происшествия    0.115879\n",
       "Политика        0.111506\n",
       "Технологии      0.105767\n",
       "Культура        0.105220\n",
       "Наука           0.059306\n",
       "В мире          0.036075\n",
       "Name: main_rubric, dtype: float64"
      ]
     },
     "execution_count": 49,
     "metadata": {},
     "output_type": "execute_result"
    }
   ],
   "source": [
    "# Статистика распределения этих значений в столбце main_rubric в % виде\n",
    "df_nlp['main_rubric'].value_counts(normalize=True)"
   ]
  },
  {
   "cell_type": "code",
   "execution_count": 50,
   "metadata": {},
   "outputs": [
    {
     "name": "stdout",
     "output_type": "stream",
     "text": [
      "Кол-во уникальных значений:  31\n",
      "Список уникальных значений:  ['Политика' 'Армия и оружие' 'Общество' 'ЖКХ' 'Религия' 'Экология'\n",
      " 'Здоровье' 'Путешествия' 'Транспорт' 'Экономика' 'Энергетика'\n",
      " 'Недвижимость' 'Финансы' 'В мире' 'Спорт' 'Автоспорт' 'Баскетбол'\n",
      " 'Футбол' 'Хоккей' 'Фигурное катание' 'Происшествия' 'Культура' 'Театры'\n",
      " 'Музыка' 'Кино' 'Технологии' 'Игры' 'Гаджеты' 'Интернет' 'Наука' 'Космос']\n",
      "Статистика распределения значений:  Происшествия        424\n",
      "Армия и оружие      269\n",
      "Здоровье            144\n",
      "Политика            139\n",
      "Общество            135\n",
      "В мире              132\n",
      "Экономика           131\n",
      "Транспорт           116\n",
      "Наука               116\n",
      "Культура            115\n",
      "Футбол              115\n",
      "Технологии          114\n",
      "Спорт               114\n",
      "Путешествия         112\n",
      "Гаджеты             112\n",
      "Финансы             109\n",
      "Энергетика          103\n",
      "Хоккей              102\n",
      "Космос              101\n",
      "Фигурное катание    100\n",
      "Музыка               98\n",
      "ЖКХ                  98\n",
      "Игры                 96\n",
      "Кино                 91\n",
      "Автоспорт            84\n",
      "Недвижимость         83\n",
      "Театры               81\n",
      "Баскетбол            72\n",
      "Интернет             65\n",
      "Религия              61\n",
      "Экология             27\n",
      "Name: rubric, dtype: int64\n"
     ]
    }
   ],
   "source": [
    "# Исследование столбца rubric\n",
    "print('Кол-во уникальных значений: ', df_nlp['rubric'].nunique())\n",
    "print('Список уникальных значений: ', df_nlp['rubric'].unique())\n",
    "print('Статистика распределения значений: ', df_nlp['rubric'].value_counts(normalize=False))"
   ]
  },
  {
   "cell_type": "code",
   "execution_count": 51,
   "metadata": {},
   "outputs": [
    {
     "name": "stdout",
     "output_type": "stream",
     "text": [
      "Кол-во уникальных значений:  9\n",
      "Список уникальных значений:  ['Политика' 'Общество' 'Экономика' 'В мире' 'Спорт' 'Происшествия'\n",
      " 'Культура' 'Технологии' 'Наука']\n",
      "Статистика распределения значений:  Общество        693\n",
      "Спорт           587\n",
      "Экономика       426\n",
      "Происшествия    424\n",
      "Политика        408\n",
      "Технологии      387\n",
      "Культура        385\n",
      "Наука           217\n",
      "В мире          132\n",
      "Name: main_rubric, dtype: int64\n"
     ]
    }
   ],
   "source": [
    "# Исследование столбца main_rubric\n",
    "print('Кол-во уникальных значений: ', df_nlp['main_rubric'].nunique())\n",
    "print('Список уникальных значений: ', df_nlp['main_rubric'].unique())\n",
    "print('Статистика распределения значений: ', df_nlp['main_rubric'].value_counts(normalize=False))"
   ]
  },
  {
   "cell_type": "markdown",
   "metadata": {},
   "source": [
    "<div class=\"alert alert-success\"><b>Вывод: вид задачи - многоклассовая классификация</b>"
   ]
  },
  {
   "cell_type": "code",
   "execution_count": 52,
   "metadata": {},
   "outputs": [
    {
     "data": {
      "text/html": [
       "<div>\n",
       "<style scoped>\n",
       "    .dataframe tbody tr th:only-of-type {\n",
       "        vertical-align: middle;\n",
       "    }\n",
       "\n",
       "    .dataframe tbody tr th {\n",
       "        vertical-align: top;\n",
       "    }\n",
       "\n",
       "    .dataframe thead th {\n",
       "        text-align: right;\n",
       "    }\n",
       "</style>\n",
       "<table border=\"1\" class=\"dataframe\">\n",
       "  <thead>\n",
       "    <tr style=\"text-align: right;\">\n",
       "      <th></th>\n",
       "      <th>count</th>\n",
       "      <th>unique</th>\n",
       "      <th>top</th>\n",
       "      <th>freq</th>\n",
       "    </tr>\n",
       "  </thead>\n",
       "  <tbody>\n",
       "    <tr>\n",
       "      <th>main_rubric</th>\n",
       "      <td>3659</td>\n",
       "      <td>9</td>\n",
       "      <td>Общество</td>\n",
       "      <td>693</td>\n",
       "    </tr>\n",
       "    <tr>\n",
       "      <th>rubric</th>\n",
       "      <td>3659</td>\n",
       "      <td>31</td>\n",
       "      <td>Происшествия</td>\n",
       "      <td>424</td>\n",
       "    </tr>\n",
       "    <tr>\n",
       "      <th>title</th>\n",
       "      <td>3659</td>\n",
       "      <td>3197</td>\n",
       "      <td>Два человека погибли при пожаре на нефтеперера...</td>\n",
       "      <td>5</td>\n",
       "    </tr>\n",
       "    <tr>\n",
       "      <th>text</th>\n",
       "      <td>3659</td>\n",
       "      <td>3253</td>\n",
       "      <td>Кроме свежих кадров игрового процесса, ролик п...</td>\n",
       "      <td>4</td>\n",
       "    </tr>\n",
       "  </tbody>\n",
       "</table>\n",
       "</div>"
      ],
      "text/plain": [
       "            count unique                                                top  \\\n",
       "main_rubric  3659      9                                           Общество   \n",
       "rubric       3659     31                                       Происшествия   \n",
       "title        3659   3197  Два человека погибли при пожаре на нефтеперера...   \n",
       "text         3659   3253  Кроме свежих кадров игрового процесса, ролик п...   \n",
       "\n",
       "            freq  \n",
       "main_rubric  693  \n",
       "rubric       424  \n",
       "title          5  \n",
       "text           4  "
      ]
     },
     "execution_count": 52,
     "metadata": {},
     "output_type": "execute_result"
    }
   ],
   "source": [
    "# Описательная статистика для всех признаков \n",
    "df_nlp.describe().T"
   ]
  },
  {
   "cell_type": "markdown",
   "metadata": {},
   "source": [
    "### Визульный анализ"
   ]
  },
  {
   "cell_type": "code",
   "execution_count": 53,
   "metadata": {
    "scrolled": false
   },
   "outputs": [
    {
     "data": {
      "text/plain": [
       "<AxesSubplot:>"
      ]
     },
     "execution_count": 53,
     "metadata": {},
     "output_type": "execute_result"
    },
    {
     "data": {
      "image/png": "[encoded data removed]",
      "text/plain": [
       "<Figure size 640x480 with 1 Axes>"
      ]
     },
     "metadata": {},
     "output_type": "display_data"
    }
   ],
   "source": [
    "# Горизонтальная столбчатая диаграмма для столбца rubric\n",
    "df_nlp['rubric'].value_counts(normalize=True).plot.barh()"
   ]
  },
  {
   "cell_type": "code",
   "execution_count": 54,
   "metadata": {},
   "outputs": [
    {
     "data": {
      "text/plain": [
       "<AxesSubplot:>"
      ]
     },
     "execution_count": 54,
     "metadata": {},
     "output_type": "execute_result"
    },
    {
     "data": {
      "image/png": "[encoded data removed]",
      "text/plain": [
       "<Figure size 640x480 with 1 Axes>"
      ]
     },
     "metadata": {},
     "output_type": "display_data"
    }
   ],
   "source": [
    "# Горизонтальная столбчатая диаграмма для столбца main_rubric\n",
    "df_nlp['main_rubric'].value_counts(normalize=True).plot.barh()"
   ]
  },
  {
   "cell_type": "code",
   "execution_count": 55,
   "metadata": {},
   "outputs": [
    {
     "data": {
      "text/plain": [
       "Происшествия        424\n",
       "Армия и оружие      269\n",
       "Здоровье            144\n",
       "Политика            139\n",
       "Общество            135\n",
       "В мире              132\n",
       "Экономика           131\n",
       "Транспорт           116\n",
       "Наука               116\n",
       "Культура            115\n",
       "Футбол              115\n",
       "Технологии          114\n",
       "Спорт               114\n",
       "Путешествия         112\n",
       "Гаджеты             112\n",
       "Финансы             109\n",
       "Энергетика          103\n",
       "Хоккей              102\n",
       "Космос              101\n",
       "Фигурное катание    100\n",
       "Музыка               98\n",
       "ЖКХ                  98\n",
       "Игры                 96\n",
       "Кино                 91\n",
       "Автоспорт            84\n",
       "Недвижимость         83\n",
       "Театры               81\n",
       "Баскетбол            72\n",
       "Интернет             65\n",
       "Религия              61\n",
       "Экология             27\n",
       "Name: rubric, dtype: int64"
      ]
     },
     "execution_count": 55,
     "metadata": {},
     "output_type": "execute_result"
    }
   ],
   "source": [
    "df_nlp['rubric'].value_counts()"
   ]
  },
  {
   "cell_type": "code",
   "execution_count": 56,
   "metadata": {},
   "outputs": [
    {
     "data": {
      "text/plain": [
       "Общество        693\n",
       "Спорт           587\n",
       "Экономика       426\n",
       "Происшествия    424\n",
       "Политика        408\n",
       "Технологии      387\n",
       "Культура        385\n",
       "Наука           217\n",
       "В мире          132\n",
       "Name: main_rubric, dtype: int64"
      ]
     },
     "execution_count": 56,
     "metadata": {},
     "output_type": "execute_result"
    }
   ],
   "source": [
    "df_nlp['main_rubric'].value_counts()"
   ]
  },
  {
   "cell_type": "markdown",
   "metadata": {},
   "source": [
    "## Обработка естественного языка NLP"
   ]
  },
  {
   "cell_type": "markdown",
   "metadata": {},
   "source": [
    "Действия, выполняемые в процессе:\n",
    "\n",
    "* удаление пробельных символов;\n",
    "* стемминг;\n",
    "* удаление стоп-слов;\n",
    "* лемматизация."
   ]
  },
  {
   "cell_type": "code",
   "execution_count": 57,
   "metadata": {},
   "outputs": [],
   "source": [
    "# Функция для удаления пробельных символов\n",
    "import string\n",
    "import re\n",
    "from nltk.corpus import stopwords\n",
    "\n",
    "def remove_punctuation(text):\n",
    "    return \"\".join([ch if ch not in string.punctuation else ' ' for ch in text])\n",
    "def remove_numbers(text):\n",
    "    return ''.join([i if not i.isdigit() else ' ' for i in text])\n",
    "def remove_multiple_spaces(text):\n",
    "    return re.sub(r'\\s+', ' ', text, flags=re.I)\n",
    "\n",
    "def delete_char(): \n",
    "    prep_text = [remove_multiple_spaces(remove_numbers(remove_punctuation(text.lower()))) for text in df_nlp['text']]\n",
    "    prep_title = [remove_multiple_spaces(remove_numbers(remove_punctuation(text.lower()))) for text in df_nlp['title']]\n",
    "    df_nlp[\"text_prep\"] = prep_text\n",
    "    df_nlp[\"title_prep\"] = prep_title\n",
    "    return df_nlp\n",
    "\n",
    "\n",
    "#Функция для стемматизации\n",
    "import nltk\n",
    "from nltk.stem.snowball import SnowballStemmer\n",
    "from nltk.corpus import stopwords\n",
    "from nltk import word_tokenize\n",
    "\n",
    "def stemmed_text():\n",
    "    stemmer = SnowballStemmer(\"russian\")\n",
    "    russian_stopwords = stopwords.words(\"russian\")\n",
    "    russian_stopwords.extend(['…', '...', 'т.д.', 'т', 'д', '«', '»'])\n",
    "\n",
    "    stemmed_texts_list = []\n",
    "    stemmed_titles_list = []\n",
    "    \n",
    "    for text in df_nlp[\"text_prep\"]:\n",
    "        tokens = word_tokenize(text)\n",
    "        stemmed_tokens = [stemmer.stem(token) for token in tokens if token not in russian_stopwords]\n",
    "        text = \" \".join(stemmed_tokens)\n",
    "        stemmed_texts_list.append(text)\n",
    "    \n",
    "    df_nlp[\"text_stem\"] = stemmed_texts_list\n",
    "    \n",
    "    for text in df_nlp[\"title_prep\"]:\n",
    "        tokens = word_tokenize(text)\n",
    "        stemmed_tokens = [stemmer.stem(token) for token in tokens if token not in russian_stopwords]\n",
    "        text = \" \".join(stemmed_tokens)\n",
    "        stemmed_titles_list.append(text)\n",
    "    \n",
    "    df_nlp[\"title_stem\"] = stemmed_titles_list\n",
    "    \n",
    "    return df_nlp\n",
    "\n",
    "\n",
    "#Функция для удаления стоп-слов\n",
    "from nltk import word_tokenize\n",
    "\n",
    "def stopword_text():\n",
    "    russian_stopwords = stopwords.words(\"russian\")\n",
    "    russian_stopwords.extend(['…', '...', 'т.д.', 'т', 'д', '«', '»'])\n",
    "    \n",
    "    sw_texts_list = []\n",
    "    sw_titles_list = []\n",
    "    \n",
    "    for text in df_nlp['text_prep']:\n",
    "        tokens = word_tokenize(text)\n",
    "        tokens = [token for token in tokens if token not in russian_stopwords and token != ' ']\n",
    "        text = \" \".join(tokens)\n",
    "        sw_texts_list.append(text)\n",
    "\n",
    "    df_nlp[\"text_sw\"] = sw_texts_list\n",
    "    \n",
    "    for text in df_nlp['title_prep']:\n",
    "        tokens = word_tokenize(text)\n",
    "        tokens = [token for token in tokens if token not in russian_stopwords and token != ' ']\n",
    "        text = \" \".join(tokens)\n",
    "        sw_titles_list.append(text)\n",
    "        \n",
    "    df_nlp[\"title_sw\"] = sw_titles_list\n",
    "    \n",
    "    return df_nlp\n",
    "\n",
    "\n",
    "#Функция для лемматизации\n",
    "from pymystem3 import Mystem\n",
    "\n",
    "def lemmatize_text():\n",
    "    mystem = Mystem()\n",
    "    \n",
    "    lemm_texts_list = []\n",
    "    lemm_titles_list = []\n",
    "    \n",
    "    russian_stopwords = stopwords.words(\"russian\")\n",
    "    russian_stopwords.extend(['…', '...', 'т.д.', 'т', 'д', '«', '»'])\n",
    "    text1 = \"\"\n",
    "    text2 = \"\"\n",
    "\n",
    "    text_list = df_nlp['text_sw'].to_list()\n",
    "    text_join = \"joining\".join(text_list)\n",
    "    \n",
    "    title_list = df_nlp['title_sw'].to_list()\n",
    "    title_join = \"joining\".join(title_list)\n",
    "\n",
    "    try:\n",
    "        text_lem = mystem.lemmatize(text_join)\n",
    "        tokens1 = [token for token in text_lem if token != ' ' and token not in russian_stopwords]\n",
    "        text1 = \" \".join(tokens1)\n",
    "        \n",
    "        title_lem = mystem.lemmatize(title_join)\n",
    "        tokens2 = [token for token in title_lem if token != ' ' and token not in russian_stopwords]\n",
    "        text2 = \" \".join(tokens2)\n",
    "        \n",
    "    except Exception as e:\n",
    "        print(e)\n",
    "\n",
    "    text1_split = text1.split(\"joining\")\n",
    "    df_nlp[\"text_lemm\"] = text1_split\n",
    "    text2_split = text2.split(\"joining\")\n",
    "    df_nlp[\"title_lemm\"] = text2_split\n",
    "    \n",
    "    return df_nlp\n",
    "\n",
    "    \n",
    "#Функция для балансировки классов\n",
    "def nlp(df):\n",
    "    df_pr = df.loc[df['main_rubric'] == 'Происшествия'].head(200)\n",
    "    df_other = df.loc[df['main_rubric'] != 'Происшествия']\n",
    "    df = pd.concat([df_pr, df_other])\n",
    "    return df"
   ]
  },
  {
   "cell_type": "code",
   "execution_count": 58,
   "metadata": {},
   "outputs": [
    {
     "data": {
      "text/html": [
       "<div>\n",
       "<style scoped>\n",
       "    .dataframe tbody tr th:only-of-type {\n",
       "        vertical-align: middle;\n",
       "    }\n",
       "\n",
       "    .dataframe tbody tr th {\n",
       "        vertical-align: top;\n",
       "    }\n",
       "\n",
       "    .dataframe thead th {\n",
       "        text-align: right;\n",
       "    }\n",
       "</style>\n",
       "<table border=\"1\" class=\"dataframe\">\n",
       "  <thead>\n",
       "    <tr style=\"text-align: right;\">\n",
       "      <th></th>\n",
       "      <th>main_rubric</th>\n",
       "      <th>rubric</th>\n",
       "      <th>title</th>\n",
       "      <th>text</th>\n",
       "    </tr>\n",
       "  </thead>\n",
       "  <tbody>\n",
       "    <tr>\n",
       "      <th>2246</th>\n",
       "      <td>Происшествия</td>\n",
       "      <td>Происшествия</td>\n",
       "      <td>Военкор Котенок сообщил о двух сериях взрывов ...</td>\n",
       "      <td>В Харькове в четверг прогремели две серии взры...</td>\n",
       "    </tr>\n",
       "    <tr>\n",
       "      <th>2247</th>\n",
       "      <td>Происшествия</td>\n",
       "      <td>Происшествия</td>\n",
       "      <td>Военкор Котенок сообщил о двух сериях взрывов ...</td>\n",
       "      <td>В Харькове произошли две серии взрывов, сообщи...</td>\n",
       "    </tr>\n",
       "    <tr>\n",
       "      <th>2248</th>\n",
       "      <td>Происшествия</td>\n",
       "      <td>Происшествия</td>\n",
       "      <td>Чиновников подозревают в незаконном строительс...</td>\n",
       "      <td>Уголовное дело возбуждено в отношении высокопо...</td>\n",
       "    </tr>\n",
       "    <tr>\n",
       "      <th>2249</th>\n",
       "      <td>Происшествия</td>\n",
       "      <td>Происшествия</td>\n",
       "      <td>За систематическое получение взяток арестовали...</td>\n",
       "      <td>В ходе следствия были выведены несколько пункт...</td>\n",
       "    </tr>\n",
       "    <tr>\n",
       "      <th>2250</th>\n",
       "      <td>Происшествия</td>\n",
       "      <td>Происшествия</td>\n",
       "      <td>За регулярное получение взяток арестованы подм...</td>\n",
       "      <td>Чиновники в Подмосковье арестованы за регулярн...</td>\n",
       "    </tr>\n",
       "    <tr>\n",
       "      <th>...</th>\n",
       "      <td>...</td>\n",
       "      <td>...</td>\n",
       "      <td>...</td>\n",
       "      <td>...</td>\n",
       "    </tr>\n",
       "    <tr>\n",
       "      <th>3654</th>\n",
       "      <td>Наука</td>\n",
       "      <td>Космос</td>\n",
       "      <td>МК: На корабле «Союз» разорвало систему термор...</td>\n",
       "      <td>Как сообщает mk.ru, выход космонавтов Сергея П...</td>\n",
       "    </tr>\n",
       "    <tr>\n",
       "      <th>3655</th>\n",
       "      <td>Наука</td>\n",
       "      <td>Космос</td>\n",
       "      <td>МК: На корабле «Союз» разорвало систему термор...</td>\n",
       "      <td>Пока вероятными причинами повреждения \"Союза\" ...</td>\n",
       "    </tr>\n",
       "    <tr>\n",
       "      <th>3656</th>\n",
       "      <td>Наука</td>\n",
       "      <td>Космос</td>\n",
       "      <td>На корабле «Союз» разорвало СТР корабля из-за ...</td>\n",
       "      <td>«МК» разбирался в ситуации.Выход в открытый ко...</td>\n",
       "    </tr>\n",
       "    <tr>\n",
       "      <th>3657</th>\n",
       "      <td>Наука</td>\n",
       "      <td>Космос</td>\n",
       "      <td>На корабле «Союз» разорвало систему терморегул...</td>\n",
       "      <td>Судя по переговорам космонавтов с ЦУПом и виде...</td>\n",
       "    </tr>\n",
       "    <tr>\n",
       "      <th>3658</th>\n",
       "      <td>Наука</td>\n",
       "      <td>Космос</td>\n",
       "      <td>X-37 и другие наследники Шаттла</td>\n",
       "      <td>Беспилотный (пока что беспилотный) многоразовы...</td>\n",
       "    </tr>\n",
       "  </tbody>\n",
       "</table>\n",
       "<p>3435 rows × 4 columns</p>\n",
       "</div>"
      ],
      "text/plain": [
       "       main_rubric        rubric  \\\n",
       "2246  Происшествия  Происшествия   \n",
       "2247  Происшествия  Происшествия   \n",
       "2248  Происшествия  Происшествия   \n",
       "2249  Происшествия  Происшествия   \n",
       "2250  Происшествия  Происшествия   \n",
       "...            ...           ...   \n",
       "3654         Наука        Космос   \n",
       "3655         Наука        Космос   \n",
       "3656         Наука        Космос   \n",
       "3657         Наука        Космос   \n",
       "3658         Наука        Космос   \n",
       "\n",
       "                                                  title  \\\n",
       "2246  Военкор Котенок сообщил о двух сериях взрывов ...   \n",
       "2247  Военкор Котенок сообщил о двух сериях взрывов ...   \n",
       "2248  Чиновников подозревают в незаконном строительс...   \n",
       "2249  За систематическое получение взяток арестовали...   \n",
       "2250  За регулярное получение взяток арестованы подм...   \n",
       "...                                                 ...   \n",
       "3654  МК: На корабле «Союз» разорвало систему термор...   \n",
       "3655  МК: На корабле «Союз» разорвало систему термор...   \n",
       "3656  На корабле «Союз» разорвало СТР корабля из-за ...   \n",
       "3657  На корабле «Союз» разорвало систему терморегул...   \n",
       "3658                    X-37 и другие наследники Шаттла   \n",
       "\n",
       "                                                   text  \n",
       "2246  В Харькове в четверг прогремели две серии взры...  \n",
       "2247  В Харькове произошли две серии взрывов, сообщи...  \n",
       "2248  Уголовное дело возбуждено в отношении высокопо...  \n",
       "2249  В ходе следствия были выведены несколько пункт...  \n",
       "2250  Чиновники в Подмосковье арестованы за регулярн...  \n",
       "...                                                 ...  \n",
       "3654  Как сообщает mk.ru, выход космонавтов Сергея П...  \n",
       "3655  Пока вероятными причинами повреждения \"Союза\" ...  \n",
       "3656  «МК» разбирался в ситуации.Выход в открытый ко...  \n",
       "3657  Судя по переговорам космонавтов с ЦУПом и виде...  \n",
       "3658  Беспилотный (пока что беспилотный) многоразовы...  \n",
       "\n",
       "[3435 rows x 4 columns]"
      ]
     },
     "execution_count": 58,
     "metadata": {},
     "output_type": "execute_result"
    }
   ],
   "source": [
    "df_nlp = nlp(df_nlp)\n",
    "df_nlp"
   ]
  },
  {
   "cell_type": "code",
   "execution_count": 59,
   "metadata": {},
   "outputs": [
    {
     "data": {
      "text/plain": [
       "<AxesSubplot:>"
      ]
     },
     "execution_count": 59,
     "metadata": {},
     "output_type": "execute_result"
    },
    {
     "data": {
      "image/png": "[encoded data removed]",
      "text/plain": [
       "<Figure size 640x480 with 1 Axes>"
      ]
     },
     "metadata": {},
     "output_type": "display_data"
    }
   ],
   "source": [
    "# Горизонтальная столбчатая диаграмма для rubric\n",
    "df_nlp['rubric'].value_counts(normalize=True).plot.barh()"
   ]
  },
  {
   "cell_type": "code",
   "execution_count": 60,
   "metadata": {},
   "outputs": [
    {
     "data": {
      "text/plain": [
       "<AxesSubplot:>"
      ]
     },
     "execution_count": 60,
     "metadata": {},
     "output_type": "execute_result"
    },
    {
     "data": {
      "image/png": "[encoded data removed]",
      "text/plain": [
       "<Figure size 640x480 with 1 Axes>"
      ]
     },
     "metadata": {},
     "output_type": "display_data"
    }
   ],
   "source": [
    "# Горизонтальная столбчатая диаграмма для main_rubric\n",
    "df_nlp['main_rubric'].value_counts(normalize=True).plot.barh()"
   ]
  },
  {
   "cell_type": "markdown",
   "metadata": {},
   "source": [
    "### Сохранение данных в формате csv"
   ]
  },
  {
   "cell_type": "code",
   "execution_count": 63,
   "metadata": {},
   "outputs": [],
   "source": [
    "# Для mac\n",
    "df_nlp.to_csv('/Users/user/Documents/ML.csv')\n",
    "\n",
    "# Для win\n",
    "#df_nlp.to_csv(r'C:\\Users\\User\\Downloads\\ML.csv')\n",
    "# Выражение, добавляющее к БД только новые новости\n",
    "#res = df1[~df1['url'].isin(df2['url'])]"
   ]
  },
  {
   "cell_type": "code",
   "execution_count": null,
   "metadata": {},
   "outputs": [],
   "source": []
  }
 ],
 "metadata": {
  "kernelspec": {
   "display_name": "Python 3 (ipykernel)",
   "language": "python",
   "name": "python3"
  },
  "language_info": {
   "codemirror_mode": {
    "name": "ipython",
    "version": 3
   },
   "file_extension": ".py",
   "mimetype": "text/x-python",
   "name": "python",
   "nbconvert_exporter": "python",
   "pygments_lexer": "ipython3",
   "version": "3.9.13"
  }
 },
 "nbformat": 4,
 "nbformat_minor": 4
}
