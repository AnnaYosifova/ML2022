{
 "cells": [
  {
   "cell_type": "markdown",
   "metadata": {},
   "source": [
    "## Сбор данных (создание веб-краулера)"
   ]
  },
  {
   "cell_type": "code",
   "execution_count": 1,
   "metadata": {},
   "outputs": [],
   "source": [
    "import requests\n",
    "from bs4 import BeautifulSoup\n",
    "import json\n",
    "import re\n",
    "import pandas as pd\n",
    "from datetime import datetime, timedelta\n",
    "from sqlalchemy import create_engine\n",
    "import traceback\n",
    "\n",
    "cookies = {\n",
    "    'news_lang': 'ru',\n",
    "    'nc': 'tips=1669116675432%3Bfavorites-button:1',\n",
    "    'sso_checked': '1',\n",
    "    'yandex_login': '',\n",
    "    'yandexuid': '4418883751668766953',\n",
    "    '_yasc': 'bvYHi8GFr6wiVgwnzIGbRxV1jmn9isOWGNAJOxGLT7gEOCeBN0eS96hYsvk=',\n",
    "    '_ym_uid': '16687727324320845',\n",
    "    '_ym_d': '1668772732',\n",
    "    'vid': 'c4a038b4868be81c',\n",
    "    'Session_id': 'noauth:1669019784',\n",
    "    'mda2_beacon': '1669019784785',\n",
    "    '_ym_isad': '2',\n",
    "    'tmr_lvid': '52390132f1b93bbd91c4c20fb582a7b7',\n",
    "    'tmr_lvidTS': '1668772731725',\n",
    "    'tmr_detect': '0%7C1669277547765',\n",
    "}\n",
    "\n",
    "headers = {\n",
    "    'Accept': 'text/html,application/xhtml+xml,application/xml;q=0.9,image/avif,image/webp,image/apng,*/*;q=0.8,application/signed-exchange;v=b3;q=0.9',\n",
    "    'Accept-Language': 'ru-RU,ru;q=0.9,en-US;q=0.8,en;q=0.7',\n",
    "    'Cache-Control': 'max-age=0',\n",
    "    'Connection': 'keep-alive',\n",
    "    # Requests sorts cookies= alphabetically\n",
    "    # 'Cookie': 'news_lang=ru; nc=tips=1669116675432%3Bfavorites-button:1; sso_checked=1; yandex_login=; yandexuid=4418883751668766953; _yasc=bvYHi8GFr6wiVgwnzIGbRxV1jmn9isOWGNAJOxGLT7gEOCeBN0eS96hYsvk=; _ym_uid=16687727324320845; _ym_d=1668772732; vid=c4a038b4868be81c; Session_id=noauth:1669019784; mda2_beacon=1669019784785; _ym_isad=2; tmr_lvid=52390132f1b93bbd91c4c20fb582a7b7; tmr_lvidTS=1668772731725; tmr_detect=0%7C1669277547765',\n",
    "    'Referer': 'https://dzen.ru/news?issue_tld=ru',\n",
    "    'Sec-Fetch-Dest': 'document',\n",
    "    'Sec-Fetch-Mode': 'navigate',\n",
    "    'Sec-Fetch-Site': 'same-origin',\n",
    "    'Sec-Fetch-User': '?1',\n",
    "    'Upgrade-Insecure-Requests': '1',\n",
    "    'User-Agent': 'Mozilla/5.0 (Windows NT 10.0; Win64; x64) AppleWebKit/537.36 (KHTML, like Gecko) Chrome/107.0.0.0 Safari/537.36',\n",
    "    'sec-ch-ua': '\"Google Chrome\";v=\"107\", \"Chromium\";v=\"107\", \"Not=A?Brand\";v=\"24\"',\n",
    "    'sec-ch-ua-mobile': '?0',\n",
    "    'sec-ch-ua-platform': '\"Windows\"',\n",
    "}\n",
    "\n",
    "# Функция для обработки и вывода времени\n",
    "def parse_date(s_date):\n",
    "    months = {'января': '01',\n",
    "              'февраля': '02',\n",
    "              'марта': '03',\n",
    "              'апреля': '04',\n",
    "              'мая': '05',\n",
    "              'июня': '06',\n",
    "              'июля': '07',\n",
    "              'августа': '08',\n",
    "              'сентября': '09',\n",
    "              'октября': '10',\n",
    "              'ноября': '11',\n",
    "              'декабря': '12',\n",
    "              }\n",
    "    \n",
    "    row_date = s_date.split(' в')[0]\n",
    "    #print(row_date)\n",
    "    month_ = row_date.split(' ')[1].strip(' ')\n",
    "    date_num = re.search(r'\\d{2}', row_date).group(0)\n",
    "    date = f\"{date_num}.{months[month_]}.2022\"\n",
    "    return date"
   ]
  },
  {
   "cell_type": "markdown",
   "metadata": {},
   "source": [
    "### Сбор новостей по рубрикам (на сайте Яндекс Дзен)"
   ]
  },
  {
   "cell_type": "code",
   "execution_count": 2,
   "metadata": {
    "scrolled": false
   },
   "outputs": [],
   "source": [
    "def parse_rubrics():\n",
    "    rubrics = ['Политика', 'Общество', 'Экономика', 'В мире', 'Спорт', 'Происшествия', 'Культура', 'Технологии', 'Наука']\n",
    "    rubrics_links = ['rubric/politics', 'rubric/society', 'rubric/business', 'rubric/world', 'rubric/sport', 'rubric/incident', 'rubric/culture', 'rubric/computers', 'rubric/science']\n",
    "\n",
    "    rubricsAndLinks = list(zip(rubrics, rubrics_links))\n",
    "    df_rubricsAndLinks = pd.DataFrame(rubricsAndLinks, columns=['rubric', 'rubric_link'])\n",
    "\n",
    "    session = requests.Session()\n",
    "    session.headers.update(headers)\n",
    "    session.cookies.update(cookies)\n",
    "\n",
    "    dates = []\n",
    "    times = []\n",
    "    data = []\n",
    "    stories = []\n",
    "\n",
    "    for i, row in df_rubricsAndLinks.iterrows():\n",
    "        link = row['rubric_link']\n",
    "        r = session.get(f'https://dzen.ru/news/{link}?issue_tld=ru')\n",
    "\n",
    "        soup = BeautifulSoup(r.text)\n",
    "        script_text = soup.find_all('script')[3].contents[0]\n",
    "        data = json.loads(re.search(r\"window.Ya.Neo.dataSource=({.*?});\", script_text, flags=re.S).group(1))\n",
    "\n",
    "        story_rubric = row['rubric']\n",
    "    \n",
    "        for stories_top in data['news']['top']:\n",
    "        \n",
    "            story_id = stories_top['id']\n",
    "            story_title = stories_top['title']\n",
    "            story_annotation = stories_top['annotation']\n",
    "            story_url = stories_top['url']\n",
    "            instory_url = story_url.replace('/story/', '/instory/')\n",
    "            story_time = stories_top['time']\n",
    "            if 'вчера' in story_time:\n",
    "                date = (datetime.now() - timedelta(days=1)).strftime('%d.%m.%Y')\n",
    "                time = re.search(r'(?<=вчера в )\\d{2}:\\d{2}', story_time).group(0)\n",
    "                story_time = f'{date} {time}'\n",
    "            elif re.search(r'\\d{2} \\w+ \\w+ \\d{2}:\\d{2}', story_time) is not None:\n",
    "                date = parse_date(story_time)\n",
    "                time = re.search(r'\\d{2}:\\d{2}', story_time).group(0)\n",
    "                story_time = f'{date} {time}'\n",
    "            else:\n",
    "                date = datetime.now().strftime('%d.%m.%Y')\n",
    "                time = re.search(r'\\d{2}:\\d{2}', story_time).group(0)\n",
    "                story_time = f'{date} {time}'\n",
    "        \n",
    "            stories.append([story_rubric, story_id, story_title, story_annotation, story_url, instory_url, story_time])\n",
    "    \n",
    "        for stories_feed in data['news']['feed']:\n",
    "        \n",
    "            story_id = stories_feed['id']\n",
    "            story_title = stories_feed['title']\n",
    "            story_annotation = stories_feed['annotation']\n",
    "            story_url = stories_feed['url']\n",
    "            instory_url = story_url.replace('/story/', '/instory/')\n",
    "            story_time = stories_feed['time']\n",
    "            if 'вчера' in story_time:\n",
    "                date = (datetime.now() - timedelta(days=1)).strftime('%d.%m.%Y')\n",
    "                time = re.search(r'(?<=вчера в )\\d{2}:\\d{2}', story_time).group(0)\n",
    "                story_time = f'{date} {time}'\n",
    "            elif re.search(r'\\d{2} \\w+ \\w+ \\d{2}:\\d{2}', story_time) is not None:\n",
    "                date = parse_date(story_time)\n",
    "                time = re.search(r'\\d{2}:\\d{2}', story_time).group(0)\n",
    "                story_time = f'{date} {time}'\n",
    "            else:\n",
    "                date = datetime.now().strftime('%d.%m.%Y')\n",
    "                time = re.search(r'\\d{2}:\\d{2}', story_time).group(0)\n",
    "                story_time = f'{date} {time}'\n",
    "        \n",
    "            stories.append([story_rubric, story_id, story_title, story_annotation, story_url, instory_url, story_time])\n",
    "    \n",
    "    \n",
    "    story_headers = ['rubric', 'id', 'title', 'annotation', 'story_url', 'instory_url', 'time']\n",
    "    df_stories = pd.DataFrame(stories, columns=story_headers)\n",
    "\n",
    "    return df_stories\n",
    "\n",
    "#parse_rubrics()"
   ]
  },
  {
   "cell_type": "markdown",
   "metadata": {},
   "source": [
    "### Сбор похожих новостей при переходе к каждой новости (на сайте Яндекс Дзен)"
   ]
  },
  {
   "cell_type": "code",
   "execution_count": 3,
   "metadata": {},
   "outputs": [],
   "source": [
    "def parse_main():\n",
    "    df_stories = parse_rubrics()\n",
    "    df_instory = df_stories[['rubric', 'id', 'instory_url']]\n",
    "    more_stories = []\n",
    "    \n",
    "    session = requests.Session()\n",
    "    session.headers.update(headers)\n",
    "    session.cookies.update(cookies)\n",
    "\n",
    "    for i, row in df_stories.iterrows():\n",
    "        url = row['instory_url']\n",
    "        more = session.get(url)\n",
    "        more_soup = BeautifulSoup(more.text)\n",
    "        more_script_text = more_soup.find_all('script')[3].contents[0]\n",
    "        more_data = json.loads(re.search(r\"window.Ya.Neo.dataSource=({.*?});\", more_script_text, flags=re.S).group(1))\n",
    "                               \n",
    "        more_info = more_data['news']['instoryPage'][0]\n",
    "        docs = more_info['docs']\n",
    "    \n",
    "        more_rubric = row['rubric']\n",
    "        more_idMain = row['id']\n",
    "        more_instoryUrl = row['instory_url']\n",
    "            \n",
    "        for doc in docs:\n",
    "        \n",
    "            more_id = doc['docId']\n",
    "            more_title = doc['title'][0]['text']  \n",
    "            more_text = doc['text'][0]['text'] \n",
    "            more_source = doc['sourceName']\n",
    "            more_url = doc['url']\n",
    "            more_time = doc['time']\n",
    "            if 'вчера' in more_time:\n",
    "                date = (datetime.now() - timedelta(days=1)).strftime('%d.%m.%Y')\n",
    "                time = re.search(r'(?<=вчера в )\\d{2}:\\d{2}', more_time).group(0)\n",
    "                more_time = f'{date} {time}'\n",
    "            elif re.search(r'\\d{2} \\w+ \\w+ \\d{2}:\\d{2}', more_time) is not None:\n",
    "                date = parse_date(more_time)\n",
    "                time = re.search(r'\\d{2}:\\d{2}', more_time).group(0)\n",
    "                more_time = f'{date} {time}'\n",
    "            else:\n",
    "                date = datetime.now().strftime('%d.%m.%Y')\n",
    "                time = re.search(r'\\d{2}:\\d{2}', more_time).group(0)\n",
    "                more_time = f'{date} {time}'\n",
    "   \n",
    "            more_stories.append([more_rubric, more_idMain, more_title, more_text, more_source, more_instoryUrl, more_url, more_time])\n",
    "        \n",
    "    more_stories_headers = ['rubric', 'story_id', 'title', 'text', 'sourceName', 'instory_url', 'url', 'time']\n",
    "    df_more_stories = pd.DataFrame(more_stories, columns=more_stories_headers)\n",
    "\n",
    "    return df_more_stories\n",
    "\n",
    "#parse_main()"
   ]
  },
  {
   "cell_type": "markdown",
   "metadata": {},
   "source": [
    "### Сохранение и чтение данных в формате xlsx"
   ]
  },
  {
   "cell_type": "code",
   "execution_count": 4,
   "metadata": {},
   "outputs": [],
   "source": [
    "df1 = parse_main()\n",
    "\n",
    "# Для mac\n",
    "df1.to_excel(r'/Users/user/Documents/Книга1.xlsx')\n",
    "\n",
    "# Для win\n",
    "#df1.to_excel(r'C:\\Users\\User\\Downloads\\Книга1.xlsx')"
   ]
  },
  {
   "cell_type": "code",
   "execution_count": 5,
   "metadata": {},
   "outputs": [],
   "source": [
    "# Для mac\n",
    "df2 = pd.read_excel(r'/Users/user/Documents/Книга1.xlsx')\n",
    "\n",
    "# Для win\n",
    "#df2 = pd.read_excel(r'C:\\Users\\User\\Downloads\\Книга1.xlsx')\n",
    "\n",
    "# Выражение, добавляющее к БД только новые новости\n",
    "res = df1[~df1['url'].isin(df2['url'])]\n",
    "\n",
    "#res\n",
    "#df1"
   ]
  },
  {
   "cell_type": "markdown",
   "metadata": {},
   "source": [
    "## Разведочный анализ данных EDA"
   ]
  },
  {
   "cell_type": "code",
   "execution_count": 6,
   "metadata": {},
   "outputs": [
    {
     "data": {
      "text/plain": [
       "(1822, 8)"
      ]
     },
     "execution_count": 6,
     "metadata": {},
     "output_type": "execute_result"
    }
   ],
   "source": [
    "# Объем данных (строк и столбцов - объектов и признаков)\n",
    "df1.shape"
   ]
  },
  {
   "cell_type": "code",
   "execution_count": 7,
   "metadata": {},
   "outputs": [
    {
     "data": {
      "text/plain": [
       "rubric         object\n",
       "story_id       object\n",
       "title          object\n",
       "text           object\n",
       "sourceName     object\n",
       "instory_url    object\n",
       "url            object\n",
       "time           object\n",
       "dtype: object"
      ]
     },
     "execution_count": 7,
     "metadata": {},
     "output_type": "execute_result"
    }
   ],
   "source": [
    "# Вывод типов данных\n",
    "df1.dtypes"
   ]
  },
  {
   "cell_type": "markdown",
   "metadata": {},
   "source": [
    "<div class=\"alert alert-success\"><b>Целевой признак - rubric</b>"
   ]
  },
  {
   "cell_type": "code",
   "execution_count": 8,
   "metadata": {},
   "outputs": [
    {
     "name": "stdout",
     "output_type": "stream",
     "text": [
      "<class 'pandas.core.frame.DataFrame'>\n",
      "RangeIndex: 1822 entries, 0 to 1821\n",
      "Data columns (total 8 columns):\n",
      " #   Column       Non-Null Count  Dtype \n",
      "---  ------       --------------  ----- \n",
      " 0   rubric       1822 non-null   object\n",
      " 1   story_id     1822 non-null   object\n",
      " 2   title        1822 non-null   object\n",
      " 3   text         1822 non-null   object\n",
      " 4   sourceName   1822 non-null   object\n",
      " 5   instory_url  1822 non-null   object\n",
      " 6   url          1822 non-null   object\n",
      " 7   time         1822 non-null   object\n",
      "dtypes: object(8)\n",
      "memory usage: 114.0+ KB\n"
     ]
    }
   ],
   "source": [
    "df1.info()"
   ]
  },
  {
   "cell_type": "markdown",
   "metadata": {},
   "source": [
    "<div class=\"alert alert-success\"><b>Пропусков в данных нет</b>"
   ]
  },
  {
   "cell_type": "code",
   "execution_count": 9,
   "metadata": {},
   "outputs": [
    {
     "data": {
      "text/plain": [
       "Index(['rubric', 'story_id', 'title', 'text', 'sourceName', 'instory_url',\n",
       "       'url', 'time'],\n",
       "      dtype='object')"
      ]
     },
     "execution_count": 9,
     "metadata": {},
     "output_type": "execute_result"
    }
   ],
   "source": [
    "# Имена колонок в виде списков\n",
    "df1.columns"
   ]
  },
  {
   "cell_type": "code",
   "execution_count": 10,
   "metadata": {},
   "outputs": [
    {
     "data": {
      "text/plain": [
       "rubric         0\n",
       "story_id       0\n",
       "title          0\n",
       "text           0\n",
       "sourceName     0\n",
       "instory_url    0\n",
       "url            0\n",
       "time           0\n",
       "dtype: int64"
      ]
     },
     "execution_count": 10,
     "metadata": {},
     "output_type": "execute_result"
    }
   ],
   "source": [
    "# Кол-во пропусков во всем датафрейме\n",
    "df1.isnull().sum()"
   ]
  },
  {
   "cell_type": "code",
   "execution_count": 11,
   "metadata": {},
   "outputs": [
    {
     "data": {
      "text/plain": [
       "Происшествия    0.351262\n",
       "Спорт           0.104281\n",
       "Общество        0.096597\n",
       "Политика        0.096048\n",
       "В мире          0.091658\n",
       "Наука           0.068606\n",
       "Экономика       0.066411\n",
       "Культура        0.065313\n",
       "Технологии      0.059824\n",
       "Name: rubric, dtype: float64"
      ]
     },
     "execution_count": 11,
     "metadata": {},
     "output_type": "execute_result"
    }
   ],
   "source": [
    "# Статистика распределения этих значений в % виде\n",
    "df1['rubric'].value_counts(normalize=True)"
   ]
  },
  {
   "cell_type": "code",
   "execution_count": 12,
   "metadata": {},
   "outputs": [
    {
     "name": "stdout",
     "output_type": "stream",
     "text": [
      "Кол-во уникальных значений:  9\n",
      "Список уникальных значений:  ['Политика' 'Общество' 'Экономика' 'В мире' 'Спорт' 'Происшествия'\n",
      " 'Культура' 'Технологии' 'Наука']\n",
      "Статистика распределения значений:  Происшествия    640\n",
      "Спорт           190\n",
      "Общество        176\n",
      "Политика        175\n",
      "В мире          167\n",
      "Наука           125\n",
      "Экономика       121\n",
      "Культура        119\n",
      "Технологии      109\n",
      "Name: rubric, dtype: int64\n"
     ]
    }
   ],
   "source": [
    "# Исследование целевого (target) признака - рубрики \n",
    "print('Кол-во уникальных значений: ', df1['rubric'].nunique())\n",
    "print('Список уникальных значений: ', df1['rubric'].unique())\n",
    "print('Статистика распределения значений: ', df1['rubric'].value_counts(normalize=False))"
   ]
  },
  {
   "cell_type": "markdown",
   "metadata": {},
   "source": [
    "<div class=\"alert alert-success\"><b>Вывод: вид задачи - многоклассовая классификация</b>"
   ]
  },
  {
   "cell_type": "code",
   "execution_count": 13,
   "metadata": {},
   "outputs": [
    {
     "data": {
      "text/plain": [
       "count             1822\n",
       "unique               9\n",
       "top       Происшествия\n",
       "freq               640\n",
       "Name: rubric, dtype: object"
      ]
     },
     "execution_count": 13,
     "metadata": {},
     "output_type": "execute_result"
    }
   ],
   "source": [
    "# Описательная статистика для признака rubric\n",
    "df1['rubric'].describe()"
   ]
  },
  {
   "cell_type": "code",
   "execution_count": 14,
   "metadata": {},
   "outputs": [
    {
     "data": {
      "text/html": [
       "<div>\n",
       "<style scoped>\n",
       "    .dataframe tbody tr th:only-of-type {\n",
       "        vertical-align: middle;\n",
       "    }\n",
       "\n",
       "    .dataframe tbody tr th {\n",
       "        vertical-align: top;\n",
       "    }\n",
       "\n",
       "    .dataframe thead th {\n",
       "        text-align: right;\n",
       "    }\n",
       "</style>\n",
       "<table border=\"1\" class=\"dataframe\">\n",
       "  <thead>\n",
       "    <tr style=\"text-align: right;\">\n",
       "      <th></th>\n",
       "      <th>count</th>\n",
       "      <th>unique</th>\n",
       "      <th>top</th>\n",
       "      <th>freq</th>\n",
       "    </tr>\n",
       "  </thead>\n",
       "  <tbody>\n",
       "    <tr>\n",
       "      <th>rubric</th>\n",
       "      <td>1822</td>\n",
       "      <td>9</td>\n",
       "      <td>Происшествия</td>\n",
       "      <td>640</td>\n",
       "    </tr>\n",
       "    <tr>\n",
       "      <th>story_id</th>\n",
       "      <td>1822</td>\n",
       "      <td>248</td>\n",
       "      <td>705773078</td>\n",
       "      <td>100</td>\n",
       "    </tr>\n",
       "    <tr>\n",
       "      <th>title</th>\n",
       "      <td>1822</td>\n",
       "      <td>1658</td>\n",
       "      <td>Три человека погибли при взрыве бензовоза на а...</td>\n",
       "      <td>8</td>\n",
       "    </tr>\n",
       "    <tr>\n",
       "      <th>text</th>\n",
       "      <td>1822</td>\n",
       "      <td>1699</td>\n",
       "      <td>Чеченский оппозиционер и блогер Тумсо Абдурахм...</td>\n",
       "      <td>4</td>\n",
       "    </tr>\n",
       "    <tr>\n",
       "      <th>sourceName</th>\n",
       "      <td>1822</td>\n",
       "      <td>544</td>\n",
       "      <td>Газета.Ru</td>\n",
       "      <td>42</td>\n",
       "    </tr>\n",
       "    <tr>\n",
       "      <th>instory_url</th>\n",
       "      <td>1822</td>\n",
       "      <td>261</td>\n",
       "      <td>https://dzen.ru/news/instory/14letnyaya_devoch...</td>\n",
       "      <td>100</td>\n",
       "    </tr>\n",
       "    <tr>\n",
       "      <th>url</th>\n",
       "      <td>1822</td>\n",
       "      <td>1724</td>\n",
       "      <td>https://xn--80abnrcriwo.xn--p1ai/news/61874.ht...</td>\n",
       "      <td>2</td>\n",
       "    </tr>\n",
       "    <tr>\n",
       "      <th>time</th>\n",
       "      <td>1822</td>\n",
       "      <td>696</td>\n",
       "      <td>05.12.2022 15:06</td>\n",
       "      <td>20</td>\n",
       "    </tr>\n",
       "  </tbody>\n",
       "</table>\n",
       "</div>"
      ],
      "text/plain": [
       "            count unique                                                top  \\\n",
       "rubric       1822      9                                       Происшествия   \n",
       "story_id     1822    248                                          705773078   \n",
       "title        1822   1658  Три человека погибли при взрыве бензовоза на а...   \n",
       "text         1822   1699  Чеченский оппозиционер и блогер Тумсо Абдурахм...   \n",
       "sourceName   1822    544                                          Газета.Ru   \n",
       "instory_url  1822    261  https://dzen.ru/news/instory/14letnyaya_devoch...   \n",
       "url          1822   1724  https://xn--80abnrcriwo.xn--p1ai/news/61874.ht...   \n",
       "time         1822    696                                   05.12.2022 15:06   \n",
       "\n",
       "            freq  \n",
       "rubric       640  \n",
       "story_id     100  \n",
       "title          8  \n",
       "text           4  \n",
       "sourceName    42  \n",
       "instory_url  100  \n",
       "url            2  \n",
       "time          20  "
      ]
     },
     "execution_count": 14,
     "metadata": {},
     "output_type": "execute_result"
    }
   ],
   "source": [
    "# Описательная статистика для всех признаков \n",
    "df1.describe().T"
   ]
  },
  {
   "cell_type": "markdown",
   "metadata": {},
   "source": [
    "### Визульный анализ"
   ]
  },
  {
   "cell_type": "code",
   "execution_count": 15,
   "metadata": {},
   "outputs": [
    {
     "data": {
      "text/plain": [
       "<AxesSubplot:>"
      ]
     },
     "execution_count": 15,
     "metadata": {},
     "output_type": "execute_result"
    },
    {
     "data": {
      "image/png": "[encoded data removed]",
      "text/plain": [
       "<Figure size 640x480 with 1 Axes>"
      ]
     },
     "metadata": {},
     "output_type": "display_data"
    }
   ],
   "source": [
    "# Столбчатая диаграмма\n",
    "# По оси y - доля в %, по x - сами рубрики\n",
    "# Если поменять normalize=True на normalize=False, то ось y будет в кол-ом значении\n",
    "\n",
    "df1['rubric'].value_counts(normalize=True).plot.bar()"
   ]
  },
  {
   "cell_type": "code",
   "execution_count": 16,
   "metadata": {},
   "outputs": [
    {
     "data": {
      "text/plain": [
       "<AxesSubplot:ylabel='rubric'>"
      ]
     },
     "execution_count": 16,
     "metadata": {},
     "output_type": "execute_result"
    },
    {
     "data": {
      "image/png": "[encoded data removed]",
      "text/plain": [
       "<Figure size 640x480 with 1 Axes>"
      ]
     },
     "metadata": {},
     "output_type": "display_data"
    }
   ],
   "source": [
    "# Круговая(пирожковая) диаграмма\n",
    "df1['rubric'].value_counts(normalize=True).plot.pie()"
   ]
  },
  {
   "cell_type": "code",
   "execution_count": 17,
   "metadata": {
    "scrolled": false
   },
   "outputs": [
    {
     "data": {
      "text/plain": [
       "<AxesSubplot:>"
      ]
     },
     "execution_count": 17,
     "metadata": {},
     "output_type": "execute_result"
    },
    {
     "data": {
      "image/png": "[encoded data removed]",
      "text/plain": [
       "<Figure size 640x480 with 1 Axes>"
      ]
     },
     "metadata": {},
     "output_type": "display_data"
    }
   ],
   "source": [
    "# Горизонтальная столбчатая диаграмма\n",
    "df1['rubric'].value_counts(normalize=True).plot.barh()"
   ]
  },
  {
   "cell_type": "code",
   "execution_count": 24,
   "metadata": {},
   "outputs": [
    {
     "data": {
      "text/plain": [
       "Происшествия    640\n",
       "Спорт           190\n",
       "Общество        176\n",
       "Политика        175\n",
       "В мире          167\n",
       "Наука           125\n",
       "Экономика       121\n",
       "Культура        119\n",
       "Технологии      109\n",
       "Name: rubric, dtype: int64"
      ]
     },
     "execution_count": 24,
     "metadata": {},
     "output_type": "execute_result"
    }
   ],
   "source": [
    "df1['rubric'].value_counts()"
   ]
  },
  {
   "cell_type": "code",
   "execution_count": null,
   "metadata": {},
   "outputs": [],
   "source": []
  },
  {
   "cell_type": "markdown",
   "metadata": {},
   "source": [
    "## Предварительная обработка данных (preprocessing). Обработка естественного языка NLP\n"
   ]
  },
  {
   "cell_type": "markdown",
   "metadata": {},
   "source": [
    "Действия, выполняемые в процессе:\n",
    "* сегментация и токенизация;\n",
    "* стемминг;\n",
    "* удаление стоп-слов;\n",
    "* лемматизация."
   ]
  },
  {
   "cell_type": "markdown",
   "metadata": {},
   "source": [
    "### Удаление пробельных символов"
   ]
  },
  {
   "cell_type": "code",
   "execution_count": 18,
   "metadata": {},
   "outputs": [],
   "source": [
    "import string\n",
    "import re\n",
    "from nltk.corpus import stopwords\n",
    "\n",
    "def remove_punctuation(text):\n",
    "    return \"\".join([ch if ch not in string.punctuation else ' ' for ch in text])\n",
    "def remove_numbers(text):\n",
    "    return ''.join([i if not i.isdigit() else ' ' for i in text])\n",
    "def remove_multiple_spaces(text):\n",
    "    return re.sub(r'\\s+', ' ', text, flags=re.I)\n",
    "\n",
    "prep_text = [remove_multiple_spaces(remove_numbers(remove_punctuation(text.lower()))) for text in df1['text']]\n",
    "df_nlp = df1.loc[:, ['rubric','title','text']]\n",
    "df_nlp[\"text_prep\"] = prep_text\n",
    "\n",
    "#df_nlp.drop(df1.columns[[8]], axis = 1), если получился лишний случайно\n",
    "#df_nlp"
   ]
  },
  {
   "cell_type": "markdown",
   "metadata": {},
   "source": [
    "### Стемминг"
   ]
  },
  {
   "cell_type": "code",
   "execution_count": 19,
   "metadata": {},
   "outputs": [],
   "source": [
    "import nltk\n",
    "from nltk.stem.snowball import SnowballStemmer\n",
    "from nltk.corpus import stopwords\n",
    "from nltk import word_tokenize\n",
    "#nltk.download('punkt')\n",
    "#nltk.download('stopwords')\n",
    "#если нет этих модулей\n",
    "\n",
    "stemmer = SnowballStemmer(\"russian\")\n",
    "russian_stopwords = stopwords.words(\"russian\")\n",
    "russian_stopwords.extend(['…', '...', 'т.д.', 'т', 'д', '«', '»'])\n",
    "\n",
    "stemmed_texts_list = []\n",
    "for text in df_nlp[\"text_prep\"]:\n",
    "    tokens = word_tokenize(text)\n",
    "    stemmed_tokens = [stemmer.stem(token) for token in tokens if token not in russian_stopwords]\n",
    "    text = \" \".join(stemmed_tokens)\n",
    "    stemmed_texts_list.append(text)\n",
    "    \n",
    "df_nlp[\"text_stem\"] = stemmed_texts_list\n",
    "\n",
    "def remove_stop_words(text):\n",
    "    tokens = word_tokenize(text)\n",
    "    tokens = [token for token in tokens if token not in russian_stopwords and token != ' ']\n",
    "    return \" \".join(tokens)"
   ]
  },
  {
   "cell_type": "markdown",
   "metadata": {},
   "source": [
    "### Удаление стоп-слов"
   ]
  },
  {
   "cell_type": "code",
   "execution_count": 20,
   "metadata": {},
   "outputs": [],
   "source": [
    "from nltk import word_tokenize\n",
    "\n",
    "sw_texts_list = []\n",
    "for text in df_nlp['text_prep']:\n",
    "    tokens = word_tokenize(text)\n",
    "    tokens = [token for token in tokens if token not in russian_stopwords and token != ' ']\n",
    "    text = \" \".join(tokens)\n",
    "    sw_texts_list.append(text)\n",
    "\n",
    "df_nlp[\"text_sw\"] = sw_texts_list\n",
    "#df_nlp[\"text_sw\"][0]\n",
    "#df_nlp"
   ]
  },
  {
   "cell_type": "markdown",
   "metadata": {},
   "source": [
    "### Лемматизация"
   ]
  },
  {
   "cell_type": "code",
   "execution_count": 21,
   "metadata": {},
   "outputs": [
    {
     "data": {
      "text/html": [
       "<div>\n",
       "<style scoped>\n",
       "    .dataframe tbody tr th:only-of-type {\n",
       "        vertical-align: middle;\n",
       "    }\n",
       "\n",
       "    .dataframe tbody tr th {\n",
       "        vertical-align: top;\n",
       "    }\n",
       "\n",
       "    .dataframe thead th {\n",
       "        text-align: right;\n",
       "    }\n",
       "</style>\n",
       "<table border=\"1\" class=\"dataframe\">\n",
       "  <thead>\n",
       "    <tr style=\"text-align: right;\">\n",
       "      <th></th>\n",
       "      <th>rubric</th>\n",
       "      <th>title</th>\n",
       "      <th>text</th>\n",
       "      <th>text_prep</th>\n",
       "      <th>text_stem</th>\n",
       "      <th>text_sw</th>\n",
       "      <th>text_lemm</th>\n",
       "    </tr>\n",
       "  </thead>\n",
       "  <tbody>\n",
       "    <tr>\n",
       "      <th>0</th>\n",
       "      <td>Политика</td>\n",
       "      <td>Путину доложили о ЧП на военных аэродромах</td>\n",
       "      <td>Официальный представитель Кремля Дмитрий Песко...</td>\n",
       "      <td>официальный представитель кремля дмитрий песко...</td>\n",
       "      <td>официальн представител кремл дмитр песк понеде...</td>\n",
       "      <td>официальный представитель кремля дмитрий песко...</td>\n",
       "      <td>официальный представитель кремль дмитрий песок...</td>\n",
       "    </tr>\n",
       "    <tr>\n",
       "      <th>1</th>\n",
       "      <td>Политика</td>\n",
       "      <td>Песков: Путину доложили о происшествиях в Сара...</td>\n",
       "      <td>Пресс-секретарь президента РФ Дмитрий Песков с...</td>\n",
       "      <td>пресс секретарь президента рф дмитрий песков с...</td>\n",
       "      <td>пресс секретар президент рф дмитр песк сообщ п...</td>\n",
       "      <td>пресс секретарь президента рф дмитрий песков с...</td>\n",
       "      <td>пресс секретарь президент рф дмитрий песок соо...</td>\n",
       "    </tr>\n",
       "    <tr>\n",
       "      <th>2</th>\n",
       "      <td>Политика</td>\n",
       "      <td>Песков: Путину доложили о происшествиях в Сара...</td>\n",
       "      <td>Официальный представитель Кремля Дмитрий Песко...</td>\n",
       "      <td>официальный представитель кремля дмитрий песко...</td>\n",
       "      <td>официальн представител кремл дмитр песк сообщ ...</td>\n",
       "      <td>официальный представитель кремля дмитрий песко...</td>\n",
       "      <td>официальный представитель кремль дмитрий песок...</td>\n",
       "    </tr>\n",
       "    <tr>\n",
       "      <th>3</th>\n",
       "      <td>Политика</td>\n",
       "      <td>Путину доложили о ЧП на аэродроме под Рязанью</td>\n",
       "      <td>Официальный представитель Кремля Дмитрий Песко...</td>\n",
       "      <td>официальный представитель кремля дмитрий песко...</td>\n",
       "      <td>официальн представител кремл дмитр песк понеде...</td>\n",
       "      <td>официальный представитель кремля дмитрий песко...</td>\n",
       "      <td>официальный представитель кремль дмитрий песок...</td>\n",
       "    </tr>\n",
       "    <tr>\n",
       "      <th>4</th>\n",
       "      <td>Политика</td>\n",
       "      <td>Президенту России доложили о взрыве на военном...</td>\n",
       "      <td>Пресс-секретарь главы государства Дмитрий Песк...</td>\n",
       "      <td>пресс секретарь главы государства дмитрий песк...</td>\n",
       "      <td>пресс секретар глав государств дмитр песк подт...</td>\n",
       "      <td>пресс секретарь главы государства дмитрий песк...</td>\n",
       "      <td>пресс секретарь глава государство дмитрий песо...</td>\n",
       "    </tr>\n",
       "    <tr>\n",
       "      <th>...</th>\n",
       "      <td>...</td>\n",
       "      <td>...</td>\n",
       "      <td>...</td>\n",
       "      <td>...</td>\n",
       "      <td>...</td>\n",
       "      <td>...</td>\n",
       "      <td>...</td>\n",
       "    </tr>\n",
       "    <tr>\n",
       "      <th>1817</th>\n",
       "      <td>Наука</td>\n",
       "      <td>Арахис и специи оказались полезными для кишечн...</td>\n",
       "      <td>Новое исследование показало, что включение в р...</td>\n",
       "      <td>новое исследование показало что включение в ра...</td>\n",
       "      <td>нов исследован показа включен рацион – г арахи...</td>\n",
       "      <td>новое исследование показало включение рацион –...</td>\n",
       "      <td>новое исследование показывать включение рацион...</td>\n",
       "    </tr>\n",
       "    <tr>\n",
       "      <th>1818</th>\n",
       "      <td>Наука</td>\n",
       "      <td>Clinical Nutrition: на здоровье кишечника могу...</td>\n",
       "      <td>Ученые выяснили, что добавление 300 граммов ар...</td>\n",
       "      <td>ученые выяснили что добавление граммов арахиса...</td>\n",
       "      <td>учен выясн добавлен грамм арахис одн чайн ложк...</td>\n",
       "      <td>ученые выяснили добавление граммов арахиса одн...</td>\n",
       "      <td>ученые выяснять добавление грамм арахис чайный...</td>\n",
       "    </tr>\n",
       "    <tr>\n",
       "      <th>1819</th>\n",
       "      <td>Наука</td>\n",
       "      <td>Арахис, травы и специи помогают улучшить микро...</td>\n",
       "      <td>Группа исследователей установила, что арахис, ...</td>\n",
       "      <td>группа исследователей установила что арахис тр...</td>\n",
       "      <td>групп исследовател установ арахис трав спец по...</td>\n",
       "      <td>группа исследователей установила арахис травы ...</td>\n",
       "      <td>группа исследователь устанавливать арахис трав...</td>\n",
       "    </tr>\n",
       "    <tr>\n",
       "      <th>1820</th>\n",
       "      <td>Наука</td>\n",
       "      <td>Ученые назвали популярные продукты, которые мо...</td>\n",
       "      <td>Специалисты заметили, что у перекусывающих ара...</td>\n",
       "      <td>специалисты заметили что у перекусывающих арах...</td>\n",
       "      <td>специалист замет перекусыва арахис люд горазд ...</td>\n",
       "      <td>специалисты заметили перекусывающих арахисом л...</td>\n",
       "      <td>специалисты замечать перекусывать арахис челов...</td>\n",
       "    </tr>\n",
       "    <tr>\n",
       "      <th>1821</th>\n",
       "      <td>Наука</td>\n",
       "      <td>Ученые заявили, что на здоровье кишечника влия...</td>\n",
       "      <td>Специалисты из Пенсильванского университета ут...</td>\n",
       "      <td>специалисты из пенсильванского университета ут...</td>\n",
       "      <td>специалист пенсильванск университет утвержда р...</td>\n",
       "      <td>специалисты пенсильванского университета утвер...</td>\n",
       "      <td>специалисты пенсильванский университет утвержд...</td>\n",
       "    </tr>\n",
       "  </tbody>\n",
       "</table>\n",
       "<p>1822 rows × 7 columns</p>\n",
       "</div>"
      ],
      "text/plain": [
       "        rubric                                              title  \\\n",
       "0     Политика         Путину доложили о ЧП на военных аэродромах   \n",
       "1     Политика  Песков: Путину доложили о происшествиях в Сара...   \n",
       "2     Политика  Песков: Путину доложили о происшествиях в Сара...   \n",
       "3     Политика      Путину доложили о ЧП на аэродроме под Рязанью   \n",
       "4     Политика  Президенту России доложили о взрыве на военном...   \n",
       "...        ...                                                ...   \n",
       "1817     Наука  Арахис и специи оказались полезными для кишечн...   \n",
       "1818     Наука  Clinical Nutrition: на здоровье кишечника могу...   \n",
       "1819     Наука  Арахис, травы и специи помогают улучшить микро...   \n",
       "1820     Наука  Ученые назвали популярные продукты, которые мо...   \n",
       "1821     Наука  Ученые заявили, что на здоровье кишечника влия...   \n",
       "\n",
       "                                                   text  \\\n",
       "0     Официальный представитель Кремля Дмитрий Песко...   \n",
       "1     Пресс-секретарь президента РФ Дмитрий Песков с...   \n",
       "2     Официальный представитель Кремля Дмитрий Песко...   \n",
       "3     Официальный представитель Кремля Дмитрий Песко...   \n",
       "4     Пресс-секретарь главы государства Дмитрий Песк...   \n",
       "...                                                 ...   \n",
       "1817  Новое исследование показало, что включение в р...   \n",
       "1818  Ученые выяснили, что добавление 300 граммов ар...   \n",
       "1819  Группа исследователей установила, что арахис, ...   \n",
       "1820  Специалисты заметили, что у перекусывающих ара...   \n",
       "1821  Специалисты из Пенсильванского университета ут...   \n",
       "\n",
       "                                              text_prep  \\\n",
       "0     официальный представитель кремля дмитрий песко...   \n",
       "1     пресс секретарь президента рф дмитрий песков с...   \n",
       "2     официальный представитель кремля дмитрий песко...   \n",
       "3     официальный представитель кремля дмитрий песко...   \n",
       "4     пресс секретарь главы государства дмитрий песк...   \n",
       "...                                                 ...   \n",
       "1817  новое исследование показало что включение в ра...   \n",
       "1818  ученые выяснили что добавление граммов арахиса...   \n",
       "1819  группа исследователей установила что арахис тр...   \n",
       "1820  специалисты заметили что у перекусывающих арах...   \n",
       "1821  специалисты из пенсильванского университета ут...   \n",
       "\n",
       "                                              text_stem  \\\n",
       "0     официальн представител кремл дмитр песк понеде...   \n",
       "1     пресс секретар президент рф дмитр песк сообщ п...   \n",
       "2     официальн представител кремл дмитр песк сообщ ...   \n",
       "3     официальн представител кремл дмитр песк понеде...   \n",
       "4     пресс секретар глав государств дмитр песк подт...   \n",
       "...                                                 ...   \n",
       "1817  нов исследован показа включен рацион – г арахи...   \n",
       "1818  учен выясн добавлен грамм арахис одн чайн ложк...   \n",
       "1819  групп исследовател установ арахис трав спец по...   \n",
       "1820  специалист замет перекусыва арахис люд горазд ...   \n",
       "1821  специалист пенсильванск университет утвержда р...   \n",
       "\n",
       "                                                text_sw  \\\n",
       "0     официальный представитель кремля дмитрий песко...   \n",
       "1     пресс секретарь президента рф дмитрий песков с...   \n",
       "2     официальный представитель кремля дмитрий песко...   \n",
       "3     официальный представитель кремля дмитрий песко...   \n",
       "4     пресс секретарь главы государства дмитрий песк...   \n",
       "...                                                 ...   \n",
       "1817  новое исследование показало включение рацион –...   \n",
       "1818  ученые выяснили добавление граммов арахиса одн...   \n",
       "1819  группа исследователей установила арахис травы ...   \n",
       "1820  специалисты заметили перекусывающих арахисом л...   \n",
       "1821  специалисты пенсильванского университета утвер...   \n",
       "\n",
       "                                              text_lemm  \n",
       "0     официальный представитель кремль дмитрий песок...  \n",
       "1     пресс секретарь президент рф дмитрий песок соо...  \n",
       "2     официальный представитель кремль дмитрий песок...  \n",
       "3     официальный представитель кремль дмитрий песок...  \n",
       "4     пресс секретарь глава государство дмитрий песо...  \n",
       "...                                                 ...  \n",
       "1817  новое исследование показывать включение рацион...  \n",
       "1818  ученые выяснять добавление грамм арахис чайный...  \n",
       "1819  группа исследователь устанавливать арахис трав...  \n",
       "1820  специалисты замечать перекусывать арахис челов...  \n",
       "1821  специалисты пенсильванский университет утвержд...  \n",
       "\n",
       "[1822 rows x 7 columns]"
      ]
     },
     "execution_count": 21,
     "metadata": {},
     "output_type": "execute_result"
    }
   ],
   "source": [
    "from pymystem3 import Mystem\n",
    "\n",
    "mystem = Mystem()\n",
    "lemm_texts_list = []\n",
    "\n",
    "text_list = df_nlp['text_sw'].to_list()\n",
    "text_join = \"joining\".join(text_list)\n",
    "\n",
    "try:\n",
    "    text_lem = mystem.lemmatize(text_join)\n",
    "    tokens = [token for token in text_lem if token != ' ' and token not in russian_stopwords]\n",
    "    text = \" \".join(tokens)\n",
    "except Exception as e:\n",
    "    print(e)\n",
    "\n",
    "text_split = text.split(\"joining\")\n",
    "df_nlp[\"text_lemm\"] = text_split\n",
    "\n",
    "df_nlp"
   ]
  },
  {
   "cell_type": "code",
   "execution_count": 41,
   "metadata": {},
   "outputs": [],
   "source": [
    "df_pr = df_nlp.loc[df_nlp['rubric'] == 'Происшествия'].head(200)\n",
    "df_other = df_nlp.loc[df_nlp['rubric'] != 'Происшествия']\n",
    "\n",
    "df_ml = pd.concat([df_pr, df_other])\n",
    "#df_ml"
   ]
  },
  {
   "cell_type": "code",
   "execution_count": 42,
   "metadata": {},
   "outputs": [
    {
     "data": {
      "text/plain": [
       "<AxesSubplot:>"
      ]
     },
     "execution_count": 42,
     "metadata": {},
     "output_type": "execute_result"
    },
    {
     "data": {
      "image/png": "[encoded data removed]",
      "text/plain": [
       "<Figure size 640x480 with 1 Axes>"
      ]
     },
     "metadata": {},
     "output_type": "display_data"
    }
   ],
   "source": [
    "# Горизонтальная столбчатая диаграмма\n",
    "df_ml['rubric'].value_counts(normalize=True).plot.barh()"
   ]
  },
  {
   "cell_type": "markdown",
   "metadata": {},
   "source": [
    "## Создание моделей машинного обучения"
   ]
  },
  {
   "cell_type": "markdown",
   "metadata": {},
   "source": [
    "### Кодирование целевой переменной. Формирование тестовой и обучающей выборок"
   ]
  },
  {
   "cell_type": "code",
   "execution_count": 43,
   "metadata": {},
   "outputs": [],
   "source": [
    "from sklearn.preprocessing import LabelEncoder\n",
    "from sklearn.preprocessing import OneHotEncoder\n",
    "from sklearn.model_selection import train_test_split\n",
    "from imblearn.under_sampling import NearMiss\n",
    "\n",
    "rubrics = ['Политика', 'Общество', 'Экономика', 'В мире', 'Спорт', 'Происшествия', 'Культура', 'Технологии', 'Наука']\n",
    "\n",
    "encoder = LabelEncoder()\n",
    "rubrics_list = df_ml['rubric'].to_list()\n",
    "rubric_labels = encoder.fit_transform(rubrics_list)\n",
    "\n",
    "X = df_ml['text_lemm']\n",
    "#X = df_nlp['text_sw']\n",
    "y = rubric_labels\n",
    "\n",
    "X_train, X_test, y_train, y_test = train_test_split(X, y, test_size=0.3, random_state=42)\n",
    "my_tags = rubrics"
   ]
  },
  {
   "cell_type": "code",
   "execution_count": 44,
   "metadata": {},
   "outputs": [],
   "source": [
    "from sklearn.pipeline import Pipeline\n",
    "from sklearn.feature_extraction.text import TfidfTransformer\n",
    "from sklearn.feature_extraction.text import CountVectorizer\n",
    "from sklearn.metrics import accuracy_score\n",
    "from sklearn.metrics import classification_report"
   ]
  },
  {
   "cell_type": "markdown",
   "metadata": {},
   "source": [
    "### Байесовский классификатор"
   ]
  },
  {
   "cell_type": "code",
   "execution_count": 45,
   "metadata": {},
   "outputs": [
    {
     "name": "stdout",
     "output_type": "stream",
     "text": [
      "accuracy 0.7349397590361446\n",
      "              precision    recall  f1-score   support\n",
      "\n",
      "    Политика       0.45      0.35      0.39        55\n",
      "    Общество       1.00      0.63      0.78        41\n",
      "   Экономика       0.96      0.84      0.90        31\n",
      "      В мире       0.77      0.71      0.73        51\n",
      "       Спорт       0.84      0.92      0.88        61\n",
      "Происшествия       0.46      0.84      0.59        50\n",
      "    Культура       0.84      0.95      0.89        55\n",
      "  Технологии       1.00      0.70      0.83        27\n",
      "       Наука       0.88      0.66      0.75        44\n",
      "\n",
      "    accuracy                           0.73       415\n",
      "   macro avg       0.80      0.73      0.75       415\n",
      "weighted avg       0.77      0.73      0.74       415\n",
      "\n"
     ]
    }
   ],
   "source": [
    "from sklearn.naive_bayes import MultinomialNB\n",
    "nb = Pipeline ([('vect', CountVectorizer()),\n",
    "                ('tfidf', TfidfTransformer()),\n",
    "                ('clf', MultinomialNB()),\n",
    "               ])\n",
    "\n",
    "nb.fit(X_train, y_train)\n",
    "y_pred = nb.predict(X_test)\n",
    "\n",
    "print('accuracy %s' % accuracy_score(y_pred, y_test))\n",
    "print(classification_report(y_test, y_pred, target_names=my_tags))"
   ]
  },
  {
   "cell_type": "markdown",
   "metadata": {},
   "source": [
    "### Метод опорных векторов"
   ]
  },
  {
   "cell_type": "code",
   "execution_count": 46,
   "metadata": {},
   "outputs": [
    {
     "name": "stdout",
     "output_type": "stream",
     "text": [
      "accuracy 0.8024096385542169\n",
      "              precision    recall  f1-score   support\n",
      "\n",
      "    Политика       0.44      0.35      0.39        55\n",
      "    Общество       0.95      0.88      0.91        41\n",
      "   Экономика       0.91      0.94      0.92        31\n",
      "      В мире       0.91      0.82      0.87        51\n",
      "       Спорт       0.83      0.90      0.87        61\n",
      "Происшествия       0.62      0.80      0.70        50\n",
      "    Культура       0.93      0.96      0.95        55\n",
      "  Технологии       0.89      0.93      0.91        27\n",
      "       Наука       0.83      0.77      0.80        44\n",
      "\n",
      "    accuracy                           0.80       415\n",
      "   macro avg       0.81      0.82      0.81       415\n",
      "weighted avg       0.80      0.80      0.80       415\n",
      "\n"
     ]
    }
   ],
   "source": [
    "from sklearn.linear_model import SGDClassifier\n",
    "\n",
    "sgd = Pipeline ([('vect', CountVectorizer()),\n",
    "                 ('tfidf', TfidfTransformer()),\n",
    "                 ('clf', SGDClassifier(loss='hinge', penalty='l2', alpha=1e-3, random_state=42, max_iter=5, tol=None)),\n",
    "                ])\n",
    "\n",
    "sgd.fit(X_train, y_train)\n",
    "y_pred = sgd.predict(X_test)\n",
    "\n",
    "print('accuracy %s' % accuracy_score(y_pred, y_test))\n",
    "print(classification_report(y_test, y_pred, target_names=my_tags))"
   ]
  },
  {
   "cell_type": "markdown",
   "metadata": {},
   "source": [
    "### Логистическая регрессия"
   ]
  },
  {
   "cell_type": "code",
   "execution_count": 47,
   "metadata": {},
   "outputs": [
    {
     "name": "stdout",
     "output_type": "stream",
     "text": [
      "accuracy 0.7855421686746988\n",
      "              precision    recall  f1-score   support\n",
      "\n",
      "    Политика       0.47      0.44      0.45        55\n",
      "    Общество       0.86      0.93      0.89        41\n",
      "   Экономика       0.97      0.94      0.95        31\n",
      "      В мире       0.73      0.80      0.77        51\n",
      "       Спорт       0.86      0.92      0.89        61\n",
      "Происшествия       0.64      0.70      0.67        50\n",
      "    Культура       0.94      0.87      0.91        55\n",
      "  Технологии       0.86      0.89      0.87        27\n",
      "       Наука       0.89      0.70      0.78        44\n",
      "\n",
      "    accuracy                           0.79       415\n",
      "   macro avg       0.80      0.80      0.80       415\n",
      "weighted avg       0.79      0.79      0.78       415\n",
      "\n"
     ]
    },
    {
     "name": "stderr",
     "output_type": "stream",
     "text": [
      "/Users/user/opt/anaconda3/lib/python3.9/site-packages/sklearn/linear_model/_logistic.py:444: ConvergenceWarning: lbfgs failed to converge (status=1):\n",
      "STOP: TOTAL NO. of ITERATIONS REACHED LIMIT.\n",
      "\n",
      "Increase the number of iterations (max_iter) or scale the data as shown in:\n",
      "    https://scikit-learn.org/stable/modules/preprocessing.html\n",
      "Please also refer to the documentation for alternative solver options:\n",
      "    https://scikit-learn.org/stable/modules/linear_model.html#logistic-regression\n",
      "  n_iter_i = _check_optimize_result(\n"
     ]
    }
   ],
   "source": [
    "from sklearn.linear_model import LogisticRegression\n",
    "\n",
    "logreg = Pipeline ([('vect', CountVectorizer()),\n",
    "                    ('tfidf', TfidfTransformer()),\n",
    "                    ('clf', LogisticRegression(n_jobs=1, C=1e5)),\n",
    "                   ])\n",
    "\n",
    "logreg.fit(X_train, y_train)\n",
    "y_pred = logreg.predict(X_test)\n",
    "\n",
    "print('accuracy %s' % accuracy_score(y_pred, y_test))\n",
    "print(classification_report(y_test, y_pred, target_names=my_tags))"
   ]
  },
  {
   "cell_type": "markdown",
   "metadata": {},
   "source": [
    "### Дерево решений "
   ]
  },
  {
   "cell_type": "code",
   "execution_count": 48,
   "metadata": {},
   "outputs": [
    {
     "name": "stdout",
     "output_type": "stream",
     "text": [
      "accuracy 0.21927710843373494\n",
      "              precision    recall  f1-score   support\n",
      "\n",
      "    Политика       0.00      0.00      0.00        55\n",
      "    Общество       0.00      0.00      0.00        41\n",
      "   Экономика       0.00      0.00      0.00        31\n",
      "      В мире       0.14      1.00      0.24        51\n",
      "       Спорт       0.00      0.00      0.00        61\n",
      "Происшествия       1.00      0.38      0.55        50\n",
      "    Культура       1.00      0.38      0.55        55\n",
      "  Технологии       0.00      0.00      0.00        27\n",
      "       Наука       0.00      0.00      0.00        44\n",
      "\n",
      "    accuracy                           0.22       415\n",
      "   macro avg       0.24      0.20      0.15       415\n",
      "weighted avg       0.27      0.22      0.17       415\n",
      "\n"
     ]
    },
    {
     "name": "stderr",
     "output_type": "stream",
     "text": [
      "/Users/user/opt/anaconda3/lib/python3.9/site-packages/sklearn/metrics/_classification.py:1334: UndefinedMetricWarning: Precision and F-score are ill-defined and being set to 0.0 in labels with no predicted samples. Use `zero_division` parameter to control this behavior.\n",
      "  _warn_prf(average, modifier, msg_start, len(result))\n",
      "/Users/user/opt/anaconda3/lib/python3.9/site-packages/sklearn/metrics/_classification.py:1334: UndefinedMetricWarning: Precision and F-score are ill-defined and being set to 0.0 in labels with no predicted samples. Use `zero_division` parameter to control this behavior.\n",
      "  _warn_prf(average, modifier, msg_start, len(result))\n",
      "/Users/user/opt/anaconda3/lib/python3.9/site-packages/sklearn/metrics/_classification.py:1334: UndefinedMetricWarning: Precision and F-score are ill-defined and being set to 0.0 in labels with no predicted samples. Use `zero_division` parameter to control this behavior.\n",
      "  _warn_prf(average, modifier, msg_start, len(result))\n"
     ]
    }
   ],
   "source": [
    "from sklearn.tree import DecisionTreeClassifier\n",
    "\n",
    "dtree = Pipeline ([('vect', CountVectorizer()),\n",
    "                    ('tfidf', TfidfTransformer()),\n",
    "                    ('clf', DecisionTreeClassifier(max_depth = 2)),\n",
    "                   ])\n",
    "\n",
    "dtree.fit(X_train, y_train)\n",
    "y_pred = dtree.predict(X_test)\n",
    "\n",
    "print('accuracy %s' % accuracy_score(y_pred, y_test))\n",
    "print(classification_report(y_test, y_pred, target_names=my_tags))"
   ]
  },
  {
   "cell_type": "markdown",
   "metadata": {},
   "source": [
    "### Метод K ближайщих соседей KNN"
   ]
  },
  {
   "cell_type": "markdown",
   "metadata": {},
   "source": [
    "#### Для n_neighbors=3"
   ]
  },
  {
   "cell_type": "code",
   "execution_count": 62,
   "metadata": {},
   "outputs": [
    {
     "name": "stdout",
     "output_type": "stream",
     "text": [
      "accuracy 0.7879518072289157\n",
      "              precision    recall  f1-score   support\n",
      "\n",
      "    Политика       0.46      0.49      0.47        55\n",
      "    Общество       0.93      0.90      0.91        41\n",
      "   Экономика       0.77      0.87      0.82        31\n",
      "      В мире       0.86      0.84      0.85        51\n",
      "       Спорт       0.86      0.79      0.82        61\n",
      "Происшествия       0.64      0.74      0.69        50\n",
      "    Культура       0.94      0.89      0.92        55\n",
      "  Технологии       0.96      0.85      0.90        27\n",
      "       Наука       0.88      0.82      0.85        44\n",
      "\n",
      "    accuracy                           0.79       415\n",
      "   macro avg       0.81      0.80      0.80       415\n",
      "weighted avg       0.80      0.79      0.79       415\n",
      "\n"
     ]
    }
   ],
   "source": [
    "from sklearn.neighbors import KNeighborsClassifier\n",
    "\n",
    "knn = Pipeline([('vect', CountVectorizer()),\n",
    "                ('tfidf', TfidfTransformer()),\n",
    "                ('clf', KNeighborsClassifier(n_neighbors=3)),\n",
    "               ])\n",
    "\n",
    "knn.fit(X_train, y_train)\n",
    "y_pred = knn.predict(X_test)\n",
    "\n",
    "print('accuracy %s' % accuracy_score(y_pred, y_test))\n",
    "print(classification_report(y_test, y_pred, target_names=my_tags))"
   ]
  },
  {
   "cell_type": "markdown",
   "metadata": {},
   "source": [
    "#### Для n_neighbors=9"
   ]
  },
  {
   "cell_type": "code",
   "execution_count": 64,
   "metadata": {},
   "outputs": [
    {
     "name": "stdout",
     "output_type": "stream",
     "text": [
      "accuracy 0.7542168674698795\n",
      "              precision    recall  f1-score   support\n",
      "\n",
      "    Политика       0.46      0.47      0.46        55\n",
      "    Общество       0.92      0.88      0.90        41\n",
      "   Экономика       0.83      0.77      0.80        31\n",
      "      В мире       0.77      0.71      0.73        51\n",
      "       Спорт       0.82      0.82      0.82        61\n",
      "Происшествия       0.62      0.78      0.69        50\n",
      "    Культура       0.90      0.85      0.88        55\n",
      "  Технологии       0.87      0.74      0.80        27\n",
      "       Наука       0.80      0.80      0.80        44\n",
      "\n",
      "    accuracy                           0.75       415\n",
      "   macro avg       0.78      0.76      0.76       415\n",
      "weighted avg       0.76      0.75      0.76       415\n",
      "\n"
     ]
    }
   ],
   "source": [
    "from sklearn.neighbors import KNeighborsClassifier\n",
    "\n",
    "knn = Pipeline([('vect', CountVectorizer()),\n",
    "                ('tfidf', TfidfTransformer()),\n",
    "                ('clf', KNeighborsClassifier(n_neighbors=9)),\n",
    "               ])\n",
    "\n",
    "knn.fit(X_train, y_train)\n",
    "y_pred = knn.predict(X_test)\n",
    "\n",
    "print('accuracy %s' % accuracy_score(y_pred, y_test))\n",
    "print(classification_report(y_test, y_pred, target_names=my_tags))"
   ]
  },
  {
   "cell_type": "markdown",
   "metadata": {},
   "source": [
    "### Метод градиентного бустинга"
   ]
  },
  {
   "cell_type": "code",
   "execution_count": 56,
   "metadata": {},
   "outputs": [],
   "source": [
    "from sklearn.ensemble import GradientBoostingRegressor\n",
    "\n",
    "gbr = Pipeline([('vect', CountVectorizer()),\n",
    "                ('tfidf', TfidfTransformer()),\n",
    "                ('clf', GradientBoostingRegressor(n_estimators=200, max_depth=12, criterion='squared_error', learning_rate=0.03, min_samples_leaf=16, min_samples_split=16)),\n",
    "               ])"
   ]
  },
  {
   "cell_type": "code",
   "execution_count": 57,
   "metadata": {},
   "outputs": [
    {
     "name": "stdout",
     "output_type": "stream",
     "text": [
      "CPU times: user 2.15 s, sys: 12 ms, total: 2.17 s\n",
      "Wall time: 2.17 s\n"
     ]
    },
    {
     "data": {
      "text/html": [
       "<style>#sk-container-id-2 {color: black;background-color: white;}#sk-container-id-2 pre{padding: 0;}#sk-container-id-2 div.sk-toggleable {background-color: white;}#sk-container-id-2 label.sk-toggleable__label {cursor: pointer;display: block;width: 100%;margin-bottom: 0;padding: 0.3em;box-sizing: border-box;text-align: center;}#sk-container-id-2 label.sk-toggleable__label-arrow:before {content: \"▸\";float: left;margin-right: 0.25em;color: #696969;}#sk-container-id-2 label.sk-toggleable__label-arrow:hover:before {color: black;}#sk-container-id-2 div.sk-estimator:hover label.sk-toggleable__label-arrow:before {color: black;}#sk-container-id-2 div.sk-toggleable__content {max-height: 0;max-width: 0;overflow: hidden;text-align: left;background-color: #f0f8ff;}#sk-container-id-2 div.sk-toggleable__content pre {margin: 0.2em;color: black;border-radius: 0.25em;background-color: #f0f8ff;}#sk-container-id-2 input.sk-toggleable__control:checked~div.sk-toggleable__content {max-height: 200px;max-width: 100%;overflow: auto;}#sk-container-id-2 input.sk-toggleable__control:checked~label.sk-toggleable__label-arrow:before {content: \"▾\";}#sk-container-id-2 div.sk-estimator input.sk-toggleable__control:checked~label.sk-toggleable__label {background-color: #d4ebff;}#sk-container-id-2 div.sk-label input.sk-toggleable__control:checked~label.sk-toggleable__label {background-color: #d4ebff;}#sk-container-id-2 input.sk-hidden--visually {border: 0;clip: rect(1px 1px 1px 1px);clip: rect(1px, 1px, 1px, 1px);height: 1px;margin: -1px;overflow: hidden;padding: 0;position: absolute;width: 1px;}#sk-container-id-2 div.sk-estimator {font-family: monospace;background-color: #f0f8ff;border: 1px dotted black;border-radius: 0.25em;box-sizing: border-box;margin-bottom: 0.5em;}#sk-container-id-2 div.sk-estimator:hover {background-color: #d4ebff;}#sk-container-id-2 div.sk-parallel-item::after {content: \"\";width: 100%;border-bottom: 1px solid gray;flex-grow: 1;}#sk-container-id-2 div.sk-label:hover label.sk-toggleable__label {background-color: #d4ebff;}#sk-container-id-2 div.sk-serial::before {content: \"\";position: absolute;border-left: 1px solid gray;box-sizing: border-box;top: 0;bottom: 0;left: 50%;z-index: 0;}#sk-container-id-2 div.sk-serial {display: flex;flex-direction: column;align-items: center;background-color: white;padding-right: 0.2em;padding-left: 0.2em;position: relative;}#sk-container-id-2 div.sk-item {position: relative;z-index: 1;}#sk-container-id-2 div.sk-parallel {display: flex;align-items: stretch;justify-content: center;background-color: white;position: relative;}#sk-container-id-2 div.sk-item::before, #sk-container-id-2 div.sk-parallel-item::before {content: \"\";position: absolute;border-left: 1px solid gray;box-sizing: border-box;top: 0;bottom: 0;left: 50%;z-index: -1;}#sk-container-id-2 div.sk-parallel-item {display: flex;flex-direction: column;z-index: 1;position: relative;background-color: white;}#sk-container-id-2 div.sk-parallel-item:first-child::after {align-self: flex-end;width: 50%;}#sk-container-id-2 div.sk-parallel-item:last-child::after {align-self: flex-start;width: 50%;}#sk-container-id-2 div.sk-parallel-item:only-child::after {width: 0;}#sk-container-id-2 div.sk-dashed-wrapped {border: 1px dashed gray;margin: 0 0.4em 0.5em 0.4em;box-sizing: border-box;padding-bottom: 0.4em;background-color: white;}#sk-container-id-2 div.sk-label label {font-family: monospace;font-weight: bold;display: inline-block;line-height: 1.2em;}#sk-container-id-2 div.sk-label-container {text-align: center;}#sk-container-id-2 div.sk-container {/* jupyter's `normalize.less` sets `[hidden] { display: none; }` but bootstrap.min.css set `[hidden] { display: none !important; }` so we also need the `!important` here to be able to override the default hidden behavior on the sphinx rendered scikit-learn.org. See: https://github.com/scikit-learn/scikit-learn/issues/21755 */display: inline-block !important;position: relative;}#sk-container-id-2 div.sk-text-repr-fallback {display: none;}</style><div id=\"sk-container-id-2\" class=\"sk-top-container\"><div class=\"sk-text-repr-fallback\"><pre>Pipeline(steps=[(&#x27;vect&#x27;, CountVectorizer()), (&#x27;tfidf&#x27;, TfidfTransformer()),\n",
       "                (&#x27;clf&#x27;,\n",
       "                 GradientBoostingRegressor(criterion=&#x27;squared_error&#x27;,\n",
       "                                           learning_rate=0.03, max_depth=12,\n",
       "                                           min_samples_leaf=16,\n",
       "                                           min_samples_split=16,\n",
       "                                           n_estimators=200))])</pre><b>In a Jupyter environment, please rerun this cell to show the HTML representation or trust the notebook. <br />On GitHub, the HTML representation is unable to render, please try loading this page with nbviewer.org.</b></div><div class=\"sk-container\" hidden><div class=\"sk-item sk-dashed-wrapped\"><div class=\"sk-label-container\"><div class=\"sk-label sk-toggleable\"><input class=\"sk-toggleable__control sk-hidden--visually\" id=\"sk-estimator-id-5\" type=\"checkbox\" ><label for=\"sk-estimator-id-5\" class=\"sk-toggleable__label sk-toggleable__label-arrow\">Pipeline</label><div class=\"sk-toggleable__content\"><pre>Pipeline(steps=[(&#x27;vect&#x27;, CountVectorizer()), (&#x27;tfidf&#x27;, TfidfTransformer()),\n",
       "                (&#x27;clf&#x27;,\n",
       "                 GradientBoostingRegressor(criterion=&#x27;squared_error&#x27;,\n",
       "                                           learning_rate=0.03, max_depth=12,\n",
       "                                           min_samples_leaf=16,\n",
       "                                           min_samples_split=16,\n",
       "                                           n_estimators=200))])</pre></div></div></div><div class=\"sk-serial\"><div class=\"sk-item\"><div class=\"sk-estimator sk-toggleable\"><input class=\"sk-toggleable__control sk-hidden--visually\" id=\"sk-estimator-id-6\" type=\"checkbox\" ><label for=\"sk-estimator-id-6\" class=\"sk-toggleable__label sk-toggleable__label-arrow\">CountVectorizer</label><div class=\"sk-toggleable__content\"><pre>CountVectorizer()</pre></div></div></div><div class=\"sk-item\"><div class=\"sk-estimator sk-toggleable\"><input class=\"sk-toggleable__control sk-hidden--visually\" id=\"sk-estimator-id-7\" type=\"checkbox\" ><label for=\"sk-estimator-id-7\" class=\"sk-toggleable__label sk-toggleable__label-arrow\">TfidfTransformer</label><div class=\"sk-toggleable__content\"><pre>TfidfTransformer()</pre></div></div></div><div class=\"sk-item\"><div class=\"sk-estimator sk-toggleable\"><input class=\"sk-toggleable__control sk-hidden--visually\" id=\"sk-estimator-id-8\" type=\"checkbox\" ><label for=\"sk-estimator-id-8\" class=\"sk-toggleable__label sk-toggleable__label-arrow\">GradientBoostingRegressor</label><div class=\"sk-toggleable__content\"><pre>GradientBoostingRegressor(criterion=&#x27;squared_error&#x27;, learning_rate=0.03,\n",
       "                          max_depth=12, min_samples_leaf=16,\n",
       "                          min_samples_split=16, n_estimators=200)</pre></div></div></div></div></div></div></div>"
      ],
      "text/plain": [
       "Pipeline(steps=[('vect', CountVectorizer()), ('tfidf', TfidfTransformer()),\n",
       "                ('clf',\n",
       "                 GradientBoostingRegressor(criterion='squared_error',\n",
       "                                           learning_rate=0.03, max_depth=12,\n",
       "                                           min_samples_leaf=16,\n",
       "                                           min_samples_split=16,\n",
       "                                           n_estimators=200))])"
      ]
     },
     "execution_count": 57,
     "metadata": {},
     "output_type": "execute_result"
    }
   ],
   "source": [
    "%%time\n",
    "gbr.fit(X_train, y_train)"
   ]
  },
  {
   "cell_type": "code",
   "execution_count": 58,
   "metadata": {},
   "outputs": [
    {
     "name": "stdout",
     "output_type": "stream",
     "text": [
      "CPU times: user 17.7 ms, sys: 2.16 ms, total: 19.9 ms\n",
      "Wall time: 18.3 ms\n"
     ]
    }
   ],
   "source": [
    "%%time\n",
    "y_pred = gbr.predict(X_test)"
   ]
  },
  {
   "cell_type": "code",
   "execution_count": 61,
   "metadata": {},
   "outputs": [
    {
     "name": "stdout",
     "output_type": "stream",
     "text": [
      "0.38607753283743684\n",
      "0.17644462561204666\n",
      "MSE: 5.23\n",
      "0.17644462561204666\n"
     ]
    }
   ],
   "source": [
    "from sklearn.metrics import mean_squared_error,r2_score \n",
    "\n",
    "train_accuracy_score=gbr.score(X_train,y_train)\n",
    "test_accuracy_score=gbr.score(X_test,y_test)\n",
    "mse = mean_squared_error(y_test,y_pred)\n",
    "\n",
    "print(train_accuracy_score)\n",
    "print(test_accuracy_score)\n",
    "print(\"MSE: %.2f\" % mse)\n",
    "print(r2_score(y_test,y_pred))"
   ]
  },
  {
   "cell_type": "code",
   "execution_count": null,
   "metadata": {},
   "outputs": [],
   "source": []
  }
 ],
 "metadata": {
  "kernelspec": {
   "display_name": "Python 3 (ipykernel)",
   "language": "python",
   "name": "python3"
  },
  "language_info": {
   "codemirror_mode": {
    "name": "ipython",
    "version": 3
   },
   "file_extension": ".py",
   "mimetype": "text/x-python",
   "name": "python",
   "nbconvert_exporter": "python",
   "pygments_lexer": "ipython3",
   "version": "3.9.13"
  }
 },
 "nbformat": 4,
 "nbformat_minor": 4
}
