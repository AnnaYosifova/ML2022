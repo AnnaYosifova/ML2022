{
 "cells": [
  {
   "cell_type": "markdown",
   "id": "c8639597",
   "metadata": {},
   "source": [
    "## Создание классических моделей машинного обучения"
   ]
  },
  {
   "cell_type": "markdown",
   "id": "c4a31b5c",
   "metadata": {},
   "source": [
    "### Импорт собранных и обработанных данных"
   ]
  },
  {
   "cell_type": "code",
   "execution_count": 3,
   "id": "1bcb51aa",
   "metadata": {},
   "outputs": [
    {
     "data": {
      "text/html": [
       "<div>\n",
       "<style scoped>\n",
       "    .dataframe tbody tr th:only-of-type {\n",
       "        vertical-align: middle;\n",
       "    }\n",
       "\n",
       "    .dataframe tbody tr th {\n",
       "        vertical-align: top;\n",
       "    }\n",
       "\n",
       "    .dataframe thead th {\n",
       "        text-align: right;\n",
       "    }\n",
       "</style>\n",
       "<table border=\"1\" class=\"dataframe\">\n",
       "  <thead>\n",
       "    <tr style=\"text-align: right;\">\n",
       "      <th></th>\n",
       "      <th>main_rubric</th>\n",
       "      <th>rubric</th>\n",
       "      <th>text_lemm</th>\n",
       "      <th>title_lemm</th>\n",
       "    </tr>\n",
       "  </thead>\n",
       "  <tbody>\n",
       "    <tr>\n",
       "      <th>0</th>\n",
       "      <td>Происшествия</td>\n",
       "      <td>Происшествия</td>\n",
       "      <td>восемь человек погибать пострадать результат о...</td>\n",
       "      <td>тасс лнр время обстрел погибать восемь человек</td>\n",
       "    </tr>\n",
       "    <tr>\n",
       "      <th>1</th>\n",
       "      <td>Происшествия</td>\n",
       "      <td>Происшествия</td>\n",
       "      <td>буквально сегодня ночь вновь обстреливать мирн...</td>\n",
       "      <td>тасс обстрел всу лантратовка лнр погибать восе...</td>\n",
       "    </tr>\n",
       "    <tr>\n",
       "      <th>2</th>\n",
       "      <td>Происшествия</td>\n",
       "      <td>Происшествия</td>\n",
       "      <td>результате обстрел населенный пункт лантратовк...</td>\n",
       "      <td>результате обстрел всу лантратовка лнр погибат...</td>\n",
       "    </tr>\n",
       "    <tr>\n",
       "      <th>3</th>\n",
       "      <td>Происшествия</td>\n",
       "      <td>Происшествия</td>\n",
       "      <td>украинская армия наносить удар село лантратовк...</td>\n",
       "      <td>обстреле садиться лантратовка лнр украинский б...</td>\n",
       "    </tr>\n",
       "    <tr>\n",
       "      <th>4</th>\n",
       "      <td>Происшествия</td>\n",
       "      <td>Происшествия</td>\n",
       "      <td>результате обстрел украинский националист насе...</td>\n",
       "      <td>обстреле всу садиться лантратовка лнр погибать...</td>\n",
       "    </tr>\n",
       "    <tr>\n",
       "      <th>...</th>\n",
       "      <td>...</td>\n",
       "      <td>...</td>\n",
       "      <td>...</td>\n",
       "      <td>...</td>\n",
       "    </tr>\n",
       "    <tr>\n",
       "      <th>3428</th>\n",
       "      <td>Наука</td>\n",
       "      <td>Космос</td>\n",
       "      <td>китай суметь успешно осуществлять запуск первы...</td>\n",
       "      <td>китай потерять спутник запуск первый метановый...</td>\n",
       "    </tr>\n",
       "    <tr>\n",
       "      <th>3429</th>\n",
       "      <td>Наука</td>\n",
       "      <td>Космос</td>\n",
       "      <td>спутников который находиться борт ракета потеряны</td>\n",
       "      <td>старт первый мир ракета метан чжуцюэ заканчива...</td>\n",
       "    </tr>\n",
       "    <tr>\n",
       "      <th>3430</th>\n",
       "      <td>Наука</td>\n",
       "      <td>Космос</td>\n",
       "      <td>помимо испытание новый тип двигатель цель мисс...</td>\n",
       "      <td>первый орбитальный запуск ракета жидкий метан ...</td>\n",
       "    </tr>\n",
       "    <tr>\n",
       "      <th>3431</th>\n",
       "      <td>Наука</td>\n",
       "      <td>Космос</td>\n",
       "      <td>ходе миссия чжуцюэ удаваться достигать орбита ...</td>\n",
       "      <td>попытка запуск первый мир метановый орбитальны...</td>\n",
       "    </tr>\n",
       "    <tr>\n",
       "      <th>3432</th>\n",
       "      <td>Наука</td>\n",
       "      <td>Космос</td>\n",
       "      <td>ученые университет джонс хопкинс выяснять избы...</td>\n",
       "      <td>physical review letters аксион мочь порождать ...</td>\n",
       "    </tr>\n",
       "  </tbody>\n",
       "</table>\n",
       "<p>3433 rows × 4 columns</p>\n",
       "</div>"
      ],
      "text/plain": [
       "       main_rubric        rubric  \\\n",
       "0     Происшествия  Происшествия   \n",
       "1     Происшествия  Происшествия   \n",
       "2     Происшествия  Происшествия   \n",
       "3     Происшествия  Происшествия   \n",
       "4     Происшествия  Происшествия   \n",
       "...            ...           ...   \n",
       "3428         Наука        Космос   \n",
       "3429         Наука        Космос   \n",
       "3430         Наука        Космос   \n",
       "3431         Наука        Космос   \n",
       "3432         Наука        Космос   \n",
       "\n",
       "                                              text_lemm  \\\n",
       "0     восемь человек погибать пострадать результат о...   \n",
       "1     буквально сегодня ночь вновь обстреливать мирн...   \n",
       "2     результате обстрел населенный пункт лантратовк...   \n",
       "3     украинская армия наносить удар село лантратовк...   \n",
       "4     результате обстрел украинский националист насе...   \n",
       "...                                                 ...   \n",
       "3428  китай суметь успешно осуществлять запуск первы...   \n",
       "3429  спутников который находиться борт ракета потеряны   \n",
       "3430  помимо испытание новый тип двигатель цель мисс...   \n",
       "3431  ходе миссия чжуцюэ удаваться достигать орбита ...   \n",
       "3432  ученые университет джонс хопкинс выяснять избы...   \n",
       "\n",
       "                                             title_lemm  \n",
       "0        тасс лнр время обстрел погибать восемь человек  \n",
       "1     тасс обстрел всу лантратовка лнр погибать восе...  \n",
       "2     результате обстрел всу лантратовка лнр погибат...  \n",
       "3     обстреле садиться лантратовка лнр украинский б...  \n",
       "4     обстреле всу садиться лантратовка лнр погибать...  \n",
       "...                                                 ...  \n",
       "3428  китай потерять спутник запуск первый метановый...  \n",
       "3429  старт первый мир ракета метан чжуцюэ заканчива...  \n",
       "3430  первый орбитальный запуск ракета жидкий метан ...  \n",
       "3431  попытка запуск первый мир метановый орбитальны...  \n",
       "3432  physical review letters аксион мочь порождать ...  \n",
       "\n",
       "[3433 rows x 4 columns]"
      ]
     },
     "execution_count": 3,
     "metadata": {},
     "output_type": "execute_result"
    }
   ],
   "source": [
    "import pandas as pd\n",
    "\n",
    "# Для mac\n",
    "df_nlp = pd.read_csv(r'/Users/user/Documents/ML.csv')\n",
    "\n",
    "# Для win\n",
    "#df_nlp = pd.read_csv(r'C:\\Users\\User\\Downloads\\ML.csv'), если в начале лишних столбец с индексами\n",
    "\n",
    "df_ml = df_nlp.drop(df_nlp.columns[[0,3,4,5,6,7,8,9,10]], axis = 1)\n",
    "\n",
    "df_ml"
   ]
  },
  {
   "cell_type": "markdown",
   "id": "93694ec1",
   "metadata": {},
   "source": [
    "### Кодирование целевой переменной. Формирование тестовой и обучающей выборок"
   ]
  },
  {
   "cell_type": "code",
   "execution_count": 4,
   "id": "6f205bea",
   "metadata": {},
   "outputs": [
    {
     "data": {
      "text/plain": [
       "(2403,)"
      ]
     },
     "execution_count": 4,
     "metadata": {},
     "output_type": "execute_result"
    }
   ],
   "source": [
    "from sklearn.preprocessing import LabelEncoder\n",
    "from sklearn.preprocessing import OneHotEncoder\n",
    "from sklearn.model_selection import train_test_split\n",
    "\n",
    "rubrics = ['Политика', 'Общество', 'Экономика', 'В мире', 'Спорт', 'Происшествия', 'Культура', 'Технологии', 'Наука']\n",
    "\n",
    "encoder = LabelEncoder()\n",
    "rubrics_list = df_ml['main_rubric'].to_list()\n",
    "rubric_labels = encoder.fit_transform(rubrics_list)\n",
    "\n",
    "X = df_ml['text_lemm']\n",
    "y = rubric_labels\n",
    "\n",
    "X_train, X_test, y_train, y_test = train_test_split(X, y, test_size=0.3, random_state=42)\n",
    "my_tags = rubrics\n",
    "\n",
    "X_train.shape"
   ]
  },
  {
   "cell_type": "code",
   "execution_count": 5,
   "id": "b435f8a2",
   "metadata": {},
   "outputs": [],
   "source": [
    "from sklearn.pipeline import Pipeline\n",
    "from sklearn.feature_extraction.text import TfidfTransformer\n",
    "from sklearn.feature_extraction.text import CountVectorizer\n",
    "from sklearn.metrics import accuracy_score\n",
    "from sklearn.metrics import classification_report"
   ]
  },
  {
   "cell_type": "markdown",
   "id": "f60d09c6",
   "metadata": {},
   "source": [
    "### Байесовский классификатор"
   ]
  },
  {
   "cell_type": "code",
   "execution_count": 6,
   "id": "c4b49ef3",
   "metadata": {},
   "outputs": [
    {
     "name": "stdout",
     "output_type": "stream",
     "text": [
      "accuracy 0.7922330097087379\n",
      "              precision    recall  f1-score   support\n",
      "\n",
      "    Политика       0.42      0.10      0.16        50\n",
      "    Общество       0.99      0.81      0.89       108\n",
      "   Экономика       1.00      0.49      0.66        69\n",
      "      В мире       0.60      0.95      0.74       208\n",
      "       Спорт       0.95      0.79      0.87       126\n",
      "Происшествия       0.78      0.56      0.65        68\n",
      "    Культура       0.81      0.96      0.88       171\n",
      "  Технологии       0.98      0.83      0.90       108\n",
      "       Наука       0.83      0.81      0.82       122\n",
      "\n",
      "    accuracy                           0.79      1030\n",
      "   macro avg       0.82      0.70      0.73      1030\n",
      "weighted avg       0.82      0.79      0.78      1030\n",
      "\n"
     ]
    },
    {
     "data": {
      "text/plain": [
       "0.79"
      ]
     },
     "execution_count": 6,
     "metadata": {},
     "output_type": "execute_result"
    }
   ],
   "source": [
    "from sklearn.naive_bayes import MultinomialNB\n",
    "\n",
    "def nb_classifier():\n",
    "    \n",
    "    nb = Pipeline ([('vect', CountVectorizer()),\n",
    "                    ('tfidf', TfidfTransformer()),\n",
    "                    ('clf', MultinomialNB()),\n",
    "                   ])\n",
    "\n",
    "    nb.fit(X_train, y_train)\n",
    "    y_pred = nb.predict(X_test)\n",
    "\n",
    "    print('accuracy %s' % accuracy_score(y_pred, y_test))\n",
    "    print(classification_report(y_test, y_pred, target_names=my_tags))\n",
    "    \n",
    "    return round(accuracy_score(y_pred, y_test), 2)\n",
    "\n",
    "nb_classifier()"
   ]
  },
  {
   "cell_type": "markdown",
   "id": "8bcd1374",
   "metadata": {},
   "source": [
    "### Метод опорных векторов"
   ]
  },
  {
   "cell_type": "code",
   "execution_count": 7,
   "id": "3ad10a64",
   "metadata": {},
   "outputs": [
    {
     "name": "stdout",
     "output_type": "stream",
     "text": [
      "accuracy 0.8650485436893204\n",
      "              precision    recall  f1-score   support\n",
      "\n",
      "    Политика       0.53      0.34      0.41        50\n",
      "    Общество       0.91      0.93      0.92       108\n",
      "   Экономика       0.97      0.86      0.91        69\n",
      "      В мире       0.84      0.89      0.87       208\n",
      "       Спорт       0.91      0.87      0.89       126\n",
      "Происшествия       0.81      0.81      0.81        68\n",
      "    Культура       0.92      0.94      0.93       171\n",
      "  Технологии       0.87      0.89      0.88       108\n",
      "       Наука       0.82      0.88      0.85       122\n",
      "\n",
      "    accuracy                           0.87      1030\n",
      "   macro avg       0.84      0.82      0.83      1030\n",
      "weighted avg       0.86      0.87      0.86      1030\n",
      "\n"
     ]
    },
    {
     "data": {
      "text/plain": [
       "0.87"
      ]
     },
     "execution_count": 7,
     "metadata": {},
     "output_type": "execute_result"
    }
   ],
   "source": [
    "from sklearn.linear_model import SGDClassifier\n",
    "\n",
    "def sgd_classifier():\n",
    "    \n",
    "    sgd = Pipeline ([('vect', CountVectorizer()),\n",
    "                     ('tfidf', TfidfTransformer()),\n",
    "                     ('clf', SGDClassifier(loss='hinge', penalty='l2', alpha=1e-3, random_state=42, max_iter=5, tol=None)),\n",
    "                    ])\n",
    "\n",
    "    sgd.fit(X_train, y_train)\n",
    "    y_pred = sgd.predict(X_test)\n",
    "\n",
    "    print('accuracy %s' % accuracy_score(y_pred, y_test))\n",
    "    print(classification_report(y_test, y_pred, target_names=my_tags))\n",
    "    \n",
    "    return round(accuracy_score(y_pred, y_test), 2)\n",
    "\n",
    "sgd_classifier()"
   ]
  },
  {
   "cell_type": "markdown",
   "id": "e5c897fa",
   "metadata": {},
   "source": [
    "### Логистическая регрессия"
   ]
  },
  {
   "cell_type": "code",
   "execution_count": 8,
   "id": "2bbb7277",
   "metadata": {},
   "outputs": [
    {
     "name": "stdout",
     "output_type": "stream",
     "text": [
      "accuracy 0.8650485436893204\n",
      "              precision    recall  f1-score   support\n",
      "\n",
      "    Политика       0.51      0.52      0.51        50\n",
      "    Общество       0.92      0.90      0.91       108\n",
      "   Экономика       0.97      0.86      0.91        69\n",
      "      В мире       0.81      0.90      0.85       208\n",
      "       Спорт       0.92      0.87      0.90       126\n",
      "Происшествия       0.78      0.76      0.77        68\n",
      "    Культура       0.95      0.94      0.94       171\n",
      "  Технологии       0.91      0.91      0.91       108\n",
      "       Наука       0.86      0.83      0.85       122\n",
      "\n",
      "    accuracy                           0.87      1030\n",
      "   macro avg       0.85      0.83      0.84      1030\n",
      "weighted avg       0.87      0.87      0.87      1030\n",
      "\n"
     ]
    },
    {
     "name": "stderr",
     "output_type": "stream",
     "text": [
      "/Users/user/opt/anaconda3/lib/python3.9/site-packages/sklearn/linear_model/_logistic.py:444: ConvergenceWarning: lbfgs failed to converge (status=1):\n",
      "STOP: TOTAL NO. of ITERATIONS REACHED LIMIT.\n",
      "\n",
      "Increase the number of iterations (max_iter) or scale the data as shown in:\n",
      "    https://scikit-learn.org/stable/modules/preprocessing.html\n",
      "Please also refer to the documentation for alternative solver options:\n",
      "    https://scikit-learn.org/stable/modules/linear_model.html#logistic-regression\n",
      "  n_iter_i = _check_optimize_result(\n"
     ]
    },
    {
     "data": {
      "text/plain": [
       "0.87"
      ]
     },
     "execution_count": 8,
     "metadata": {},
     "output_type": "execute_result"
    }
   ],
   "source": [
    "from sklearn.linear_model import LogisticRegression\n",
    "\n",
    "def logreg_classifier():\n",
    "\n",
    "    logreg = Pipeline ([('vect', CountVectorizer()),\n",
    "                        ('tfidf', TfidfTransformer()),\n",
    "                        ('clf', LogisticRegression(n_jobs=1, C=1e5)),\n",
    "                       ])\n",
    "\n",
    "    logreg.fit(X_train, y_train)\n",
    "    y_pred = logreg.predict(X_test)\n",
    "\n",
    "    print('accuracy %s' % accuracy_score(y_pred, y_test))\n",
    "    print(classification_report(y_test, y_pred, target_names=my_tags))\n",
    "    \n",
    "    return round(accuracy_score(y_pred, y_test), 2)\n",
    "\n",
    "logreg_classifier()"
   ]
  },
  {
   "cell_type": "markdown",
   "id": "2ef07dbc",
   "metadata": {},
   "source": [
    "### Дерево решений "
   ]
  },
  {
   "cell_type": "code",
   "execution_count": 9,
   "id": "dfc4890a",
   "metadata": {},
   "outputs": [
    {
     "name": "stdout",
     "output_type": "stream",
     "text": [
      "accuracy 0.26796116504854367\n",
      "              precision    recall  f1-score   support\n",
      "\n",
      "    Политика       0.00      0.00      0.00        50\n",
      "    Общество       0.00      0.00      0.00       108\n",
      "   Экономика       0.00      0.00      0.00        69\n",
      "      В мире       0.22      1.00      0.36       208\n",
      "       Спорт       0.89      0.25      0.40       126\n",
      "Происшествия       0.00      0.00      0.00        68\n",
      "    Культура       1.00      0.21      0.35       171\n",
      "  Технологии       0.00      0.00      0.00       108\n",
      "       Наука       0.00      0.00      0.00       122\n",
      "\n",
      "    accuracy                           0.27      1030\n",
      "   macro avg       0.23      0.16      0.12      1030\n",
      "weighted avg       0.32      0.27      0.18      1030\n",
      "\n"
     ]
    },
    {
     "name": "stderr",
     "output_type": "stream",
     "text": [
      "/Users/user/opt/anaconda3/lib/python3.9/site-packages/sklearn/metrics/_classification.py:1334: UndefinedMetricWarning: Precision and F-score are ill-defined and being set to 0.0 in labels with no predicted samples. Use `zero_division` parameter to control this behavior.\n",
      "  _warn_prf(average, modifier, msg_start, len(result))\n",
      "/Users/user/opt/anaconda3/lib/python3.9/site-packages/sklearn/metrics/_classification.py:1334: UndefinedMetricWarning: Precision and F-score are ill-defined and being set to 0.0 in labels with no predicted samples. Use `zero_division` parameter to control this behavior.\n",
      "  _warn_prf(average, modifier, msg_start, len(result))\n",
      "/Users/user/opt/anaconda3/lib/python3.9/site-packages/sklearn/metrics/_classification.py:1334: UndefinedMetricWarning: Precision and F-score are ill-defined and being set to 0.0 in labels with no predicted samples. Use `zero_division` parameter to control this behavior.\n",
      "  _warn_prf(average, modifier, msg_start, len(result))\n"
     ]
    },
    {
     "data": {
      "text/plain": [
       "0.27"
      ]
     },
     "execution_count": 9,
     "metadata": {},
     "output_type": "execute_result"
    }
   ],
   "source": [
    "from sklearn.tree import DecisionTreeClassifier\n",
    "\n",
    "def dtree_classifier():\n",
    "    \n",
    "    dtree = Pipeline ([('vect', CountVectorizer()),\n",
    "                       ('tfidf', TfidfTransformer()),\n",
    "                       ('clf', DecisionTreeClassifier(max_depth = 2)),\n",
    "                      ])\n",
    "\n",
    "    dtree.fit(X_train, y_train)\n",
    "    y_pred = dtree.predict(X_test)\n",
    "\n",
    "    print('accuracy %s' % accuracy_score(y_pred, y_test))\n",
    "    print(classification_report(y_test, y_pred, target_names=my_tags))\n",
    "    \n",
    "    return round(accuracy_score(y_pred, y_test), 2)\n",
    "\n",
    "dtree_classifier()"
   ]
  },
  {
   "cell_type": "markdown",
   "id": "ff5fc9fa",
   "metadata": {},
   "source": [
    "### Метод K ближайщих соседей KNN"
   ]
  },
  {
   "cell_type": "code",
   "execution_count": 10,
   "id": "2afd3d11",
   "metadata": {},
   "outputs": [
    {
     "name": "stdout",
     "output_type": "stream",
     "text": [
      "accuracy 0.8514563106796117\n",
      "              precision    recall  f1-score   support\n",
      "\n",
      "    Политика       0.53      0.60      0.56        50\n",
      "    Общество       0.83      0.88      0.86       108\n",
      "   Экономика       0.83      0.91      0.87        69\n",
      "      В мире       0.84      0.85      0.84       208\n",
      "       Спорт       0.90      0.90      0.90       126\n",
      "Происшествия       0.77      0.82      0.79        68\n",
      "    Культура       0.91      0.92      0.92       171\n",
      "  Технологии       0.90      0.80      0.84       108\n",
      "       Наука       0.95      0.81      0.88       122\n",
      "\n",
      "    accuracy                           0.85      1030\n",
      "   macro avg       0.83      0.83      0.83      1030\n",
      "weighted avg       0.86      0.85      0.85      1030\n",
      "\n"
     ]
    },
    {
     "data": {
      "text/plain": [
       "0.85"
      ]
     },
     "execution_count": 10,
     "metadata": {},
     "output_type": "execute_result"
    }
   ],
   "source": [
    "from sklearn.neighbors import KNeighborsClassifier\n",
    "\n",
    "def knn_classifier():\n",
    "\n",
    "    knn = Pipeline([('vect', CountVectorizer()),\n",
    "                    ('tfidf', TfidfTransformer()),\n",
    "                    ('clf', KNeighborsClassifier(n_neighbors=3)),\n",
    "                   ])\n",
    "\n",
    "    knn.fit(X_train, y_train)\n",
    "    y_pred = knn.predict(X_test)\n",
    "\n",
    "    print('accuracy %s' % accuracy_score(y_pred, y_test))\n",
    "    print(classification_report(y_test, y_pred, target_names=my_tags))\n",
    "    \n",
    "    return round(accuracy_score(y_pred, y_test), 2)\n",
    "\n",
    "knn_classifier()"
   ]
  },
  {
   "cell_type": "markdown",
   "id": "2b11db16",
   "metadata": {},
   "source": [
    "### Метод градиентного бустинга"
   ]
  },
  {
   "cell_type": "code",
   "execution_count": 11,
   "id": "8ca063d5",
   "metadata": {},
   "outputs": [
    {
     "name": "stdout",
     "output_type": "stream",
     "text": [
      "0.5396581257869708\n",
      "0.40287001073743167\n",
      "MSE: 3.37\n",
      "0.40287001073743167\n"
     ]
    },
    {
     "data": {
      "text/plain": [
       "0.4"
      ]
     },
     "execution_count": 11,
     "metadata": {},
     "output_type": "execute_result"
    }
   ],
   "source": [
    "from sklearn.ensemble import GradientBoostingRegressor\n",
    "from sklearn.metrics import mean_squared_error,r2_score \n",
    "\n",
    "def gbr_classifier():\n",
    "    \n",
    "    gbr = Pipeline([('vect', CountVectorizer()),\n",
    "                    ('tfidf', TfidfTransformer()),\n",
    "                    ('clf', GradientBoostingRegressor(n_estimators=200, max_depth=12, criterion='squared_error', learning_rate=0.03, min_samples_leaf=16, min_samples_split=16)),\n",
    "                   ])\n",
    "\n",
    "    gbr.fit(X_train, y_train)\n",
    "    y_pred = gbr.predict(X_test)\n",
    "    train_accuracy_score=gbr.score(X_train,y_train)\n",
    "    test_accuracy_score=gbr.score(X_test,y_test)\n",
    "    mse = mean_squared_error(y_test,y_pred)\n",
    "\n",
    "    print(train_accuracy_score)\n",
    "    print(test_accuracy_score)\n",
    "    print(\"MSE: %.2f\" % mse)\n",
    "    print(r2_score(y_test,y_pred))\n",
    "    \n",
    "    return round(test_accuracy_score, 2)\n",
    "\n",
    "gbr_classifier()"
   ]
  },
  {
   "cell_type": "markdown",
   "id": "951fdeac",
   "metadata": {},
   "source": [
    "### Случайный лес"
   ]
  },
  {
   "cell_type": "code",
   "execution_count": 28,
   "id": "fac67fcb",
   "metadata": {},
   "outputs": [],
   "source": [
    "from sklearn.ensemble import RandomForestRegressor\n",
    "from sklearn.metrics import roc_auc_score\n",
    "\n",
    "def rf_classifier():\n",
    "\n",
    "    rf = Pipeline([('vect', CountVectorizer()),\n",
    "                    ('tfidf', TfidfTransformer()),\n",
    "                    ('clf', RandomForestRegressor(n_estimators=10,\n",
    "                               oob_score=True,\n",
    "                               random_state=1))\n",
    "                  ])\n",
    "\n",
    "    rf.fit(X_train, y_train)\n",
    "    y_pred = rf.predict(X_test)\n",
    "\n",
    "    print('accuracy %s' % accuracy_score(y_pred, y_test))\n",
    "    print(classification_report(y_test, y_pred, target_names=my_tags))\n",
    "    print (\"AUC-ROC (oob) = \", roc_auc_score(y_train, rf.oob_prediction_))\n",
    "    print (\"AUC-ROC (test) = \", roc_auc_score(y_test, y_pred))\n",
    "    return round(accuracy_score(y_pred, y_test), 2)\n",
    "\n",
    "#rf_classifier()"
   ]
  },
  {
   "cell_type": "code",
   "execution_count": 22,
   "id": "d42b6dcf",
   "metadata": {},
   "outputs": [],
   "source": [
    "import matplotlib as mpl\n",
    "import matplotlib.pyplot as plt\n",
    "import seaborn as sns\n",
    "\n",
    "# константы\n",
    "#  ядро для генератора случайных чисел\n",
    "my_seed = 8\n",
    "#  создаём псевдоним для короткого обращения к графикам\n",
    "plt = mpl.pyplot\n",
    "# настройка стиля и отображения графиков\n",
    "#  примеры стилей и шаблонов графиков: \n",
    "#  http://tonysyu.github.io/raw_content/matplotlib-style-gallery/gallery.html\n",
    "mpl.style.use('seaborn-whitegrid')\n",
    "sns.set_palette(\"Set2\")\n",
    "# раскомментируйте следующую строку, чтобы посмотреть палитру\n",
    "# sns.color_palette(\"Set2\")"
   ]
  },
  {
   "cell_type": "code",
   "execution_count": 25,
   "id": "9bc71782",
   "metadata": {},
   "outputs": [
    {
     "data": {
      "text/plain": [
       "array([2403, 1202,   49,   11])"
      ]
     },
     "execution_count": 25,
     "metadata": {},
     "output_type": "execute_result"
    }
   ],
   "source": [
    "import numpy as np\n",
    "\n",
    "# сколько столбцов в обучающих данных (p)\n",
    "X_m = X_train.shape[-1]\n",
    "# возьмём значения для m: p, p/2, sqrt(p) и log2(p)\n",
    "ms = np.around([X_m, X_m / 2, np.sqrt(X_m), np.log2(X_m)]).astype(int)\n",
    "ms"
   ]
  },
  {
   "cell_type": "code",
   "execution_count": 27,
   "id": "ce91735e",
   "metadata": {},
   "outputs": [
    {
     "ename": "ValueError",
     "evalue": "\nAll the 100 fits failed.\nIt is very likely that your model is misconfigured.\nYou can try to debug the error by setting error_score='raise'.\n\nBelow are more details about the failures:\n--------------------------------------------------------------------------------\n80 fits failed with the following error:\nTraceback (most recent call last):\n  File \"/Users/user/opt/anaconda3/lib/python3.9/site-packages/sklearn/model_selection/_validation.py\", line 686, in _fit_and_score\n    estimator.fit(X_train, y_train, **fit_params)\n  File \"/Users/user/opt/anaconda3/lib/python3.9/site-packages/sklearn/ensemble/_forest.py\", line 331, in fit\n    X, y = self._validate_data(\n  File \"/Users/user/opt/anaconda3/lib/python3.9/site-packages/sklearn/base.py\", line 596, in _validate_data\n    X, y = check_X_y(X, y, **check_params)\n  File \"/Users/user/opt/anaconda3/lib/python3.9/site-packages/sklearn/utils/validation.py\", line 1074, in check_X_y\n    X = check_array(\n  File \"/Users/user/opt/anaconda3/lib/python3.9/site-packages/sklearn/utils/validation.py\", line 856, in check_array\n    array = np.asarray(array, order=order, dtype=dtype)\n  File \"/Users/user/opt/anaconda3/lib/python3.9/site-packages/pandas/core/series.py\", line 872, in __array__\n    return np.asarray(self._values, dtype)\nValueError: could not convert string to float: 'восемь человек погибать пострадать результат обстрел населенный пункт лантратовка лнр сообщать тасс экстренный службах'\n\n--------------------------------------------------------------------------------\n20 fits failed with the following error:\nTraceback (most recent call last):\n  File \"/Users/user/opt/anaconda3/lib/python3.9/site-packages/sklearn/model_selection/_validation.py\", line 686, in _fit_and_score\n    estimator.fit(X_train, y_train, **fit_params)\n  File \"/Users/user/opt/anaconda3/lib/python3.9/site-packages/sklearn/ensemble/_forest.py\", line 331, in fit\n    X, y = self._validate_data(\n  File \"/Users/user/opt/anaconda3/lib/python3.9/site-packages/sklearn/base.py\", line 596, in _validate_data\n    X, y = check_X_y(X, y, **check_params)\n  File \"/Users/user/opt/anaconda3/lib/python3.9/site-packages/sklearn/utils/validation.py\", line 1074, in check_X_y\n    X = check_array(\n  File \"/Users/user/opt/anaconda3/lib/python3.9/site-packages/sklearn/utils/validation.py\", line 856, in check_array\n    array = np.asarray(array, order=order, dtype=dtype)\n  File \"/Users/user/opt/anaconda3/lib/python3.9/site-packages/pandas/core/series.py\", line 872, in __array__\n    return np.asarray(self._values, dtype)\nValueError: could not convert string to float: 'буквально сегодня ночь вновь обстреливать мирный поселок лантратовка использовать американский система залповый огонь himars писать издание русский весна согласно иметься текущий момент информация боевик наносить ракетный удар местный время житель поселок мирно спали'\n",
     "output_type": "error",
     "traceback": [
      "\u001b[0;31m---------------------------------------------------------------------------\u001b[0m",
      "\u001b[0;31mValueError\u001b[0m                                Traceback (most recent call last)",
      "\u001b[0;32m/var/folders/f3/zqnx3rgj3m12khpr_cbwqlm80000gn/T/ipykernel_2525/1133489829.py\u001b[0m in \u001b[0;36m<module>\u001b[0;34m\u001b[0m\n\u001b[1;32m     14\u001b[0m clf = GridSearchCV(RandomForestClassifier(DecisionTreeClassifier()),\n\u001b[1;32m     15\u001b[0m                    param_grid, scoring='accuracy', cv=kfold)\n\u001b[0;32m---> 16\u001b[0;31m \u001b[0mrandom_forest\u001b[0m \u001b[0;34m=\u001b[0m \u001b[0mclf\u001b[0m\u001b[0;34m.\u001b[0m\u001b[0mfit\u001b[0m\u001b[0;34m(\u001b[0m\u001b[0mX\u001b[0m\u001b[0;34m,\u001b[0m \u001b[0my\u001b[0m\u001b[0;34m)\u001b[0m\u001b[0;34m\u001b[0m\u001b[0;34m\u001b[0m\u001b[0m\n\u001b[0m\u001b[1;32m     17\u001b[0m \u001b[0;31m# таймер\u001b[0m\u001b[0;34m\u001b[0m\u001b[0;34m\u001b[0m\u001b[0m\n\u001b[1;32m     18\u001b[0m \u001b[0mtoc\u001b[0m \u001b[0;34m=\u001b[0m \u001b[0mtime\u001b[0m\u001b[0;34m.\u001b[0m\u001b[0mperf_counter\u001b[0m\u001b[0;34m(\u001b[0m\u001b[0;34m)\u001b[0m\u001b[0;34m\u001b[0m\u001b[0;34m\u001b[0m\u001b[0m\n",
      "\u001b[0;32m~/opt/anaconda3/lib/python3.9/site-packages/sklearn/model_selection/_search.py\u001b[0m in \u001b[0;36mfit\u001b[0;34m(self, X, y, groups, **fit_params)\u001b[0m\n\u001b[1;32m    873\u001b[0m                 \u001b[0;32mreturn\u001b[0m \u001b[0mresults\u001b[0m\u001b[0;34m\u001b[0m\u001b[0;34m\u001b[0m\u001b[0m\n\u001b[1;32m    874\u001b[0m \u001b[0;34m\u001b[0m\u001b[0m\n\u001b[0;32m--> 875\u001b[0;31m             \u001b[0mself\u001b[0m\u001b[0;34m.\u001b[0m\u001b[0m_run_search\u001b[0m\u001b[0;34m(\u001b[0m\u001b[0mevaluate_candidates\u001b[0m\u001b[0;34m)\u001b[0m\u001b[0;34m\u001b[0m\u001b[0;34m\u001b[0m\u001b[0m\n\u001b[0m\u001b[1;32m    876\u001b[0m \u001b[0;34m\u001b[0m\u001b[0m\n\u001b[1;32m    877\u001b[0m             \u001b[0;31m# multimetric is determined here because in the case of a callable\u001b[0m\u001b[0;34m\u001b[0m\u001b[0;34m\u001b[0m\u001b[0m\n",
      "\u001b[0;32m~/opt/anaconda3/lib/python3.9/site-packages/sklearn/model_selection/_search.py\u001b[0m in \u001b[0;36m_run_search\u001b[0;34m(self, evaluate_candidates)\u001b[0m\n\u001b[1;32m   1377\u001b[0m     \u001b[0;32mdef\u001b[0m \u001b[0m_run_search\u001b[0m\u001b[0;34m(\u001b[0m\u001b[0mself\u001b[0m\u001b[0;34m,\u001b[0m \u001b[0mevaluate_candidates\u001b[0m\u001b[0;34m)\u001b[0m\u001b[0;34m:\u001b[0m\u001b[0;34m\u001b[0m\u001b[0;34m\u001b[0m\u001b[0m\n\u001b[1;32m   1378\u001b[0m         \u001b[0;34m\"\"\"Search all candidates in param_grid\"\"\"\u001b[0m\u001b[0;34m\u001b[0m\u001b[0;34m\u001b[0m\u001b[0m\n\u001b[0;32m-> 1379\u001b[0;31m         \u001b[0mevaluate_candidates\u001b[0m\u001b[0;34m(\u001b[0m\u001b[0mParameterGrid\u001b[0m\u001b[0;34m(\u001b[0m\u001b[0mself\u001b[0m\u001b[0;34m.\u001b[0m\u001b[0mparam_grid\u001b[0m\u001b[0;34m)\u001b[0m\u001b[0;34m)\u001b[0m\u001b[0;34m\u001b[0m\u001b[0;34m\u001b[0m\u001b[0m\n\u001b[0m\u001b[1;32m   1380\u001b[0m \u001b[0;34m\u001b[0m\u001b[0m\n\u001b[1;32m   1381\u001b[0m \u001b[0;34m\u001b[0m\u001b[0m\n",
      "\u001b[0;32m~/opt/anaconda3/lib/python3.9/site-packages/sklearn/model_selection/_search.py\u001b[0m in \u001b[0;36mevaluate_candidates\u001b[0;34m(candidate_params, cv, more_results)\u001b[0m\n\u001b[1;32m    850\u001b[0m                     )\n\u001b[1;32m    851\u001b[0m \u001b[0;34m\u001b[0m\u001b[0m\n\u001b[0;32m--> 852\u001b[0;31m                 \u001b[0m_warn_or_raise_about_fit_failures\u001b[0m\u001b[0;34m(\u001b[0m\u001b[0mout\u001b[0m\u001b[0;34m,\u001b[0m \u001b[0mself\u001b[0m\u001b[0;34m.\u001b[0m\u001b[0merror_score\u001b[0m\u001b[0;34m)\u001b[0m\u001b[0;34m\u001b[0m\u001b[0;34m\u001b[0m\u001b[0m\n\u001b[0m\u001b[1;32m    853\u001b[0m \u001b[0;34m\u001b[0m\u001b[0m\n\u001b[1;32m    854\u001b[0m                 \u001b[0;31m# For callable self.scoring, the return type is only know after\u001b[0m\u001b[0;34m\u001b[0m\u001b[0;34m\u001b[0m\u001b[0m\n",
      "\u001b[0;32m~/opt/anaconda3/lib/python3.9/site-packages/sklearn/model_selection/_validation.py\u001b[0m in \u001b[0;36m_warn_or_raise_about_fit_failures\u001b[0;34m(results, error_score)\u001b[0m\n\u001b[1;32m    365\u001b[0m                 \u001b[0;34mf\"Below are more details about the failures:\\n{fit_errors_summary}\"\u001b[0m\u001b[0;34m\u001b[0m\u001b[0;34m\u001b[0m\u001b[0m\n\u001b[1;32m    366\u001b[0m             )\n\u001b[0;32m--> 367\u001b[0;31m             \u001b[0;32mraise\u001b[0m \u001b[0mValueError\u001b[0m\u001b[0;34m(\u001b[0m\u001b[0mall_fits_failed_message\u001b[0m\u001b[0;34m)\u001b[0m\u001b[0;34m\u001b[0m\u001b[0;34m\u001b[0m\u001b[0m\n\u001b[0m\u001b[1;32m    368\u001b[0m \u001b[0;34m\u001b[0m\u001b[0m\n\u001b[1;32m    369\u001b[0m         \u001b[0;32melse\u001b[0m\u001b[0;34m:\u001b[0m\u001b[0;34m\u001b[0m\u001b[0;34m\u001b[0m\u001b[0m\n",
      "\u001b[0;31mValueError\u001b[0m: \nAll the 100 fits failed.\nIt is very likely that your model is misconfigured.\nYou can try to debug the error by setting error_score='raise'.\n\nBelow are more details about the failures:\n--------------------------------------------------------------------------------\n80 fits failed with the following error:\nTraceback (most recent call last):\n  File \"/Users/user/opt/anaconda3/lib/python3.9/site-packages/sklearn/model_selection/_validation.py\", line 686, in _fit_and_score\n    estimator.fit(X_train, y_train, **fit_params)\n  File \"/Users/user/opt/anaconda3/lib/python3.9/site-packages/sklearn/ensemble/_forest.py\", line 331, in fit\n    X, y = self._validate_data(\n  File \"/Users/user/opt/anaconda3/lib/python3.9/site-packages/sklearn/base.py\", line 596, in _validate_data\n    X, y = check_X_y(X, y, **check_params)\n  File \"/Users/user/opt/anaconda3/lib/python3.9/site-packages/sklearn/utils/validation.py\", line 1074, in check_X_y\n    X = check_array(\n  File \"/Users/user/opt/anaconda3/lib/python3.9/site-packages/sklearn/utils/validation.py\", line 856, in check_array\n    array = np.asarray(array, order=order, dtype=dtype)\n  File \"/Users/user/opt/anaconda3/lib/python3.9/site-packages/pandas/core/series.py\", line 872, in __array__\n    return np.asarray(self._values, dtype)\nValueError: could not convert string to float: 'восемь человек погибать пострадать результат обстрел населенный пункт лантратовка лнр сообщать тасс экстренный службах'\n\n--------------------------------------------------------------------------------\n20 fits failed with the following error:\nTraceback (most recent call last):\n  File \"/Users/user/opt/anaconda3/lib/python3.9/site-packages/sklearn/model_selection/_validation.py\", line 686, in _fit_and_score\n    estimator.fit(X_train, y_train, **fit_params)\n  File \"/Users/user/opt/anaconda3/lib/python3.9/site-packages/sklearn/ensemble/_forest.py\", line 331, in fit\n    X, y = self._validate_data(\n  File \"/Users/user/opt/anaconda3/lib/python3.9/site-packages/sklearn/base.py\", line 596, in _validate_data\n    X, y = check_X_y(X, y, **check_params)\n  File \"/Users/user/opt/anaconda3/lib/python3.9/site-packages/sklearn/utils/validation.py\", line 1074, in check_X_y\n    X = check_array(\n  File \"/Users/user/opt/anaconda3/lib/python3.9/site-packages/sklearn/utils/validation.py\", line 856, in check_array\n    array = np.asarray(array, order=order, dtype=dtype)\n  File \"/Users/user/opt/anaconda3/lib/python3.9/site-packages/pandas/core/series.py\", line 872, in __array__\n    return np.asarray(self._values, dtype)\nValueError: could not convert string to float: 'буквально сегодня ночь вновь обстреливать мирный поселок лантратовка использовать американский система залповый огонь himars писать издание русский весна согласно иметься текущий момент информация боевик наносить ракетный удар местный время житель поселок мирно спали'\n"
     ]
    }
   ],
   "source": [
    "from sklearn.model_selection import KFold, GridSearchCV\n",
    "import time\n",
    "from sklearn.ensemble import RandomForestClassifier\n",
    "\n",
    "# настроим параметры случайного леса с помощью сеточного поиска\n",
    "param_grid = {'n_estimators' : [10, 20, 30, 40, 50],\n",
    "              'max_features' : ms}\n",
    "\n",
    "# разбиения для перекрёстной проверки\n",
    "kfold = KFold(n_splits=5, random_state=my_seed, shuffle=True)\n",
    "\n",
    "# таймер\n",
    "tic = time.perf_counter()\n",
    "clf = GridSearchCV(RandomForestClassifier(DecisionTreeClassifier()),\n",
    "                   param_grid, scoring='accuracy', cv=kfold)\n",
    "random_forest = clf.fit(X, y)\n",
    "# таймер\n",
    "toc = time.perf_counter()\n",
    "print(f\"Сеточный поиск занял {toc - tic:0.2f} секунд\", sep='')"
   ]
  },
  {
   "cell_type": "code",
   "execution_count": null,
   "id": "8395b1a1",
   "metadata": {},
   "outputs": [],
   "source": []
  }
 ],
 "metadata": {
  "kernelspec": {
   "display_name": "Python 3 (ipykernel)",
   "language": "python",
   "name": "python3"
  },
  "language_info": {
   "codemirror_mode": {
    "name": "ipython",
    "version": 3
   },
   "file_extension": ".py",
   "mimetype": "text/x-python",
   "name": "python",
   "nbconvert_exporter": "python",
   "pygments_lexer": "ipython3",
   "version": "3.9.13"
  }
 },
 "nbformat": 4,
 "nbformat_minor": 5
}
