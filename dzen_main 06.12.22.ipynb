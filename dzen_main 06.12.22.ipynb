{
 "cells": [
  {
   "cell_type": "markdown",
   "metadata": {},
   "source": [
    "## Сбор данных (создание веб-краулера)"
   ]
  },
  {
   "cell_type": "code",
   "execution_count": 63,
   "metadata": {},
   "outputs": [],
   "source": [
    "import requests\n",
    "from bs4 import BeautifulSoup\n",
    "import json\n",
    "import re\n",
    "import pandas as pd\n",
    "from datetime import datetime, timedelta\n",
    "from sqlalchemy import create_engine\n",
    "import traceback\n",
    "\n",
    "cookies = {\n",
    "    'news_lang': 'ru',\n",
    "    'nc': 'tips=1669116675432%3Bfavorites-button:1',\n",
    "    'sso_checked': '1',\n",
    "    'yandex_login': '',\n",
    "    'yandexuid': '4418883751668766953',\n",
    "    '_yasc': 'bvYHi8GFr6wiVgwnzIGbRxV1jmn9isOWGNAJOxGLT7gEOCeBN0eS96hYsvk=',\n",
    "    '_ym_uid': '16687727324320845',\n",
    "    '_ym_d': '1668772732',\n",
    "    'vid': 'c4a038b4868be81c',\n",
    "    'Session_id': 'noauth:1669019784',\n",
    "    'mda2_beacon': '1669019784785',\n",
    "    '_ym_isad': '2',\n",
    "    'tmr_lvid': '52390132f1b93bbd91c4c20fb582a7b7',\n",
    "    'tmr_lvidTS': '1668772731725',\n",
    "    'tmr_detect': '0%7C1669277547765',\n",
    "}\n",
    "\n",
    "headers = {\n",
    "    'Accept': 'text/html,application/xhtml+xml,application/xml;q=0.9,image/avif,image/webp,image/apng,*/*;q=0.8,application/signed-exchange;v=b3;q=0.9',\n",
    "    'Accept-Language': 'ru-RU,ru;q=0.9,en-US;q=0.8,en;q=0.7',\n",
    "    'Cache-Control': 'max-age=0',\n",
    "    'Connection': 'keep-alive',\n",
    "    # Requests sorts cookies= alphabetically\n",
    "    # 'Cookie': 'news_lang=ru; nc=tips=1669116675432%3Bfavorites-button:1; sso_checked=1; yandex_login=; yandexuid=4418883751668766953; _yasc=bvYHi8GFr6wiVgwnzIGbRxV1jmn9isOWGNAJOxGLT7gEOCeBN0eS96hYsvk=; _ym_uid=16687727324320845; _ym_d=1668772732; vid=c4a038b4868be81c; Session_id=noauth:1669019784; mda2_beacon=1669019784785; _ym_isad=2; tmr_lvid=52390132f1b93bbd91c4c20fb582a7b7; tmr_lvidTS=1668772731725; tmr_detect=0%7C1669277547765',\n",
    "    'Referer': 'https://dzen.ru/news?issue_tld=ru',\n",
    "    'Sec-Fetch-Dest': 'document',\n",
    "    'Sec-Fetch-Mode': 'navigate',\n",
    "    'Sec-Fetch-Site': 'same-origin',\n",
    "    'Sec-Fetch-User': '?1',\n",
    "    'Upgrade-Insecure-Requests': '1',\n",
    "    'User-Agent': 'Mozilla/5.0 (Windows NT 10.0; Win64; x64) AppleWebKit/537.36 (KHTML, like Gecko) Chrome/107.0.0.0 Safari/537.36',\n",
    "    'sec-ch-ua': '\"Google Chrome\";v=\"107\", \"Chromium\";v=\"107\", \"Not=A?Brand\";v=\"24\"',\n",
    "    'sec-ch-ua-mobile': '?0',\n",
    "    'sec-ch-ua-platform': '\"Windows\"',\n",
    "}\n",
    "\n",
    "# Функция для обработки и вывода времени\n",
    "def parse_date(s_date):\n",
    "    months = {'января': '01',\n",
    "              'февраля': '02',\n",
    "              'марта': '03',\n",
    "              'апреля': '04',\n",
    "              'мая': '05',\n",
    "              'июня': '06',\n",
    "              'июля': '07',\n",
    "              'августа': '08',\n",
    "              'сентября': '09',\n",
    "              'октября': '10',\n",
    "              'ноября': '11',\n",
    "              'декабря': '12',\n",
    "              }\n",
    "    \n",
    "    row_date = s_date.split(' в')[0]\n",
    "    #print(row_date)\n",
    "    month_ = row_date.split(' ')[1].strip(' ')\n",
    "    date_num = re.search(r'\\d{2}', row_date).group(0)\n",
    "    date = f\"{date_num}.{months[month_]}.2022\"\n",
    "    return date"
   ]
  },
  {
   "cell_type": "markdown",
   "metadata": {},
   "source": [
    "### Сбор новостей по рубрикам (на сайте Яндекс Дзен)"
   ]
  },
  {
   "cell_type": "code",
   "execution_count": 64,
   "metadata": {
    "scrolled": false
   },
   "outputs": [],
   "source": [
    "def parse_rubrics():\n",
    "    rubrics = ['Политика', 'Общество', 'Экономика', 'В мире', 'Спорт', 'Происшествия', 'Культура', 'Технологии', 'Наука']\n",
    "    rubrics_links = ['rubric/politics', 'rubric/society', 'rubric/business', 'rubric/world', 'rubric/sport', 'rubric/incident', 'rubric/culture', 'rubric/computers', 'rubric/science']\n",
    "\n",
    "    rubricsAndLinks = list(zip(rubrics, rubrics_links))\n",
    "    df_rubricsAndLinks = pd.DataFrame(rubricsAndLinks, columns=['rubric', 'rubric_link'])\n",
    "\n",
    "    session = requests.Session()\n",
    "    session.headers.update(headers)\n",
    "    session.cookies.update(cookies)\n",
    "\n",
    "    dates = []\n",
    "    times = []\n",
    "    data = []\n",
    "    stories = []\n",
    "\n",
    "    for i, row in df_rubricsAndLinks.iterrows():\n",
    "        link = row['rubric_link']\n",
    "        r = session.get(f'https://dzen.ru/news/{link}?issue_tld=ru')\n",
    "\n",
    "        soup = BeautifulSoup(r.text)\n",
    "        script_text = soup.find_all('script')[3].contents[0]\n",
    "        data = json.loads(re.search(r\"window.Ya.Neo.dataSource=({.*?});\", script_text, flags=re.S).group(1))\n",
    "\n",
    "        story_rubric = row['rubric']\n",
    "    \n",
    "        for stories_top in data['news']['top']:\n",
    "        \n",
    "            story_id = stories_top['id']\n",
    "            story_title = stories_top['title']\n",
    "            story_annotation = stories_top['annotation']\n",
    "            story_url = stories_top['url']\n",
    "            instory_url = story_url.replace('/story/', '/instory/')\n",
    "            story_time = stories_top['time']\n",
    "            if 'вчера' in story_time:\n",
    "                date = (datetime.now() - timedelta(days=1)).strftime('%d.%m.%Y')\n",
    "                time = re.search(r'(?<=вчера в )\\d{2}:\\d{2}', story_time).group(0)\n",
    "                story_time = f'{date} {time}'\n",
    "            elif re.search(r'\\d{2} \\w+ \\w+ \\d{2}:\\d{2}', story_time) is not None:\n",
    "                date = parse_date(story_time)\n",
    "                time = re.search(r'\\d{2}:\\d{2}', story_time).group(0)\n",
    "                story_time = f'{date} {time}'\n",
    "            else:\n",
    "                date = datetime.now().strftime('%d.%m.%Y')\n",
    "                time = re.search(r'\\d{2}:\\d{2}', story_time).group(0)\n",
    "                story_time = f'{date} {time}'\n",
    "        \n",
    "            stories.append([story_rubric, story_id, story_title, story_annotation, story_url, instory_url, story_time])\n",
    "    \n",
    "        for stories_feed in data['news']['feed']:\n",
    "        \n",
    "            story_id = stories_feed['id']\n",
    "            story_title = stories_feed['title']\n",
    "            story_annotation = stories_feed['annotation']\n",
    "            story_url = stories_feed['url']\n",
    "            instory_url = story_url.replace('/story/', '/instory/')\n",
    "            story_time = stories_feed['time']\n",
    "            if 'вчера' in story_time:\n",
    "                date = (datetime.now() - timedelta(days=1)).strftime('%d.%m.%Y')\n",
    "                time = re.search(r'(?<=вчера в )\\d{2}:\\d{2}', story_time).group(0)\n",
    "                story_time = f'{date} {time}'\n",
    "            elif re.search(r'\\d{2} \\w+ \\w+ \\d{2}:\\d{2}', story_time) is not None:\n",
    "                date = parse_date(story_time)\n",
    "                time = re.search(r'\\d{2}:\\d{2}', story_time).group(0)\n",
    "                story_time = f'{date} {time}'\n",
    "            else:\n",
    "                date = datetime.now().strftime('%d.%m.%Y')\n",
    "                time = re.search(r'\\d{2}:\\d{2}', story_time).group(0)\n",
    "                story_time = f'{date} {time}'\n",
    "        \n",
    "            stories.append([story_rubric, story_id, story_title, story_annotation, story_url, instory_url, story_time])\n",
    "    \n",
    "    \n",
    "    story_headers = ['rubric', 'id', 'title', 'annotation', 'story_url', 'instory_url', 'time']\n",
    "    df_stories = pd.DataFrame(stories, columns=story_headers)\n",
    "\n",
    "    return df_stories\n",
    "\n",
    "#parse_rubrics()"
   ]
  },
  {
   "cell_type": "markdown",
   "metadata": {},
   "source": [
    "### Сбор похожих новостей при переходе к каждой новости (на сайте Яндекс Дзен)"
   ]
  },
  {
   "cell_type": "code",
   "execution_count": 65,
   "metadata": {},
   "outputs": [],
   "source": [
    "def parse_main():\n",
    "    df_stories = parse_rubrics()\n",
    "    df_instory = df_stories[['rubric', 'id', 'instory_url']]\n",
    "    more_stories = []\n",
    "    \n",
    "    session = requests.Session()\n",
    "    session.headers.update(headers)\n",
    "    session.cookies.update(cookies)\n",
    "\n",
    "    for i, row in df_stories.iterrows():\n",
    "        url = row['instory_url']\n",
    "        more = session.get(url)\n",
    "        more_soup = BeautifulSoup(more.text)\n",
    "        more_script_text = more_soup.find_all('script')[3].contents[0]\n",
    "        more_data = json.loads(re.search(r\"window.Ya.Neo.dataSource=({.*?});\", more_script_text, flags=re.S).group(1))\n",
    "                               \n",
    "        more_info = more_data['news']['instoryPage'][0]\n",
    "        docs = more_info['docs']\n",
    "    \n",
    "        more_rubric = row['rubric']\n",
    "        more_idMain = row['id']\n",
    "        more_instoryUrl = row['instory_url']\n",
    "            \n",
    "        for doc in docs:\n",
    "        \n",
    "            more_id = doc['docId']\n",
    "            more_title = doc['title'][0]['text']  \n",
    "            more_text = doc['text'][0]['text'] \n",
    "            more_source = doc['sourceName']\n",
    "            more_url = doc['url']\n",
    "            more_time = doc['time']\n",
    "            if 'вчера' in more_time:\n",
    "                date = (datetime.now() - timedelta(days=1)).strftime('%d.%m.%Y')\n",
    "                time = re.search(r'(?<=вчера в )\\d{2}:\\d{2}', more_time).group(0)\n",
    "                more_time = f'{date} {time}'\n",
    "            elif re.search(r'\\d{2} \\w+ \\w+ \\d{2}:\\d{2}', more_time) is not None:\n",
    "                date = parse_date(more_time)\n",
    "                time = re.search(r'\\d{2}:\\d{2}', more_time).group(0)\n",
    "                more_time = f'{date} {time}'\n",
    "            else:\n",
    "                date = datetime.now().strftime('%d.%m.%Y')\n",
    "                time = re.search(r'\\d{2}:\\d{2}', more_time).group(0)\n",
    "                more_time = f'{date} {time}'\n",
    "   \n",
    "            more_stories.append([more_rubric, more_idMain, more_title, more_text, more_source, more_instoryUrl, more_url, more_time])\n",
    "        \n",
    "    more_stories_headers = ['rubric', 'story_id', 'title', 'text', 'sourceName', 'instory_url', 'url', 'time']\n",
    "    df_more_stories = pd.DataFrame(more_stories, columns=more_stories_headers)\n",
    "\n",
    "    return df_more_stories\n",
    "\n",
    "#parse_main()"
   ]
  },
  {
   "cell_type": "markdown",
   "metadata": {},
   "source": [
    "### Сохранение и чтение данных в формате xlsx"
   ]
  },
  {
   "cell_type": "code",
   "execution_count": 66,
   "metadata": {},
   "outputs": [],
   "source": [
    "df1 = parse_main()\n",
    "\n",
    "# Для mac\n",
    "df1.to_excel(r'/Users/user/Documents/Книга1.xlsx')\n",
    "\n",
    "# Для win\n",
    "#df1.to_excel(r'C:\\Users\\User\\Downloads\\Книга1.xlsx')"
   ]
  },
  {
   "cell_type": "code",
   "execution_count": 67,
   "metadata": {},
   "outputs": [],
   "source": [
    "# Для mac\n",
    "df2 = pd.read_excel(r'/Users/user/Documents/Книга1.xlsx')\n",
    "\n",
    "# Для win\n",
    "#df2 = pd.read_excel(r'C:\\Users\\User\\Downloads\\Книга1.xlsx')\n",
    "\n",
    "# Выражение, добавляющее к БД только новые новости\n",
    "res = df1[~df1['url'].isin(df2['url'])]\n",
    "\n",
    "#res\n",
    "#df1"
   ]
  },
  {
   "cell_type": "markdown",
   "metadata": {},
   "source": [
    "## Разведочный анализ данных EDA"
   ]
  },
  {
   "cell_type": "code",
   "execution_count": 68,
   "metadata": {},
   "outputs": [
    {
     "data": {
      "text/plain": [
       "(1814, 8)"
      ]
     },
     "execution_count": 68,
     "metadata": {},
     "output_type": "execute_result"
    }
   ],
   "source": [
    "# Объем данных (строк и столбцов - объектов и признаков)\n",
    "df1.shape"
   ]
  },
  {
   "cell_type": "code",
   "execution_count": 69,
   "metadata": {},
   "outputs": [
    {
     "data": {
      "text/plain": [
       "rubric         object\n",
       "story_id       object\n",
       "title          object\n",
       "text           object\n",
       "sourceName     object\n",
       "instory_url    object\n",
       "url            object\n",
       "time           object\n",
       "dtype: object"
      ]
     },
     "execution_count": 69,
     "metadata": {},
     "output_type": "execute_result"
    }
   ],
   "source": [
    "# Вывод типов данных\n",
    "df1.dtypes"
   ]
  },
  {
   "cell_type": "markdown",
   "metadata": {},
   "source": [
    "<div class=\"alert alert-success\"><b>Целевой признак - rubric</b>"
   ]
  },
  {
   "cell_type": "code",
   "execution_count": 70,
   "metadata": {},
   "outputs": [
    {
     "name": "stdout",
     "output_type": "stream",
     "text": [
      "<class 'pandas.core.frame.DataFrame'>\n",
      "RangeIndex: 1814 entries, 0 to 1813\n",
      "Data columns (total 8 columns):\n",
      " #   Column       Non-Null Count  Dtype \n",
      "---  ------       --------------  ----- \n",
      " 0   rubric       1814 non-null   object\n",
      " 1   story_id     1814 non-null   object\n",
      " 2   title        1814 non-null   object\n",
      " 3   text         1814 non-null   object\n",
      " 4   sourceName   1814 non-null   object\n",
      " 5   instory_url  1814 non-null   object\n",
      " 6   url          1814 non-null   object\n",
      " 7   time         1814 non-null   object\n",
      "dtypes: object(8)\n",
      "memory usage: 113.5+ KB\n"
     ]
    }
   ],
   "source": [
    "df1.info()"
   ]
  },
  {
   "cell_type": "markdown",
   "metadata": {},
   "source": [
    "<div class=\"alert alert-success\"><b>Пропусков в данных нет</b>"
   ]
  },
  {
   "cell_type": "code",
   "execution_count": 71,
   "metadata": {},
   "outputs": [
    {
     "data": {
      "text/plain": [
       "Index(['rubric', 'story_id', 'title', 'text', 'sourceName', 'instory_url',\n",
       "       'url', 'time'],\n",
       "      dtype='object')"
      ]
     },
     "execution_count": 71,
     "metadata": {},
     "output_type": "execute_result"
    }
   ],
   "source": [
    "# Имена колонок в виде списков\n",
    "df1.columns"
   ]
  },
  {
   "cell_type": "code",
   "execution_count": 72,
   "metadata": {},
   "outputs": [
    {
     "data": {
      "text/plain": [
       "rubric         0\n",
       "story_id       0\n",
       "title          0\n",
       "text           0\n",
       "sourceName     0\n",
       "instory_url    0\n",
       "url            0\n",
       "time           0\n",
       "dtype: int64"
      ]
     },
     "execution_count": 72,
     "metadata": {},
     "output_type": "execute_result"
    }
   ],
   "source": [
    "# Кол-во пропусков во всем датафрейме\n",
    "df1.isnull().sum()"
   ]
  },
  {
   "cell_type": "code",
   "execution_count": 73,
   "metadata": {},
   "outputs": [
    {
     "data": {
      "text/plain": [
       "Происшествия    0.372106\n",
       "Культура        0.110805\n",
       "Политика        0.100882\n",
       "Общество        0.085998\n",
       "В мире          0.082139\n",
       "Экономика       0.068357\n",
       "Спорт           0.062293\n",
       "Наука           0.061742\n",
       "Технологии      0.055678\n",
       "Name: rubric, dtype: float64"
      ]
     },
     "execution_count": 73,
     "metadata": {},
     "output_type": "execute_result"
    }
   ],
   "source": [
    "# Статистика распределения этих значений в % виде\n",
    "df1['rubric'].value_counts(normalize=True)"
   ]
  },
  {
   "cell_type": "code",
   "execution_count": 74,
   "metadata": {},
   "outputs": [
    {
     "name": "stdout",
     "output_type": "stream",
     "text": [
      "Кол-во уникальных значений:  9\n",
      "Список уникальных значений:  ['Политика' 'Общество' 'Экономика' 'В мире' 'Спорт' 'Происшествия'\n",
      " 'Культура' 'Технологии' 'Наука']\n",
      "Статистика распределения значений:  Происшествия    675\n",
      "Культура        201\n",
      "Политика        183\n",
      "Общество        156\n",
      "В мире          149\n",
      "Экономика       124\n",
      "Спорт           113\n",
      "Наука           112\n",
      "Технологии      101\n",
      "Name: rubric, dtype: int64\n"
     ]
    }
   ],
   "source": [
    "# Исследование целевого (target) признака - рубрики \n",
    "print('Кол-во уникальных значений: ', df1['rubric'].nunique())\n",
    "print('Список уникальных значений: ', df1['rubric'].unique())\n",
    "print('Статистика распределения значений: ', df1['rubric'].value_counts(normalize=False))"
   ]
  },
  {
   "cell_type": "markdown",
   "metadata": {},
   "source": [
    "<div class=\"alert alert-success\"><b>Вывод: вид задачи - многоклассовая классификация</b>"
   ]
  },
  {
   "cell_type": "code",
   "execution_count": 75,
   "metadata": {},
   "outputs": [
    {
     "data": {
      "text/plain": [
       "count             1814\n",
       "unique               9\n",
       "top       Происшествия\n",
       "freq               675\n",
       "Name: rubric, dtype: object"
      ]
     },
     "execution_count": 75,
     "metadata": {},
     "output_type": "execute_result"
    }
   ],
   "source": [
    "# Описательная статистика для признака rubric\n",
    "df1['rubric'].describe()"
   ]
  },
  {
   "cell_type": "code",
   "execution_count": 76,
   "metadata": {},
   "outputs": [
    {
     "data": {
      "text/html": [
       "<div>\n",
       "<style scoped>\n",
       "    .dataframe tbody tr th:only-of-type {\n",
       "        vertical-align: middle;\n",
       "    }\n",
       "\n",
       "    .dataframe tbody tr th {\n",
       "        vertical-align: top;\n",
       "    }\n",
       "\n",
       "    .dataframe thead th {\n",
       "        text-align: right;\n",
       "    }\n",
       "</style>\n",
       "<table border=\"1\" class=\"dataframe\">\n",
       "  <thead>\n",
       "    <tr style=\"text-align: right;\">\n",
       "      <th></th>\n",
       "      <th>count</th>\n",
       "      <th>unique</th>\n",
       "      <th>top</th>\n",
       "      <th>freq</th>\n",
       "    </tr>\n",
       "  </thead>\n",
       "  <tbody>\n",
       "    <tr>\n",
       "      <th>rubric</th>\n",
       "      <td>1814</td>\n",
       "      <td>9</td>\n",
       "      <td>Происшествия</td>\n",
       "      <td>675</td>\n",
       "    </tr>\n",
       "    <tr>\n",
       "      <th>story_id</th>\n",
       "      <td>1814</td>\n",
       "      <td>255</td>\n",
       "      <td>705800408</td>\n",
       "      <td>100</td>\n",
       "    </tr>\n",
       "    <tr>\n",
       "      <th>title</th>\n",
       "      <td>1814</td>\n",
       "      <td>1710</td>\n",
       "      <td>Три человека погибли при взрыве бензовоза на а...</td>\n",
       "      <td>8</td>\n",
       "    </tr>\n",
       "    <tr>\n",
       "      <th>text</th>\n",
       "      <td>1814</td>\n",
       "      <td>1768</td>\n",
       "      <td>На аэродроме под Рязанью взорвался бензовоз.</td>\n",
       "      <td>4</td>\n",
       "    </tr>\n",
       "    <tr>\n",
       "      <th>sourceName</th>\n",
       "      <td>1814</td>\n",
       "      <td>566</td>\n",
       "      <td>Lenta.ru</td>\n",
       "      <td>44</td>\n",
       "    </tr>\n",
       "    <tr>\n",
       "      <th>instory_url</th>\n",
       "      <td>1814</td>\n",
       "      <td>261</td>\n",
       "      <td>https://dzen.ru/news/instory/Privzryve_naaehro...</td>\n",
       "      <td>100</td>\n",
       "    </tr>\n",
       "    <tr>\n",
       "      <th>url</th>\n",
       "      <td>1814</td>\n",
       "      <td>1785</td>\n",
       "      <td>https://oilcapital.ru/news/2022-12-05/sloveniy...</td>\n",
       "      <td>2</td>\n",
       "    </tr>\n",
       "    <tr>\n",
       "      <th>time</th>\n",
       "      <td>1814</td>\n",
       "      <td>677</td>\n",
       "      <td>06.12.2022 16:05</td>\n",
       "      <td>18</td>\n",
       "    </tr>\n",
       "  </tbody>\n",
       "</table>\n",
       "</div>"
      ],
      "text/plain": [
       "            count unique                                                top  \\\n",
       "rubric       1814      9                                       Происшествия   \n",
       "story_id     1814    255                                          705800408   \n",
       "title        1814   1710  Три человека погибли при взрыве бензовоза на а...   \n",
       "text         1814   1768       На аэродроме под Рязанью взорвался бензовоз.   \n",
       "sourceName   1814    566                                           Lenta.ru   \n",
       "instory_url  1814    261  https://dzen.ru/news/instory/Privzryve_naaehro...   \n",
       "url          1814   1785  https://oilcapital.ru/news/2022-12-05/sloveniy...   \n",
       "time         1814    677                                   06.12.2022 16:05   \n",
       "\n",
       "            freq  \n",
       "rubric       675  \n",
       "story_id     100  \n",
       "title          8  \n",
       "text           4  \n",
       "sourceName    44  \n",
       "instory_url  100  \n",
       "url            2  \n",
       "time          18  "
      ]
     },
     "execution_count": 76,
     "metadata": {},
     "output_type": "execute_result"
    }
   ],
   "source": [
    "# Описательная статистика для всех признаков \n",
    "df1.describe().T"
   ]
  },
  {
   "cell_type": "markdown",
   "metadata": {},
   "source": [
    "### Визульный анализ"
   ]
  },
  {
   "cell_type": "code",
   "execution_count": 77,
   "metadata": {},
   "outputs": [
    {
     "data": {
      "text/plain": [
       "<AxesSubplot:>"
      ]
     },
     "execution_count": 77,
     "metadata": {},
     "output_type": "execute_result"
    },
    {
     "data": {
      "image/png": "[encoded data removed]",
      "text/plain": [
       "<Figure size 640x480 with 1 Axes>"
      ]
     },
     "metadata": {},
     "output_type": "display_data"
    }
   ],
   "source": [
    "# Столбчатая диаграмма\n",
    "# По оси y - доля в %, по x - сами рубрики\n",
    "# Если поменять normalize=True на normalize=False, то ось y будет в кол-ом значении\n",
    "\n",
    "df1['rubric'].value_counts(normalize=True).plot.bar()"
   ]
  },
  {
   "cell_type": "code",
   "execution_count": 78,
   "metadata": {},
   "outputs": [
    {
     "data": {
      "text/plain": [
       "<AxesSubplot:ylabel='rubric'>"
      ]
     },
     "execution_count": 78,
     "metadata": {},
     "output_type": "execute_result"
    },
    {
     "data": {
      "image/png": "[encoded data removed]",
      "text/plain": [
       "<Figure size 640x480 with 1 Axes>"
      ]
     },
     "metadata": {},
     "output_type": "display_data"
    }
   ],
   "source": [
    "# Круговая(пирожковая) диаграмма\n",
    "df1['rubric'].value_counts(normalize=True).plot.pie()"
   ]
  },
  {
   "cell_type": "code",
   "execution_count": 79,
   "metadata": {
    "scrolled": false
   },
   "outputs": [
    {
     "data": {
      "text/plain": [
       "<AxesSubplot:>"
      ]
     },
     "execution_count": 79,
     "metadata": {},
     "output_type": "execute_result"
    },
    {
     "data": {
      "image/png": "[encoded data removed]",
      "text/plain": [
       "<Figure size 640x480 with 1 Axes>"
      ]
     },
     "metadata": {},
     "output_type": "display_data"
    }
   ],
   "source": [
    "# Горизонтальная столбчатая диаграмма\n",
    "df1['rubric'].value_counts(normalize=True).plot.barh()"
   ]
  },
  {
   "cell_type": "code",
   "execution_count": 80,
   "metadata": {},
   "outputs": [
    {
     "data": {
      "text/plain": [
       "Происшествия    675\n",
       "Культура        201\n",
       "Политика        183\n",
       "Общество        156\n",
       "В мире          149\n",
       "Экономика       124\n",
       "Спорт           113\n",
       "Наука           112\n",
       "Технологии      101\n",
       "Name: rubric, dtype: int64"
      ]
     },
     "execution_count": 80,
     "metadata": {},
     "output_type": "execute_result"
    }
   ],
   "source": [
    "df1['rubric'].value_counts()"
   ]
  },
  {
   "cell_type": "code",
   "execution_count": null,
   "metadata": {},
   "outputs": [],
   "source": []
  },
  {
   "cell_type": "markdown",
   "metadata": {},
   "source": [
    "## Предварительная обработка данных (preprocessing). Обработка естественного языка NLP\n"
   ]
  },
  {
   "cell_type": "markdown",
   "metadata": {},
   "source": [
    "Действия, выполняемые в процессе:\n",
    "* сегментация и токенизация;\n",
    "* стемминг;\n",
    "* удаление стоп-слов;\n",
    "* лемматизация."
   ]
  },
  {
   "cell_type": "markdown",
   "metadata": {},
   "source": [
    "### Удаление пробельных символов"
   ]
  },
  {
   "cell_type": "code",
   "execution_count": 81,
   "metadata": {},
   "outputs": [],
   "source": [
    "import string\n",
    "import re\n",
    "from nltk.corpus import stopwords\n",
    "\n",
    "def remove_punctuation(text):\n",
    "    return \"\".join([ch if ch not in string.punctuation else ' ' for ch in text])\n",
    "def remove_numbers(text):\n",
    "    return ''.join([i if not i.isdigit() else ' ' for i in text])\n",
    "def remove_multiple_spaces(text):\n",
    "    return re.sub(r'\\s+', ' ', text, flags=re.I)\n",
    "\n",
    "def delete_char(): \n",
    "    prep_text = [remove_multiple_spaces(remove_numbers(remove_punctuation(text.lower()))) for text in df1['text']]\n",
    "    df_nlp = df1.loc[:, ['rubric','title','text']]\n",
    "    df_nlp[\"text_prep\"] = prep_text\n",
    "    return df_nlp"
   ]
  },
  {
   "cell_type": "markdown",
   "metadata": {},
   "source": [
    "### Стемминг"
   ]
  },
  {
   "cell_type": "code",
   "execution_count": 82,
   "metadata": {},
   "outputs": [],
   "source": [
    "import nltk\n",
    "from nltk.stem.snowball import SnowballStemmer\n",
    "from nltk.corpus import stopwords\n",
    "from nltk import word_tokenize\n",
    "\n",
    "def stemmed_text():\n",
    "    stemmer = SnowballStemmer(\"russian\")\n",
    "    russian_stopwords = stopwords.words(\"russian\")\n",
    "    russian_stopwords.extend(['…', '...', 'т.д.', 'т', 'д', '«', '»'])\n",
    "\n",
    "    stemmed_texts_list = []\n",
    "    for text in df_nlp[\"text_prep\"]:\n",
    "        tokens = word_tokenize(text)\n",
    "        stemmed_tokens = [stemmer.stem(token) for token in tokens if token not in russian_stopwords]\n",
    "        text = \" \".join(stemmed_tokens)\n",
    "        stemmed_texts_list.append(text)\n",
    "    \n",
    "    df_nlp[\"text_stem\"] = stemmed_texts_list\n",
    "    return df_nlp\n",
    "\n",
    "def remove_stop_words(text):\n",
    "    tokens = word_tokenize(text)\n",
    "    tokens = [token for token in tokens if token not in russian_stopwords and token != ' ']\n",
    "    return \" \".join(tokens)"
   ]
  },
  {
   "cell_type": "markdown",
   "metadata": {},
   "source": [
    "### Удаление стоп-слов"
   ]
  },
  {
   "cell_type": "code",
   "execution_count": 83,
   "metadata": {},
   "outputs": [],
   "source": [
    "from nltk import word_tokenize\n",
    "\n",
    "def stopword_text():\n",
    "    sw_texts_list = []\n",
    "    for text in df_nlp['text_prep']:\n",
    "        tokens = word_tokenize(text)\n",
    "        tokens = [token for token in tokens if token not in russian_stopwords and token != ' ']\n",
    "        text = \" \".join(tokens)\n",
    "        sw_texts_list.append(text)\n",
    "\n",
    "    df_nlp[\"text_sw\"] = sw_texts_list\n",
    "    return df_nlp"
   ]
  },
  {
   "cell_type": "markdown",
   "metadata": {},
   "source": [
    "### Лемматизация"
   ]
  },
  {
   "cell_type": "code",
   "execution_count": 84,
   "metadata": {},
   "outputs": [
    {
     "data": {
      "text/html": [
       "<div>\n",
       "<style scoped>\n",
       "    .dataframe tbody tr th:only-of-type {\n",
       "        vertical-align: middle;\n",
       "    }\n",
       "\n",
       "    .dataframe tbody tr th {\n",
       "        vertical-align: top;\n",
       "    }\n",
       "\n",
       "    .dataframe thead th {\n",
       "        text-align: right;\n",
       "    }\n",
       "</style>\n",
       "<table border=\"1\" class=\"dataframe\">\n",
       "  <thead>\n",
       "    <tr style=\"text-align: right;\">\n",
       "      <th></th>\n",
       "      <th>rubric</th>\n",
       "      <th>title</th>\n",
       "      <th>text</th>\n",
       "      <th>text_prep</th>\n",
       "      <th>text_stem</th>\n",
       "      <th>text_sw</th>\n",
       "      <th>text_lemm</th>\n",
       "    </tr>\n",
       "  </thead>\n",
       "  <tbody>\n",
       "    <tr>\n",
       "      <th>0</th>\n",
       "      <td>Политика</td>\n",
       "      <td>Минобороны РФ: российские войска поразили все ...</td>\n",
       "      <td>В сообщении военного ведомства отмечается, что...</td>\n",
       "      <td>в сообщении военного ведомства отмечается что ...</td>\n",
       "      <td>сообщен воен ведомств отмеча результат массиро...</td>\n",
       "      <td>сообщении военного ведомства отмечается резуль...</td>\n",
       "      <td>сообщение военный ведомство отмечаться результ...</td>\n",
       "    </tr>\n",
       "    <tr>\n",
       "      <th>1</th>\n",
       "      <td>Политика</td>\n",
       "      <td>Минобороны: нанесен удар по системе военного у...</td>\n",
       "      <td>По его словам, в результате атак удалось добит...</td>\n",
       "      <td>по его словам в результате атак удалось добить...</td>\n",
       "      <td>слов результат атак уда доб прекращен выпуск р...</td>\n",
       "      <td>словам результате атак удалось добиться прекра...</td>\n",
       "      <td>словам результат атака удаваться добиваться пр...</td>\n",
       "    </tr>\n",
       "    <tr>\n",
       "      <th>2</th>\n",
       "      <td>Политика</td>\n",
       "      <td>Минобороны: ВС России нанесли удар по системе ...</td>\n",
       "      <td>Вчера российские войска нанесли массированный ...</td>\n",
       "      <td>вчера российские войска нанесли массированный ...</td>\n",
       "      <td>вчер российск войск нанесл массирова удар высо...</td>\n",
       "      <td>вчера российские войска нанесли массированный ...</td>\n",
       "      <td>вчера российский войско наносить массированный...</td>\n",
       "    </tr>\n",
       "    <tr>\n",
       "      <th>3</th>\n",
       "      <td>Политика</td>\n",
       "      <td>Минобороны: удары ВС России наносились по обор...</td>\n",
       "      <td>«5 декабря российскими войсками нанесен массир...</td>\n",
       "      <td>« декабря российскими войсками нанесен массиро...</td>\n",
       "      <td>декабр российск войск нанес массирова удар выс...</td>\n",
       "      <td>декабря российскими войсками нанесен массирова...</td>\n",
       "      <td>декабря российский войско наносить массированн...</td>\n",
       "    </tr>\n",
       "    <tr>\n",
       "      <th>4</th>\n",
       "      <td>Политика</td>\n",
       "      <td>ВС России нанесли 5 декабря удар по системе во...</td>\n",
       "      <td>Ранее премьер Украины Денис Шмыгаль ранее подт...</td>\n",
       "      <td>ранее премьер украины денис шмыгаль ранее подт...</td>\n",
       "      <td>ран премьер украин денис шмыгал ран подтверд п...</td>\n",
       "      <td>ранее премьер украины денис шмыгаль ранее подт...</td>\n",
       "      <td>ранее премьер украина денис шмыгаль ранее подт...</td>\n",
       "    </tr>\n",
       "    <tr>\n",
       "      <th>...</th>\n",
       "      <td>...</td>\n",
       "      <td>...</td>\n",
       "      <td>...</td>\n",
       "      <td>...</td>\n",
       "      <td>...</td>\n",
       "      <td>...</td>\n",
       "      <td>...</td>\n",
       "    </tr>\n",
       "    <tr>\n",
       "      <th>1773</th>\n",
       "      <td>Наука</td>\n",
       "      <td>Лекарства против тромбов станут дешевле для ап...</td>\n",
       "      <td>Ученые придумали теоретический расчет частей н...</td>\n",
       "      <td>ученые придумали теоретический расчет частей н...</td>\n",
       "      <td>учен придума теоретическ расчет част некотор д...</td>\n",
       "      <td>ученые придумали теоретический расчет частей н...</td>\n",
       "      <td>ученые придумывать теоретический расчет часть ...</td>\n",
       "    </tr>\n",
       "    <tr>\n",
       "      <th>1774</th>\n",
       "      <td>Наука</td>\n",
       "      <td>В СГУ разработан бюджетный метод проверки каче...</td>\n",
       "      <td>Русские учёные изобрели быструю и недорогую ме...</td>\n",
       "      <td>русские учёные изобрели быструю и недорогую ме...</td>\n",
       "      <td>русск учен изобрел быстр недорог методик прове...</td>\n",
       "      <td>русские учёные изобрели быструю недорогую мето...</td>\n",
       "      <td>русские ученый изобретать быстрый недорогой ме...</td>\n",
       "    </tr>\n",
       "    <tr>\n",
       "      <th>1775</th>\n",
       "      <td>Наука</td>\n",
       "      <td>Ученые из СГУ нашли дешевый способ проверки ка...</td>\n",
       "      <td>Ученые из Саратовского национального исследова...</td>\n",
       "      <td>ученые из саратовского национального исследова...</td>\n",
       "      <td>учен саратовск национальн исследовательск госу...</td>\n",
       "      <td>ученые саратовского национального исследовател...</td>\n",
       "      <td>ученые саратовский национальный исследовательс...</td>\n",
       "    </tr>\n",
       "    <tr>\n",
       "      <th>1776</th>\n",
       "      <td>Наука</td>\n",
       "      <td>Проверить безопасность лекарств против тромбов...</td>\n",
       "      <td>Ученые СГУ разработали легкий и доступный мето...</td>\n",
       "      <td>ученые сгу разработали легкий и доступный мето...</td>\n",
       "      <td>учен сгу разработа легк доступн метод контрол ...</td>\n",
       "      <td>ученые сгу разработали легкий доступный метод ...</td>\n",
       "      <td>ученые сгу разрабатывать легкий доступный мето...</td>\n",
       "    </tr>\n",
       "    <tr>\n",
       "      <th>1777</th>\n",
       "      <td>Наука</td>\n",
       "      <td>Русские придумали, как быстро и дёшево проверя...</td>\n",
       "      <td>Русские учёные придумали, как быстро и недорог...</td>\n",
       "      <td>русские учёные придумали как быстро и недорого...</td>\n",
       "      <td>русск учен придума быстр недор провер качеств ...</td>\n",
       "      <td>русские учёные придумали быстро недорого прове...</td>\n",
       "      <td>русские ученый придумывать быстро недорого про...</td>\n",
       "    </tr>\n",
       "  </tbody>\n",
       "</table>\n",
       "<p>1778 rows × 7 columns</p>\n",
       "</div>"
      ],
      "text/plain": [
       "        rubric                                              title  \\\n",
       "0     Политика  Минобороны РФ: российские войска поразили все ...   \n",
       "1     Политика  Минобороны: нанесен удар по системе военного у...   \n",
       "2     Политика  Минобороны: ВС России нанесли удар по системе ...   \n",
       "3     Политика  Минобороны: удары ВС России наносились по обор...   \n",
       "4     Политика  ВС России нанесли 5 декабря удар по системе во...   \n",
       "...        ...                                                ...   \n",
       "1773     Наука  Лекарства против тромбов станут дешевле для ап...   \n",
       "1774     Наука  В СГУ разработан бюджетный метод проверки каче...   \n",
       "1775     Наука  Ученые из СГУ нашли дешевый способ проверки ка...   \n",
       "1776     Наука  Проверить безопасность лекарств против тромбов...   \n",
       "1777     Наука  Русские придумали, как быстро и дёшево проверя...   \n",
       "\n",
       "                                                   text  \\\n",
       "0     В сообщении военного ведомства отмечается, что...   \n",
       "1     По его словам, в результате атак удалось добит...   \n",
       "2     Вчера российские войска нанесли массированный ...   \n",
       "3     «5 декабря российскими войсками нанесен массир...   \n",
       "4     Ранее премьер Украины Денис Шмыгаль ранее подт...   \n",
       "...                                                 ...   \n",
       "1773  Ученые придумали теоретический расчет частей н...   \n",
       "1774  Русские учёные изобрели быструю и недорогую ме...   \n",
       "1775  Ученые из Саратовского национального исследова...   \n",
       "1776  Ученые СГУ разработали легкий и доступный мето...   \n",
       "1777  Русские учёные придумали, как быстро и недорог...   \n",
       "\n",
       "                                              text_prep  \\\n",
       "0     в сообщении военного ведомства отмечается что ...   \n",
       "1     по его словам в результате атак удалось добить...   \n",
       "2     вчера российские войска нанесли массированный ...   \n",
       "3     « декабря российскими войсками нанесен массиро...   \n",
       "4     ранее премьер украины денис шмыгаль ранее подт...   \n",
       "...                                                 ...   \n",
       "1773  ученые придумали теоретический расчет частей н...   \n",
       "1774  русские учёные изобрели быструю и недорогую ме...   \n",
       "1775  ученые из саратовского национального исследова...   \n",
       "1776  ученые сгу разработали легкий и доступный мето...   \n",
       "1777  русские учёные придумали как быстро и недорого...   \n",
       "\n",
       "                                              text_stem  \\\n",
       "0     сообщен воен ведомств отмеча результат массиро...   \n",
       "1     слов результат атак уда доб прекращен выпуск р...   \n",
       "2     вчер российск войск нанесл массирова удар высо...   \n",
       "3     декабр российск войск нанес массирова удар выс...   \n",
       "4     ран премьер украин денис шмыгал ран подтверд п...   \n",
       "...                                                 ...   \n",
       "1773  учен придума теоретическ расчет част некотор д...   \n",
       "1774  русск учен изобрел быстр недорог методик прове...   \n",
       "1775  учен саратовск национальн исследовательск госу...   \n",
       "1776  учен сгу разработа легк доступн метод контрол ...   \n",
       "1777  русск учен придума быстр недор провер качеств ...   \n",
       "\n",
       "                                                text_sw  \\\n",
       "0     сообщении военного ведомства отмечается резуль...   \n",
       "1     словам результате атак удалось добиться прекра...   \n",
       "2     вчера российские войска нанесли массированный ...   \n",
       "3     декабря российскими войсками нанесен массирова...   \n",
       "4     ранее премьер украины денис шмыгаль ранее подт...   \n",
       "...                                                 ...   \n",
       "1773  ученые придумали теоретический расчет частей н...   \n",
       "1774  русские учёные изобрели быструю недорогую мето...   \n",
       "1775  ученые саратовского национального исследовател...   \n",
       "1776  ученые сгу разработали легкий доступный метод ...   \n",
       "1777  русские учёные придумали быстро недорого прове...   \n",
       "\n",
       "                                              text_lemm  \n",
       "0     сообщение военный ведомство отмечаться результ...  \n",
       "1     словам результат атака удаваться добиваться пр...  \n",
       "2     вчера российский войско наносить массированный...  \n",
       "3     декабря российский войско наносить массированн...  \n",
       "4     ранее премьер украина денис шмыгаль ранее подт...  \n",
       "...                                                 ...  \n",
       "1773  ученые придумывать теоретический расчет часть ...  \n",
       "1774  русские ученый изобретать быстрый недорогой ме...  \n",
       "1775  ученые саратовский национальный исследовательс...  \n",
       "1776  ученые сгу разрабатывать легкий доступный мето...  \n",
       "1777  русские ученый придумывать быстро недорого про...  \n",
       "\n",
       "[1778 rows x 7 columns]"
      ]
     },
     "execution_count": 84,
     "metadata": {},
     "output_type": "execute_result"
    }
   ],
   "source": [
    "from pymystem3 import Mystem\n",
    "\n",
    "def lemmatize_text():\n",
    "    mystem = Mystem()\n",
    "    lemm_texts_list = []\n",
    "\n",
    "    text_list = df_nlp['text_sw'].to_list()\n",
    "    text_join = \"joining\".join(text_list)\n",
    "\n",
    "    try:\n",
    "        text_lem = mystem.lemmatize(text_join)\n",
    "        tokens = [token for token in text_lem if token != ' ' and token not in russian_stopwords]\n",
    "        text = \" \".join(tokens)\n",
    "    except Exception as e:\n",
    "        print(e)\n",
    "\n",
    "    text_split = text.split(\"joining\")\n",
    "    df_nlp[\"text_lemm\"] = text_split\n",
    "    return df_nlp\n",
    "\n",
    "lemmatize_text()"
   ]
  },
  {
   "cell_type": "code",
   "execution_count": 85,
   "metadata": {},
   "outputs": [],
   "source": [
    "def undersempler():\n",
    "    df_pr = df_nlp.loc[df_nlp['rubric'] == 'Происшествия'].head(200)\n",
    "    df_other = df_nlp.loc[df_nlp['rubric'] != 'Происшествия']\n",
    "\n",
    "    df_ml = pd.concat([df_pr, df_other])\n",
    "    return df_ml"
   ]
  },
  {
   "cell_type": "code",
   "execution_count": 86,
   "metadata": {},
   "outputs": [
    {
     "data": {
      "text/plain": [
       "<AxesSubplot:>"
      ]
     },
     "execution_count": 86,
     "metadata": {},
     "output_type": "execute_result"
    },
    {
     "data": {
      "image/png": "[encoded data removed]",
      "text/plain": [
       "<Figure size 640x480 with 1 Axes>"
      ]
     },
     "metadata": {},
     "output_type": "display_data"
    }
   ],
   "source": [
    "# Горизонтальная столбчатая диаграмма\n",
    "df_ml['rubric'].value_counts(normalize=True).plot.barh()"
   ]
  },
  {
   "cell_type": "markdown",
   "metadata": {},
   "source": [
    "## Создание моделей машинного обучения"
   ]
  },
  {
   "cell_type": "markdown",
   "metadata": {},
   "source": [
    "### Кодирование целевой переменной. Формирование тестовой и обучающей выборок"
   ]
  },
  {
   "cell_type": "code",
   "execution_count": 87,
   "metadata": {},
   "outputs": [],
   "source": [
    "from sklearn.preprocessing import LabelEncoder\n",
    "from sklearn.preprocessing import OneHotEncoder\n",
    "from sklearn.model_selection import train_test_split\n",
    "from imblearn.under_sampling import NearMiss\n",
    "\n",
    "rubrics = ['Политика', 'Общество', 'Экономика', 'В мире', 'Спорт', 'Происшествия', 'Культура', 'Технологии', 'Наука']\n",
    "\n",
    "encoder = LabelEncoder()\n",
    "rubrics_list = df_ml['rubric'].to_list()\n",
    "rubric_labels = encoder.fit_transform(rubrics_list)\n",
    "\n",
    "X = df_ml['text_lemm']\n",
    "#X = df_nlp['text_sw']\n",
    "y = rubric_labels\n",
    "\n",
    "X_train, X_test, y_train, y_test = train_test_split(X, y, test_size=0.3, random_state=42)\n",
    "my_tags = rubrics"
   ]
  },
  {
   "cell_type": "code",
   "execution_count": 88,
   "metadata": {},
   "outputs": [],
   "source": [
    "from sklearn.pipeline import Pipeline\n",
    "from sklearn.feature_extraction.text import TfidfTransformer\n",
    "from sklearn.feature_extraction.text import CountVectorizer\n",
    "from sklearn.metrics import accuracy_score\n",
    "from sklearn.metrics import classification_report"
   ]
  },
  {
   "cell_type": "markdown",
   "metadata": {},
   "source": [
    "### Байесовский классификатор"
   ]
  },
  {
   "cell_type": "code",
   "execution_count": 89,
   "metadata": {},
   "outputs": [
    {
     "name": "stdout",
     "output_type": "stream",
     "text": [
      "accuracy 0.8014888337468983\n",
      "              precision    recall  f1-score   support\n",
      "\n",
      "    Политика       0.80      0.64      0.71        50\n",
      "    Общество       0.73      0.98      0.83        41\n",
      "   Экономика       1.00      0.63      0.78        41\n",
      "      В мире       0.78      0.53      0.63        47\n",
      "       Спорт       0.95      0.93      0.94        45\n",
      "Происшествия       0.65      1.00      0.79        51\n",
      "    Культура       0.85      0.93      0.89        60\n",
      "  Технологии       0.92      0.44      0.59        25\n",
      "       Наука       0.80      0.93      0.86        43\n",
      "\n",
      "    accuracy                           0.80       403\n",
      "   macro avg       0.83      0.78      0.78       403\n",
      "weighted avg       0.82      0.80      0.79       403\n",
      "\n"
     ]
    },
    {
     "data": {
      "text/plain": [
       "0.8"
      ]
     },
     "execution_count": 89,
     "metadata": {},
     "output_type": "execute_result"
    }
   ],
   "source": [
    "from sklearn.naive_bayes import MultinomialNB\n",
    "\n",
    "def nb_classifier():\n",
    "    \n",
    "    nb = Pipeline ([('vect', CountVectorizer()),\n",
    "                    ('tfidf', TfidfTransformer()),\n",
    "                    ('clf', MultinomialNB()),\n",
    "                   ])\n",
    "\n",
    "    nb.fit(X_train, y_train)\n",
    "    y_pred = nb.predict(X_test)\n",
    "\n",
    "    print('accuracy %s' % accuracy_score(y_pred, y_test))\n",
    "    print(classification_report(y_test, y_pred, target_names=my_tags))\n",
    "    \n",
    "    return round(accuracy_score(y_pred, y_test), 2)\n",
    "\n",
    "nb_classifier()"
   ]
  },
  {
   "cell_type": "markdown",
   "metadata": {},
   "source": [
    "### Метод опорных векторов"
   ]
  },
  {
   "cell_type": "code",
   "execution_count": 90,
   "metadata": {},
   "outputs": [
    {
     "name": "stdout",
     "output_type": "stream",
     "text": [
      "accuracy 0.8759305210918115\n",
      "              precision    recall  f1-score   support\n",
      "\n",
      "    Политика       0.80      0.72      0.76        50\n",
      "    Общество       0.88      0.93      0.90        41\n",
      "   Экономика       0.93      0.90      0.91        41\n",
      "      В мире       0.79      0.70      0.74        47\n",
      "       Спорт       0.91      0.96      0.93        45\n",
      "Происшествия       0.93      1.00      0.96        51\n",
      "    Культура       0.98      0.90      0.94        60\n",
      "  Технологии       0.71      0.80      0.75        25\n",
      "       Наука       0.85      0.95      0.90        43\n",
      "\n",
      "    accuracy                           0.88       403\n",
      "   macro avg       0.87      0.87      0.87       403\n",
      "weighted avg       0.88      0.88      0.87       403\n",
      "\n"
     ]
    },
    {
     "data": {
      "text/plain": [
       "0.88"
      ]
     },
     "execution_count": 90,
     "metadata": {},
     "output_type": "execute_result"
    }
   ],
   "source": [
    "from sklearn.linear_model import SGDClassifier\n",
    "\n",
    "def sgd_classifier():\n",
    "    \n",
    "    sgd = Pipeline ([('vect', CountVectorizer()),\n",
    "                     ('tfidf', TfidfTransformer()),\n",
    "                     ('clf', SGDClassifier(loss='hinge', penalty='l2', alpha=1e-3, random_state=42, max_iter=5, tol=None)),\n",
    "                    ])\n",
    "\n",
    "    sgd.fit(X_train, y_train)\n",
    "    y_pred = sgd.predict(X_test)\n",
    "\n",
    "    print('accuracy %s' % accuracy_score(y_pred, y_test))\n",
    "    print(classification_report(y_test, y_pred, target_names=my_tags))\n",
    "    \n",
    "    return round(accuracy_score(y_pred, y_test), 2)\n",
    "\n",
    "sgd_classifier()"
   ]
  },
  {
   "cell_type": "markdown",
   "metadata": {},
   "source": [
    "### Логистическая регрессия"
   ]
  },
  {
   "cell_type": "code",
   "execution_count": 91,
   "metadata": {},
   "outputs": [
    {
     "name": "stdout",
     "output_type": "stream",
     "text": [
      "accuracy 0.8635235732009926\n",
      "              precision    recall  f1-score   support\n",
      "\n",
      "    Политика       0.74      0.68      0.71        50\n",
      "    Общество       0.95      0.90      0.92        41\n",
      "   Экономика       0.95      0.88      0.91        41\n",
      "      В мире       0.73      0.77      0.75        47\n",
      "       Спорт       0.88      0.93      0.90        45\n",
      "Происшествия       0.88      1.00      0.94        51\n",
      "    Культура       0.96      0.88      0.92        60\n",
      "  Технологии       0.76      0.76      0.76        25\n",
      "       Наука       0.89      0.93      0.91        43\n",
      "\n",
      "    accuracy                           0.86       403\n",
      "   macro avg       0.86      0.86      0.86       403\n",
      "weighted avg       0.86      0.86      0.86       403\n",
      "\n"
     ]
    },
    {
     "name": "stderr",
     "output_type": "stream",
     "text": [
      "/Users/user/opt/anaconda3/lib/python3.9/site-packages/sklearn/linear_model/_logistic.py:444: ConvergenceWarning: lbfgs failed to converge (status=1):\n",
      "STOP: TOTAL NO. of ITERATIONS REACHED LIMIT.\n",
      "\n",
      "Increase the number of iterations (max_iter) or scale the data as shown in:\n",
      "    https://scikit-learn.org/stable/modules/preprocessing.html\n",
      "Please also refer to the documentation for alternative solver options:\n",
      "    https://scikit-learn.org/stable/modules/linear_model.html#logistic-regression\n",
      "  n_iter_i = _check_optimize_result(\n"
     ]
    },
    {
     "data": {
      "text/plain": [
       "0.86"
      ]
     },
     "execution_count": 91,
     "metadata": {},
     "output_type": "execute_result"
    }
   ],
   "source": [
    "from sklearn.linear_model import LogisticRegression\n",
    "\n",
    "def logreg_classifier():\n",
    "\n",
    "    logreg = Pipeline ([('vect', CountVectorizer()),\n",
    "                        ('tfidf', TfidfTransformer()),\n",
    "                        ('clf', LogisticRegression(n_jobs=1, C=1e5)),\n",
    "                       ])\n",
    "\n",
    "    logreg.fit(X_train, y_train)\n",
    "    y_pred = logreg.predict(X_test)\n",
    "\n",
    "    print('accuracy %s' % accuracy_score(y_pred, y_test))\n",
    "    print(classification_report(y_test, y_pred, target_names=my_tags))\n",
    "    \n",
    "    return round(accuracy_score(y_pred, y_test), 2)\n",
    "\n",
    "logreg_classifier()"
   ]
  },
  {
   "cell_type": "markdown",
   "metadata": {},
   "source": [
    "### Дерево решений "
   ]
  },
  {
   "cell_type": "code",
   "execution_count": 92,
   "metadata": {},
   "outputs": [
    {
     "name": "stdout",
     "output_type": "stream",
     "text": [
      "accuracy 0.18858560794044665\n",
      "              precision    recall  f1-score   support\n",
      "\n",
      "    Политика       0.00      0.00      0.00        50\n",
      "    Общество       0.11      1.00      0.20        41\n",
      "   Экономика       0.00      0.00      0.00        41\n",
      "      В мире       0.00      0.00      0.00        47\n",
      "       Спорт       0.00      0.00      0.00        45\n",
      "Происшествия       0.95      0.35      0.51        51\n",
      "    Культура       1.00      0.28      0.44        60\n",
      "  Технологии       0.00      0.00      0.00        25\n",
      "       Наука       0.00      0.00      0.00        43\n",
      "\n",
      "    accuracy                           0.19       403\n",
      "   macro avg       0.23      0.18      0.13       403\n",
      "weighted avg       0.28      0.19      0.15       403\n",
      "\n"
     ]
    },
    {
     "name": "stderr",
     "output_type": "stream",
     "text": [
      "/Users/user/opt/anaconda3/lib/python3.9/site-packages/sklearn/metrics/_classification.py:1334: UndefinedMetricWarning: Precision and F-score are ill-defined and being set to 0.0 in labels with no predicted samples. Use `zero_division` parameter to control this behavior.\n",
      "  _warn_prf(average, modifier, msg_start, len(result))\n",
      "/Users/user/opt/anaconda3/lib/python3.9/site-packages/sklearn/metrics/_classification.py:1334: UndefinedMetricWarning: Precision and F-score are ill-defined and being set to 0.0 in labels with no predicted samples. Use `zero_division` parameter to control this behavior.\n",
      "  _warn_prf(average, modifier, msg_start, len(result))\n",
      "/Users/user/opt/anaconda3/lib/python3.9/site-packages/sklearn/metrics/_classification.py:1334: UndefinedMetricWarning: Precision and F-score are ill-defined and being set to 0.0 in labels with no predicted samples. Use `zero_division` parameter to control this behavior.\n",
      "  _warn_prf(average, modifier, msg_start, len(result))\n"
     ]
    },
    {
     "data": {
      "text/plain": [
       "0.19"
      ]
     },
     "execution_count": 92,
     "metadata": {},
     "output_type": "execute_result"
    }
   ],
   "source": [
    "from sklearn.tree import DecisionTreeClassifier\n",
    "\n",
    "def dtree_classifier():\n",
    "    \n",
    "    dtree = Pipeline ([('vect', CountVectorizer()),\n",
    "                       ('tfidf', TfidfTransformer()),\n",
    "                       ('clf', DecisionTreeClassifier(max_depth = 2)),\n",
    "                      ])\n",
    "\n",
    "    dtree.fit(X_train, y_train)\n",
    "    y_pred = dtree.predict(X_test)\n",
    "\n",
    "    print('accuracy %s' % accuracy_score(y_pred, y_test))\n",
    "    print(classification_report(y_test, y_pred, target_names=my_tags))\n",
    "    \n",
    "    return round(accuracy_score(y_pred, y_test), 2)\n",
    "\n",
    "dtree_classifier()"
   ]
  },
  {
   "cell_type": "markdown",
   "metadata": {},
   "source": [
    "### Метод K ближайщих соседей KNN"
   ]
  },
  {
   "cell_type": "markdown",
   "metadata": {},
   "source": [
    "#### Для n_neighbors=3"
   ]
  },
  {
   "cell_type": "code",
   "execution_count": 93,
   "metadata": {},
   "outputs": [
    {
     "name": "stdout",
     "output_type": "stream",
     "text": [
      "accuracy 0.8312655086848635\n",
      "              precision    recall  f1-score   support\n",
      "\n",
      "    Политика       0.66      0.74      0.70        50\n",
      "    Общество       0.76      0.95      0.85        41\n",
      "   Экономика       0.81      0.73      0.77        41\n",
      "      В мире       0.80      0.74      0.77        47\n",
      "       Спорт       0.89      0.89      0.89        45\n",
      "Происшествия       0.86      0.96      0.91        51\n",
      "    Культура       0.92      0.80      0.86        60\n",
      "  Технологии       0.89      0.68      0.77        25\n",
      "       Наука       0.95      0.93      0.94        43\n",
      "\n",
      "    accuracy                           0.83       403\n",
      "   macro avg       0.84      0.83      0.83       403\n",
      "weighted avg       0.84      0.83      0.83       403\n",
      "\n"
     ]
    },
    {
     "data": {
      "text/plain": [
       "0.83"
      ]
     },
     "execution_count": 93,
     "metadata": {},
     "output_type": "execute_result"
    }
   ],
   "source": [
    "from sklearn.neighbors import KNeighborsClassifier\n",
    "\n",
    "def knn3_classifier():\n",
    "\n",
    "    knn3 = Pipeline([('vect', CountVectorizer()),\n",
    "                    ('tfidf', TfidfTransformer()),\n",
    "                    ('clf', KNeighborsClassifier(n_neighbors=3)),\n",
    "                   ])\n",
    "\n",
    "    knn3.fit(X_train, y_train)\n",
    "    y_pred = knn3.predict(X_test)\n",
    "\n",
    "    print('accuracy %s' % accuracy_score(y_pred, y_test))\n",
    "    print(classification_report(y_test, y_pred, target_names=my_tags))\n",
    "    \n",
    "    return round(accuracy_score(y_pred, y_test), 2)\n",
    "\n",
    "knn3_classifier()"
   ]
  },
  {
   "cell_type": "markdown",
   "metadata": {},
   "source": [
    "#### Для n_neighbors=9"
   ]
  },
  {
   "cell_type": "code",
   "execution_count": 94,
   "metadata": {},
   "outputs": [
    {
     "name": "stdout",
     "output_type": "stream",
     "text": [
      "accuracy 0.7890818858560794\n",
      "              precision    recall  f1-score   support\n",
      "\n",
      "    Политика       0.77      0.68      0.72        50\n",
      "    Общество       0.78      0.95      0.86        41\n",
      "   Экономика       0.86      0.76      0.81        41\n",
      "      В мире       0.68      0.57      0.62        47\n",
      "       Спорт       0.84      0.91      0.87        45\n",
      "Происшествия       0.70      1.00      0.82        51\n",
      "    Культура       0.94      0.78      0.85        60\n",
      "  Технологии       0.88      0.56      0.68        25\n",
      "       Наука       0.76      0.79      0.77        43\n",
      "\n",
      "    accuracy                           0.79       403\n",
      "   macro avg       0.80      0.78      0.78       403\n",
      "weighted avg       0.80      0.79      0.78       403\n",
      "\n"
     ]
    },
    {
     "data": {
      "text/plain": [
       "0.79"
      ]
     },
     "execution_count": 94,
     "metadata": {},
     "output_type": "execute_result"
    }
   ],
   "source": [
    "from sklearn.neighbors import KNeighborsClassifier\n",
    "\n",
    "def knn9_classifier():\n",
    "    \n",
    "    knn9 = Pipeline([('vect', CountVectorizer()),\n",
    "                    ('tfidf', TfidfTransformer()),\n",
    "                    ('clf', KNeighborsClassifier(n_neighbors=9)),\n",
    "                   ])\n",
    "\n",
    "    knn9.fit(X_train, y_train)\n",
    "    y_pred = knn9.predict(X_test)\n",
    "\n",
    "    print('accuracy %s' % accuracy_score(y_pred, y_test))\n",
    "    print(classification_report(y_test, y_pred, target_names=my_tags))\n",
    "    \n",
    "    return round(accuracy_score(y_pred, y_test), 2)\n",
    "\n",
    "knn9_classifier()"
   ]
  },
  {
   "cell_type": "markdown",
   "metadata": {},
   "source": [
    "### Метод градиентного бустинга"
   ]
  },
  {
   "cell_type": "code",
   "execution_count": 95,
   "metadata": {},
   "outputs": [
    {
     "name": "stdout",
     "output_type": "stream",
     "text": [
      "0.5401138031298667\n",
      "0.3349699158432443\n",
      "MSE: 4.26\n",
      "0.3349699158432443\n"
     ]
    },
    {
     "data": {
      "text/plain": [
       "0.33"
      ]
     },
     "execution_count": 95,
     "metadata": {},
     "output_type": "execute_result"
    }
   ],
   "source": [
    "from sklearn.ensemble import GradientBoostingRegressor\n",
    "from sklearn.metrics import mean_squared_error,r2_score \n",
    "\n",
    "def gbr_classifier():\n",
    "    \n",
    "    gbr = Pipeline([('vect', CountVectorizer()),\n",
    "                    ('tfidf', TfidfTransformer()),\n",
    "                    ('clf', GradientBoostingRegressor(n_estimators=200, max_depth=12, criterion='squared_error', learning_rate=0.03, min_samples_leaf=16, min_samples_split=16)),\n",
    "                   ])\n",
    "\n",
    "    gbr.fit(X_train, y_train)\n",
    "    y_pred = gbr.predict(X_test)\n",
    "    train_accuracy_score=gbr.score(X_train,y_train)\n",
    "    test_accuracy_score=gbr.score(X_test,y_test)\n",
    "    mse = mean_squared_error(y_test,y_pred)\n",
    "\n",
    "    print(train_accuracy_score)\n",
    "    print(test_accuracy_score)\n",
    "    print(\"MSE: %.2f\" % mse)\n",
    "    print(r2_score(y_test,y_pred))\n",
    "    \n",
    "    return round(test_accuracy_score, 2)\n",
    "\n",
    "gbr_classifier()"
   ]
  },
  {
   "cell_type": "code",
   "execution_count": 100,
   "metadata": {},
   "outputs": [
    {
     "ename": "NameError",
     "evalue": "name 'multilabel_confusion_matrix' is not defined",
     "output_type": "error",
     "traceback": [
      "\u001b[0;31m---------------------------------------------------------------------------\u001b[0m",
      "\u001b[0;31mNameError\u001b[0m                                 Traceback (most recent call last)",
      "\u001b[0;32m/var/folders/f3/zqnx3rgj3m12khpr_cbwqlm80000gn/T/ipykernel_1647/138450144.py\u001b[0m in \u001b[0;36m<module>\u001b[0;34m\u001b[0m\n\u001b[1;32m      1\u001b[0m \u001b[0;32mfrom\u001b[0m \u001b[0msklearn\u001b[0m\u001b[0;34m.\u001b[0m\u001b[0mmetrics\u001b[0m \u001b[0;32mimport\u001b[0m \u001b[0mconfusion_matrix\u001b[0m\u001b[0;34m\u001b[0m\u001b[0;34m\u001b[0m\u001b[0m\n\u001b[1;32m      2\u001b[0m \u001b[0;34m\u001b[0m\u001b[0m\n\u001b[0;32m----> 3\u001b[0;31m \u001b[0mcm\u001b[0m \u001b[0;34m=\u001b[0m \u001b[0mmultilabel_confusion_matrix\u001b[0m\u001b[0;34m(\u001b[0m\u001b[0my_test\u001b[0m\u001b[0;34m,\u001b[0m\u001b[0my_pred\u001b[0m\u001b[0;34m,\u001b[0m \u001b[0mlabels\u001b[0m\u001b[0;34m=\u001b[0m\u001b[0mrubrics\u001b[0m\u001b[0;34m)\u001b[0m\u001b[0;34m\u001b[0m\u001b[0;34m\u001b[0m\u001b[0m\n\u001b[0m\u001b[1;32m      4\u001b[0m \u001b[0mcm\u001b[0m\u001b[0;34m\u001b[0m\u001b[0;34m\u001b[0m\u001b[0m\n",
      "\u001b[0;31mNameError\u001b[0m: name 'multilabel_confusion_matrix' is not defined"
     ]
    }
   ],
   "source": [
    "from sklearn.metrics import confusion_matrix\n",
    "\n",
    "cm = multilabel_confusion_matrix(y_test,y_pred, labels=rubrics)\n",
    "cm"
   ]
  },
  {
   "cell_type": "markdown",
   "metadata": {},
   "source": [
    "![jupyter](https://pythonru.com/wp-content/uploads/2021/03/matrica-oshibok-dlya-binarnoj-klassifikacii.png)"
   ]
  },
  {
   "cell_type": "markdown",
   "metadata": {},
   "source": [
    "True, если получено верное предсказание, то есть эталонные и предсказанные метки классов совпадают, и False, когда они не совпадают. Positive или Negative — названия предсказанных меток."
   ]
  },
  {
   "cell_type": "code",
   "execution_count": null,
   "metadata": {},
   "outputs": [],
   "source": [
    "# Пример рассчета характеристик для конкретного класса\n",
    "\n",
    "# Чувствительность (recall)\n",
    "print('TPR = %.2f' % (cm[1][1] / sum(cm[1])))\n",
    "\n",
    "# Специфичность\n",
    "print('SPC = %.2f' % (cm[0][0] / sum(cm[0])))\n",
    "\n",
    "# Ценность + прогноза (precision)\n",
    "print('PPV = %.2f' % (cm[1][1] / sum(col[1] for col in cm)))\n",
    "\n",
    "# Ценность - прогноза\n",
    "print('NPV = %.2f' % (cm[0][0] / sum(col[0] for col in cm)))\n",
    "\n",
    "print('Acc = %.2f' % ((cm[0][0] + cm[1][1]) / sum(cm[0][])))"
   ]
  }
 ],
 "metadata": {
  "kernelspec": {
   "display_name": "Python 3 (ipykernel)",
   "language": "python",
   "name": "python3"
  },
  "language_info": {
   "codemirror_mode": {
    "name": "ipython",
    "version": 3
   },
   "file_extension": ".py",
   "mimetype": "text/x-python",
   "name": "python",
   "nbconvert_exporter": "python",
   "pygments_lexer": "ipython3",
   "version": "3.9.13"
  }
 },
 "nbformat": 4,
 "nbformat_minor": 4
}
