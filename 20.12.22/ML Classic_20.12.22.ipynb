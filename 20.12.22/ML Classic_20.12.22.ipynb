{
 "cells": [
  {
   "cell_type": "markdown",
   "id": "c8639597",
   "metadata": {},
   "source": [
    "## Создание классических моделей машинного обучения"
   ]
  },
  {
   "cell_type": "markdown",
   "id": "c4a31b5c",
   "metadata": {},
   "source": [
    "### Импорт собранных и обработанных данных"
   ]
  },
  {
   "cell_type": "code",
   "execution_count": 41,
   "id": "1bcb51aa",
   "metadata": {},
   "outputs": [
    {
     "data": {
      "text/html": [
       "<div>\n",
       "<style scoped>\n",
       "    .dataframe tbody tr th:only-of-type {\n",
       "        vertical-align: middle;\n",
       "    }\n",
       "\n",
       "    .dataframe tbody tr th {\n",
       "        vertical-align: top;\n",
       "    }\n",
       "\n",
       "    .dataframe thead th {\n",
       "        text-align: right;\n",
       "    }\n",
       "</style>\n",
       "<table border=\"1\" class=\"dataframe\">\n",
       "  <thead>\n",
       "    <tr style=\"text-align: right;\">\n",
       "      <th></th>\n",
       "      <th>main_rubric</th>\n",
       "      <th>rubric</th>\n",
       "      <th>text_lemm</th>\n",
       "      <th>title_lemm</th>\n",
       "    </tr>\n",
       "  </thead>\n",
       "  <tbody>\n",
       "    <tr>\n",
       "      <th>0</th>\n",
       "      <td>Происшествия</td>\n",
       "      <td>Происшествия</td>\n",
       "      <td>количество пострадать стройка краснознаменск р...</td>\n",
       "      <td>число пострадать обрушение строительный лес по...</td>\n",
       "    </tr>\n",
       "    <tr>\n",
       "      <th>1</th>\n",
       "      <td>Происшествия</td>\n",
       "      <td>Происшествия</td>\n",
       "      <td>инцидент происходить накануне лес устанавливат...</td>\n",
       "      <td>число пострадать обрушение лес краснознаменск ...</td>\n",
       "    </tr>\n",
       "    <tr>\n",
       "      <th>2</th>\n",
       "      <td>Происшествия</td>\n",
       "      <td>Происшествия</td>\n",
       "      <td>число пострадать обрушение строительный лес по...</td>\n",
       "      <td>экстренные служба число пострадать обрушение л...</td>\n",
       "    </tr>\n",
       "    <tr>\n",
       "      <th>3</th>\n",
       "      <td>Происшествия</td>\n",
       "      <td>Происшествия</td>\n",
       "      <td>напомним инцидент стройка подмосковный красноз...</td>\n",
       "      <td>число пострадать обрушение стройка подмосковье...</td>\n",
       "    </tr>\n",
       "    <tr>\n",
       "      <th>4</th>\n",
       "      <td>Происшествия</td>\n",
       "      <td>Происшествия</td>\n",
       "      <td>результате обрушение строительный лес краснозн...</td>\n",
       "      <td>число пострадать обрушение лес краснознаменск ...</td>\n",
       "    </tr>\n",
       "    <tr>\n",
       "      <th>...</th>\n",
       "      <td>...</td>\n",
       "      <td>...</td>\n",
       "      <td>...</td>\n",
       "      <td>...</td>\n",
       "    </tr>\n",
       "    <tr>\n",
       "      <th>3360</th>\n",
       "      <td>Наука</td>\n",
       "      <td>Космос</td>\n",
       "      <td>несмотря огромный сила гравитация солнце плане...</td>\n",
       "      <td>ученые объяснять почему планета сталкиваться с...</td>\n",
       "    </tr>\n",
       "    <tr>\n",
       "      <th>3361</th>\n",
       "      <td>Наука</td>\n",
       "      <td>Космос</td>\n",
       "      <td>главная причина который планета преодолевать м...</td>\n",
       "      <td>ученые рассказывать мешать планета сталкиватьс...</td>\n",
       "    </tr>\n",
       "    <tr>\n",
       "      <th>3362</th>\n",
       "      <td>Наука</td>\n",
       "      <td>Космос</td>\n",
       "      <td>сила гравитация удерживать планета солнечный с...</td>\n",
       "      <td>планеты преодолевать гравитация солнце сталкив...</td>\n",
       "    </tr>\n",
       "    <tr>\n",
       "      <th>3363</th>\n",
       "      <td>Наука</td>\n",
       "      <td>Космос</td>\n",
       "      <td>однако несмотря это планета держаться определе...</td>\n",
       "      <td>стало известно почему планета сталкиваться сол...</td>\n",
       "    </tr>\n",
       "    <tr>\n",
       "      <th>3364</th>\n",
       "      <td>Наука</td>\n",
       "      <td>Космос</td>\n",
       "      <td>планеты двигаться орбита вокруг солнце достато...</td>\n",
       "      <td>ученые объяснять почему планета сталкиваться с...</td>\n",
       "    </tr>\n",
       "  </tbody>\n",
       "</table>\n",
       "<p>3365 rows × 4 columns</p>\n",
       "</div>"
      ],
      "text/plain": [
       "       main_rubric        rubric  \\\n",
       "0     Происшествия  Происшествия   \n",
       "1     Происшествия  Происшествия   \n",
       "2     Происшествия  Происшествия   \n",
       "3     Происшествия  Происшествия   \n",
       "4     Происшествия  Происшествия   \n",
       "...            ...           ...   \n",
       "3360         Наука        Космос   \n",
       "3361         Наука        Космос   \n",
       "3362         Наука        Космос   \n",
       "3363         Наука        Космос   \n",
       "3364         Наука        Космос   \n",
       "\n",
       "                                              text_lemm  \\\n",
       "0     количество пострадать стройка краснознаменск р...   \n",
       "1     инцидент происходить накануне лес устанавливат...   \n",
       "2     число пострадать обрушение строительный лес по...   \n",
       "3     напомним инцидент стройка подмосковный красноз...   \n",
       "4     результате обрушение строительный лес краснозн...   \n",
       "...                                                 ...   \n",
       "3360  несмотря огромный сила гравитация солнце плане...   \n",
       "3361  главная причина который планета преодолевать м...   \n",
       "3362  сила гравитация удерживать планета солнечный с...   \n",
       "3363  однако несмотря это планета держаться определе...   \n",
       "3364  планеты двигаться орбита вокруг солнце достато...   \n",
       "\n",
       "                                             title_lemm  \n",
       "0     число пострадать обрушение строительный лес по...  \n",
       "1     число пострадать обрушение лес краснознаменск ...  \n",
       "2     экстренные служба число пострадать обрушение л...  \n",
       "3     число пострадать обрушение стройка подмосковье...  \n",
       "4     число пострадать обрушение лес краснознаменск ...  \n",
       "...                                                 ...  \n",
       "3360  ученые объяснять почему планета сталкиваться с...  \n",
       "3361  ученые рассказывать мешать планета сталкиватьс...  \n",
       "3362  планеты преодолевать гравитация солнце сталкив...  \n",
       "3363  стало известно почему планета сталкиваться сол...  \n",
       "3364  ученые объяснять почему планета сталкиваться с...  \n",
       "\n",
       "[3365 rows x 4 columns]"
      ]
     },
     "execution_count": 41,
     "metadata": {},
     "output_type": "execute_result"
    }
   ],
   "source": [
    "import pandas as pd\n",
    "\n",
    "# Для mac\n",
    "df_nlp = pd.read_csv(r'/Users/user/Documents/ML.csv')\n",
    "\n",
    "# Для win\n",
    "#df_nlp = pd.read_csv(r'C:\\Users\\User\\Downloads\\ML.csv'), если в начале лишних столбец с индексами\n",
    "\n",
    "df_ml = df_nlp.drop(df_nlp.columns[[0,3,4,5,6,7,8,9,10]], axis = 1)\n",
    "\n",
    "df_ml"
   ]
  },
  {
   "cell_type": "markdown",
   "id": "93694ec1",
   "metadata": {},
   "source": [
    "### Кодирование целевой переменной. Формирование тестовой и обучающей выборок"
   ]
  },
  {
   "cell_type": "code",
   "execution_count": 42,
   "id": "6f205bea",
   "metadata": {},
   "outputs": [
    {
     "data": {
      "text/plain": [
       "(2355,)"
      ]
     },
     "execution_count": 42,
     "metadata": {},
     "output_type": "execute_result"
    }
   ],
   "source": [
    "from sklearn.preprocessing import LabelEncoder\n",
    "from sklearn.preprocessing import OneHotEncoder\n",
    "from sklearn.model_selection import train_test_split\n",
    "\n",
    "rubrics = ['Политика', 'Общество', 'Экономика', 'В мире', 'Спорт', 'Происшествия', 'Культура', 'Технологии', 'Наука']\n",
    "\n",
    "encoder = LabelEncoder()\n",
    "rubrics_list = df_ml['main_rubric'].to_list()\n",
    "rubric_labels = encoder.fit_transform(rubrics_list)\n",
    "\n",
    "X = df_ml['text_lemm']\n",
    "y = rubric_labels\n",
    "\n",
    "X_train, X_test, y_train, y_test = train_test_split(X, y, test_size=0.3, random_state=42)\n",
    "my_tags = rubrics\n",
    "\n",
    "X_train.shape"
   ]
  },
  {
   "cell_type": "code",
   "execution_count": 43,
   "id": "b435f8a2",
   "metadata": {},
   "outputs": [],
   "source": [
    "from sklearn.pipeline import Pipeline\n",
    "from sklearn.feature_extraction.text import TfidfTransformer\n",
    "from sklearn.feature_extraction.text import CountVectorizer\n",
    "from sklearn.metrics import accuracy_score\n",
    "from sklearn.metrics import classification_report"
   ]
  },
  {
   "cell_type": "markdown",
   "id": "f60d09c6",
   "metadata": {},
   "source": [
    "### Байесовский классификатор"
   ]
  },
  {
   "cell_type": "code",
   "execution_count": 44,
   "id": "c4b49ef3",
   "metadata": {},
   "outputs": [
    {
     "name": "stdout",
     "output_type": "stream",
     "text": [
      "accuracy 0.799009900990099\n",
      "              precision    recall  f1-score   support\n",
      "\n",
      "    Политика       0.00      0.00      0.00        35\n",
      "    Общество       0.99      0.84      0.91       116\n",
      "   Экономика       0.96      0.32      0.48        71\n",
      "      В мире       0.67      0.92      0.77       197\n",
      "       Спорт       0.93      0.80      0.86       121\n",
      "Происшествия       1.00      0.49      0.66        67\n",
      "    Культура       0.72      0.99      0.83       193\n",
      "  Технологии       0.95      0.78      0.85        90\n",
      "       Наука       0.84      0.93      0.88       120\n",
      "\n",
      "    accuracy                           0.80      1010\n",
      "   macro avg       0.78      0.68      0.70      1010\n",
      "weighted avg       0.81      0.80      0.78      1010\n",
      "\n"
     ]
    },
    {
     "data": {
      "text/plain": [
       "0.8"
      ]
     },
     "execution_count": 44,
     "metadata": {},
     "output_type": "execute_result"
    }
   ],
   "source": [
    "from sklearn.naive_bayes import MultinomialNB\n",
    "\n",
    "def nb_classifier():\n",
    "    \n",
    "    nb = Pipeline ([('vect', CountVectorizer()),\n",
    "                    ('tfidf', TfidfTransformer()),\n",
    "                    ('clf', MultinomialNB()),\n",
    "                   ])\n",
    "\n",
    "    nb.fit(X_train, y_train)\n",
    "    y_pred = nb.predict(X_test)\n",
    "\n",
    "    print('accuracy %s' % accuracy_score(y_pred, y_test))\n",
    "    print(classification_report(y_test, y_pred, target_names=my_tags))\n",
    "    \n",
    "    return round(accuracy_score(y_pred, y_test), 2)\n",
    "\n",
    "nb_classifier()"
   ]
  },
  {
   "cell_type": "code",
   "execution_count": null,
   "id": "48b53ccb",
   "metadata": {},
   "outputs": [],
   "source": []
  },
  {
   "cell_type": "markdown",
   "id": "8bcd1374",
   "metadata": {},
   "source": [
    "### Метод опорных векторов"
   ]
  },
  {
   "cell_type": "code",
   "execution_count": 45,
   "id": "3ad10a64",
   "metadata": {},
   "outputs": [
    {
     "name": "stdout",
     "output_type": "stream",
     "text": [
      "accuracy 0.8811881188118812\n",
      "              precision    recall  f1-score   support\n",
      "\n",
      "    Политика       0.50      0.20      0.29        35\n",
      "    Общество       0.94      0.93      0.94       116\n",
      "   Экономика       0.93      0.77      0.85        71\n",
      "      В мире       0.83      0.89      0.86       197\n",
      "       Спорт       0.89      0.94      0.92       121\n",
      "Происшествия       0.98      0.76      0.86        67\n",
      "    Культура       0.90      0.97      0.94       193\n",
      "  Технологии       0.87      0.86      0.86        90\n",
      "       Наука       0.87      0.95      0.91       120\n",
      "\n",
      "    accuracy                           0.88      1010\n",
      "   macro avg       0.86      0.81      0.82      1010\n",
      "weighted avg       0.88      0.88      0.87      1010\n",
      "\n"
     ]
    },
    {
     "data": {
      "text/plain": [
       "0.88"
      ]
     },
     "execution_count": 45,
     "metadata": {},
     "output_type": "execute_result"
    }
   ],
   "source": [
    "from sklearn.linear_model import SGDClassifier\n",
    "\n",
    "def sgd_classifier():\n",
    "    \n",
    "    sgd = Pipeline ([('vect', CountVectorizer()),\n",
    "                     ('tfidf', TfidfTransformer()),\n",
    "                     ('clf', SGDClassifier(loss='hinge', penalty='l2', alpha=1e-3, random_state=42, max_iter=5, tol=None)),\n",
    "                    ])\n",
    "\n",
    "    sgd.fit(X_train, y_train)\n",
    "    y_pred = sgd.predict(X_test)\n",
    "\n",
    "    print('accuracy %s' % accuracy_score(y_pred, y_test))\n",
    "    print(classification_report(y_test, y_pred, target_names=my_tags))\n",
    "    \n",
    "    return round(accuracy_score(y_pred, y_test), 2)\n",
    "\n",
    "sgd_classifier()"
   ]
  },
  {
   "cell_type": "markdown",
   "id": "e5c897fa",
   "metadata": {},
   "source": [
    "### Логистическая регрессия"
   ]
  },
  {
   "cell_type": "code",
   "execution_count": 46,
   "id": "2bbb7277",
   "metadata": {},
   "outputs": [
    {
     "name": "stdout",
     "output_type": "stream",
     "text": [
      "accuracy 0.8722772277227723\n",
      "              precision    recall  f1-score   support\n",
      "\n",
      "    Политика       0.48      0.29      0.36        35\n",
      "    Общество       0.87      0.94      0.90       116\n",
      "   Экономика       0.95      0.80      0.87        71\n",
      "      В мире       0.82      0.87      0.84       197\n",
      "       Спорт       0.91      0.88      0.90       121\n",
      "Происшествия       0.96      0.79      0.87        67\n",
      "    Культура       0.94      0.96      0.95       193\n",
      "  Технологии       0.81      0.88      0.84        90\n",
      "       Наука       0.86      0.91      0.88       120\n",
      "\n",
      "    accuracy                           0.87      1010\n",
      "   macro avg       0.84      0.81      0.82      1010\n",
      "weighted avg       0.87      0.87      0.87      1010\n",
      "\n"
     ]
    },
    {
     "name": "stderr",
     "output_type": "stream",
     "text": [
      "/Users/user/opt/anaconda3/lib/python3.9/site-packages/sklearn/linear_model/_logistic.py:444: ConvergenceWarning: lbfgs failed to converge (status=1):\n",
      "STOP: TOTAL NO. of ITERATIONS REACHED LIMIT.\n",
      "\n",
      "Increase the number of iterations (max_iter) or scale the data as shown in:\n",
      "    https://scikit-learn.org/stable/modules/preprocessing.html\n",
      "Please also refer to the documentation for alternative solver options:\n",
      "    https://scikit-learn.org/stable/modules/linear_model.html#logistic-regression\n",
      "  n_iter_i = _check_optimize_result(\n"
     ]
    },
    {
     "data": {
      "text/plain": [
       "0.87"
      ]
     },
     "execution_count": 46,
     "metadata": {},
     "output_type": "execute_result"
    }
   ],
   "source": [
    "from sklearn.linear_model import LogisticRegression\n",
    "\n",
    "def logreg_classifier():\n",
    "\n",
    "    logreg = Pipeline ([('vect', CountVectorizer()),\n",
    "                        ('tfidf', TfidfTransformer()),\n",
    "                        ('clf', LogisticRegression(n_jobs=1, C=1e5)),\n",
    "                       ])\n",
    "\n",
    "    logreg.fit(X_train, y_train)\n",
    "    y_pred = logreg.predict(X_test)\n",
    "\n",
    "    print('accuracy %s' % accuracy_score(y_pred, y_test))\n",
    "    print(classification_report(y_test, y_pred, target_names=my_tags))\n",
    "    \n",
    "    return round(accuracy_score(y_pred, y_test), 2)\n",
    "\n",
    "logreg_classifier()"
   ]
  },
  {
   "cell_type": "markdown",
   "id": "2ef07dbc",
   "metadata": {},
   "source": [
    "### Дерево решений "
   ]
  },
  {
   "cell_type": "code",
   "execution_count": 47,
   "id": "dfc4890a",
   "metadata": {},
   "outputs": [
    {
     "name": "stdout",
     "output_type": "stream",
     "text": [
      "accuracy 0.6495049504950495\n",
      "              precision    recall  f1-score   support\n",
      "\n",
      "    Политика       0.30      0.23      0.26        35\n",
      "    Общество       0.81      0.68      0.74       116\n",
      "   Экономика       0.72      0.46      0.56        71\n",
      "      В мире       0.42      0.76      0.54       197\n",
      "       Спорт       0.85      0.70      0.77       121\n",
      "Происшествия       0.77      0.45      0.57        67\n",
      "    Культура       0.78      0.77      0.78       193\n",
      "  Технологии       0.78      0.47      0.58        90\n",
      "       Наука       0.84      0.67      0.74       120\n",
      "\n",
      "    accuracy                           0.65      1010\n",
      "   macro avg       0.70      0.58      0.62      1010\n",
      "weighted avg       0.71      0.65      0.66      1010\n",
      "\n"
     ]
    },
    {
     "data": {
      "text/plain": [
       "0.65"
      ]
     },
     "execution_count": 47,
     "metadata": {},
     "output_type": "execute_result"
    }
   ],
   "source": [
    "from sklearn.tree import DecisionTreeClassifier\n",
    "\n",
    "def dtree_classifier():\n",
    "    \n",
    "    dtree = Pipeline ([('vect', CountVectorizer()),\n",
    "                       ('tfidf', TfidfTransformer()),\n",
    "                       ('clf', DecisionTreeClassifier(max_depth = 100)),\n",
    "                      ])\n",
    "\n",
    "    dtree.fit(X_train, y_train)\n",
    "    y_pred = dtree.predict(X_test)\n",
    "\n",
    "    print('accuracy %s' % accuracy_score(y_pred, y_test))\n",
    "    print(classification_report(y_test, y_pred, target_names=my_tags))\n",
    "    \n",
    "    return round(accuracy_score(y_pred, y_test), 2)\n",
    "\n",
    "dtree_classifier()"
   ]
  },
  {
   "cell_type": "markdown",
   "id": "ff5fc9fa",
   "metadata": {},
   "source": [
    "### Метод K ближайщих соседей KNN"
   ]
  },
  {
   "cell_type": "code",
   "execution_count": 48,
   "id": "2afd3d11",
   "metadata": {},
   "outputs": [
    {
     "name": "stdout",
     "output_type": "stream",
     "text": [
      "accuracy 0.8613861386138614\n",
      "              precision    recall  f1-score   support\n",
      "\n",
      "    Политика       0.43      0.57      0.49        35\n",
      "    Общество       0.84      0.89      0.87       116\n",
      "   Экономика       0.90      0.76      0.82        71\n",
      "      В мире       0.86      0.85      0.86       197\n",
      "       Спорт       0.87      0.90      0.89       121\n",
      "Происшествия       0.93      0.84      0.88        67\n",
      "    Культура       0.94      0.97      0.95       193\n",
      "  Технологии       0.86      0.77      0.81        90\n",
      "       Наука       0.86      0.86      0.86       120\n",
      "\n",
      "    accuracy                           0.86      1010\n",
      "   macro avg       0.83      0.82      0.83      1010\n",
      "weighted avg       0.87      0.86      0.86      1010\n",
      "\n"
     ]
    },
    {
     "data": {
      "text/plain": [
       "0.86"
      ]
     },
     "execution_count": 48,
     "metadata": {},
     "output_type": "execute_result"
    }
   ],
   "source": [
    "from sklearn.neighbors import KNeighborsClassifier\n",
    "\n",
    "def knn_classifier():\n",
    "\n",
    "    knn = Pipeline([('vect', CountVectorizer()),\n",
    "                    ('tfidf', TfidfTransformer()),\n",
    "                    ('clf', KNeighborsClassifier(n_neighbors=3)),\n",
    "                   ])\n",
    "\n",
    "    knn.fit(X_train, y_train)\n",
    "    y_pred = knn.predict(X_test)\n",
    "\n",
    "    print('accuracy %s' % accuracy_score(y_pred, y_test))\n",
    "    print(classification_report(y_test, y_pred, target_names=my_tags))\n",
    "    \n",
    "    return round(accuracy_score(y_pred, y_test), 2)\n",
    "\n",
    "knn_classifier()"
   ]
  },
  {
   "cell_type": "markdown",
   "id": "2b11db16",
   "metadata": {},
   "source": [
    "### Метод градиентного бустинга"
   ]
  },
  {
   "cell_type": "code",
   "execution_count": 49,
   "id": "8ca063d5",
   "metadata": {},
   "outputs": [
    {
     "name": "stdout",
     "output_type": "stream",
     "text": [
      "accuracy 0.7\n",
      "              precision    recall  f1-score   support\n",
      "\n",
      "    Политика       0.30      0.26      0.28        35\n",
      "    Общество       0.84      0.70      0.76       116\n",
      "   Экономика       0.85      0.56      0.68        71\n",
      "      В мире       0.46      0.81      0.58       197\n",
      "       Спорт       0.82      0.75      0.78       121\n",
      "Происшествия       0.70      0.52      0.60        67\n",
      "    Культура       0.93      0.76      0.83       193\n",
      "  Технологии       0.85      0.61      0.71        90\n",
      "       Наука       0.86      0.76      0.81       120\n",
      "\n",
      "    accuracy                           0.70      1010\n",
      "   macro avg       0.73      0.64      0.67      1010\n",
      "weighted avg       0.76      0.70      0.71      1010\n",
      "\n"
     ]
    },
    {
     "data": {
      "text/plain": [
       "0.7"
      ]
     },
     "execution_count": 49,
     "metadata": {},
     "output_type": "execute_result"
    }
   ],
   "source": [
    "from sklearn.ensemble import GradientBoostingClassifier\n",
    "\n",
    "def gb_classifier():\n",
    "    \n",
    "    gb = Pipeline([('vect', CountVectorizer()),\n",
    "                    ('tfidf', TfidfTransformer()),\n",
    "                    ('clf', GradientBoostingClassifier(max_depth=2, n_estimators=150,random_state=12, learning_rate=1)),\n",
    "                   ])\n",
    "\n",
    "    gb.fit(X_train, y_train)\n",
    "    y_pred = gb.predict(X_test)\n",
    "\n",
    "    print('accuracy %s' % accuracy_score(y_pred, y_test))\n",
    "    print(classification_report(y_test, y_pred, target_names=my_tags))\n",
    "    \n",
    "    return round(accuracy_score(y_pred, y_test), 2)\n",
    "\n",
    "gb_classifier()"
   ]
  },
  {
   "cell_type": "markdown",
   "id": "951fdeac",
   "metadata": {},
   "source": [
    "### Случайный лес"
   ]
  },
  {
   "cell_type": "code",
   "execution_count": 50,
   "id": "fac67fcb",
   "metadata": {},
   "outputs": [
    {
     "name": "stdout",
     "output_type": "stream",
     "text": [
      "accuracy 0.7504950495049505\n",
      "              precision    recall  f1-score   support\n",
      "\n",
      "    Политика       0.40      0.17      0.24        35\n",
      "    Общество       0.82      0.78      0.80       116\n",
      "   Экономика       0.88      0.52      0.65        71\n",
      "      В мире       0.53      0.86      0.65       197\n",
      "       Спорт       0.82      0.79      0.81       121\n",
      "Происшествия       0.95      0.63      0.76        67\n",
      "    Культура       0.92      0.84      0.88       193\n",
      "  Технологии       0.85      0.63      0.73        90\n",
      "       Наука       0.84      0.82      0.83       120\n",
      "\n",
      "    accuracy                           0.75      1010\n",
      "   macro avg       0.78      0.67      0.70      1010\n",
      "weighted avg       0.79      0.75      0.75      1010\n",
      "\n"
     ]
    },
    {
     "data": {
      "text/plain": [
       "0.75"
      ]
     },
     "execution_count": 50,
     "metadata": {},
     "output_type": "execute_result"
    }
   ],
   "source": [
    "from sklearn.ensemble import RandomForestClassifier\n",
    "\n",
    "\n",
    "def rf_classifier():\n",
    "\n",
    "    rf = Pipeline([('vect', CountVectorizer()),\n",
    "                    ('tfidf', TfidfTransformer()),\n",
    "                    ('clf', RandomForestClassifier(n_estimators=10, random_state=1))\n",
    "                  ])\n",
    "\n",
    "    rf.fit(X_train, y_train)\n",
    "    y_pred = rf.predict(X_test)\n",
    "\n",
    "    print('accuracy %s' % accuracy_score(y_pred, y_test))\n",
    "    print(classification_report(y_test, y_pred, target_names=my_tags))\n",
    "    \n",
    "    return round(accuracy_score(y_pred, y_test), 2)\n",
    "\n",
    "rf_classifier()"
   ]
  },
  {
   "cell_type": "code",
   "execution_count": 51,
   "id": "35e9ace1",
   "metadata": {
    "collapsed": true
   },
   "outputs": [
    {
     "name": "stdout",
     "output_type": "stream",
     "text": [
      "Fitting 4 folds for each of 80 candidates, totalling 320 fits\n"
     ]
    },
    {
     "ename": "ValueError",
     "evalue": "\nAll the 320 fits failed.\nIt is very likely that your model is misconfigured.\nYou can try to debug the error by setting error_score='raise'.\n\nBelow are more details about the failures:\n--------------------------------------------------------------------------------\n80 fits failed with the following error:\nTraceback (most recent call last):\n  File \"/Users/user/opt/anaconda3/lib/python3.9/site-packages/sklearn/model_selection/_validation.py\", line 686, in _fit_and_score\n    estimator.fit(X_train, y_train, **fit_params)\n  File \"/Users/user/opt/anaconda3/lib/python3.9/site-packages/sklearn/ensemble/_forest.py\", line 331, in fit\n    X, y = self._validate_data(\n  File \"/Users/user/opt/anaconda3/lib/python3.9/site-packages/sklearn/base.py\", line 596, in _validate_data\n    X, y = check_X_y(X, y, **check_params)\n  File \"/Users/user/opt/anaconda3/lib/python3.9/site-packages/sklearn/utils/validation.py\", line 1074, in check_X_y\n    X = check_array(\n  File \"/Users/user/opt/anaconda3/lib/python3.9/site-packages/sklearn/utils/validation.py\", line 856, in check_array\n    array = np.asarray(array, order=order, dtype=dtype)\n  File \"/Users/user/opt/anaconda3/lib/python3.9/site-packages/pandas/core/series.py\", line 872, in __array__\n    return np.asarray(self._values, dtype)\nValueError: could not convert string to float: 'соответствующие цель выделять миллион евро сообщаться сайт минздрав страны'\n\n--------------------------------------------------------------------------------\n240 fits failed with the following error:\nTraceback (most recent call last):\n  File \"/Users/user/opt/anaconda3/lib/python3.9/site-packages/sklearn/model_selection/_validation.py\", line 686, in _fit_and_score\n    estimator.fit(X_train, y_train, **fit_params)\n  File \"/Users/user/opt/anaconda3/lib/python3.9/site-packages/sklearn/ensemble/_forest.py\", line 331, in fit\n    X, y = self._validate_data(\n  File \"/Users/user/opt/anaconda3/lib/python3.9/site-packages/sklearn/base.py\", line 596, in _validate_data\n    X, y = check_X_y(X, y, **check_params)\n  File \"/Users/user/opt/anaconda3/lib/python3.9/site-packages/sklearn/utils/validation.py\", line 1074, in check_X_y\n    X = check_array(\n  File \"/Users/user/opt/anaconda3/lib/python3.9/site-packages/sklearn/utils/validation.py\", line 856, in check_array\n    array = np.asarray(array, order=order, dtype=dtype)\n  File \"/Users/user/opt/anaconda3/lib/python3.9/site-packages/pandas/core/series.py\", line 872, in __array__\n    return np.asarray(self._values, dtype)\nValueError: could not convert string to float: 'планшет google pixel попадать рынок сша вместе док станцией'\n",
     "output_type": "error",
     "traceback": [
      "\u001b[0;31m---------------------------------------------------------------------------\u001b[0m",
      "\u001b[0;31mValueError\u001b[0m                                Traceback (most recent call last)",
      "\u001b[0;32m/var/folders/f3/zqnx3rgj3m12khpr_cbwqlm80000gn/T/ipykernel_1073/3604431874.py\u001b[0m in \u001b[0;36m<module>\u001b[0;34m\u001b[0m\n\u001b[1;32m     13\u001b[0m                                cv = 4, verbose= 5, random_state= 101, n_jobs = -1)\n\u001b[1;32m     14\u001b[0m \u001b[0;34m\u001b[0m\u001b[0m\n\u001b[0;32m---> 15\u001b[0;31m \u001b[0mmodel\u001b[0m\u001b[0;34m.\u001b[0m\u001b[0mfit\u001b[0m\u001b[0;34m(\u001b[0m\u001b[0mX_train\u001b[0m\u001b[0;34m,\u001b[0m\u001b[0my_train\u001b[0m\u001b[0;34m)\u001b[0m\u001b[0;34m\u001b[0m\u001b[0;34m\u001b[0m\u001b[0m\n\u001b[0m",
      "\u001b[0;32m~/opt/anaconda3/lib/python3.9/site-packages/sklearn/model_selection/_search.py\u001b[0m in \u001b[0;36mfit\u001b[0;34m(self, X, y, groups, **fit_params)\u001b[0m\n\u001b[1;32m    873\u001b[0m                 \u001b[0;32mreturn\u001b[0m \u001b[0mresults\u001b[0m\u001b[0;34m\u001b[0m\u001b[0;34m\u001b[0m\u001b[0m\n\u001b[1;32m    874\u001b[0m \u001b[0;34m\u001b[0m\u001b[0m\n\u001b[0;32m--> 875\u001b[0;31m             \u001b[0mself\u001b[0m\u001b[0;34m.\u001b[0m\u001b[0m_run_search\u001b[0m\u001b[0;34m(\u001b[0m\u001b[0mevaluate_candidates\u001b[0m\u001b[0;34m)\u001b[0m\u001b[0;34m\u001b[0m\u001b[0;34m\u001b[0m\u001b[0m\n\u001b[0m\u001b[1;32m    876\u001b[0m \u001b[0;34m\u001b[0m\u001b[0m\n\u001b[1;32m    877\u001b[0m             \u001b[0;31m# multimetric is determined here because in the case of a callable\u001b[0m\u001b[0;34m\u001b[0m\u001b[0;34m\u001b[0m\u001b[0m\n",
      "\u001b[0;32m~/opt/anaconda3/lib/python3.9/site-packages/sklearn/model_selection/_search.py\u001b[0m in \u001b[0;36m_run_search\u001b[0;34m(self, evaluate_candidates)\u001b[0m\n\u001b[1;32m   1751\u001b[0m     \u001b[0;32mdef\u001b[0m \u001b[0m_run_search\u001b[0m\u001b[0;34m(\u001b[0m\u001b[0mself\u001b[0m\u001b[0;34m,\u001b[0m \u001b[0mevaluate_candidates\u001b[0m\u001b[0;34m)\u001b[0m\u001b[0;34m:\u001b[0m\u001b[0;34m\u001b[0m\u001b[0;34m\u001b[0m\u001b[0m\n\u001b[1;32m   1752\u001b[0m         \u001b[0;34m\"\"\"Search n_iter candidates from param_distributions\"\"\"\u001b[0m\u001b[0;34m\u001b[0m\u001b[0;34m\u001b[0m\u001b[0m\n\u001b[0;32m-> 1753\u001b[0;31m         evaluate_candidates(\n\u001b[0m\u001b[1;32m   1754\u001b[0m             ParameterSampler(\n\u001b[1;32m   1755\u001b[0m                 \u001b[0mself\u001b[0m\u001b[0;34m.\u001b[0m\u001b[0mparam_distributions\u001b[0m\u001b[0;34m,\u001b[0m \u001b[0mself\u001b[0m\u001b[0;34m.\u001b[0m\u001b[0mn_iter\u001b[0m\u001b[0;34m,\u001b[0m \u001b[0mrandom_state\u001b[0m\u001b[0;34m=\u001b[0m\u001b[0mself\u001b[0m\u001b[0;34m.\u001b[0m\u001b[0mrandom_state\u001b[0m\u001b[0;34m\u001b[0m\u001b[0;34m\u001b[0m\u001b[0m\n",
      "\u001b[0;32m~/opt/anaconda3/lib/python3.9/site-packages/sklearn/model_selection/_search.py\u001b[0m in \u001b[0;36mevaluate_candidates\u001b[0;34m(candidate_params, cv, more_results)\u001b[0m\n\u001b[1;32m    850\u001b[0m                     )\n\u001b[1;32m    851\u001b[0m \u001b[0;34m\u001b[0m\u001b[0m\n\u001b[0;32m--> 852\u001b[0;31m                 \u001b[0m_warn_or_raise_about_fit_failures\u001b[0m\u001b[0;34m(\u001b[0m\u001b[0mout\u001b[0m\u001b[0;34m,\u001b[0m \u001b[0mself\u001b[0m\u001b[0;34m.\u001b[0m\u001b[0merror_score\u001b[0m\u001b[0;34m)\u001b[0m\u001b[0;34m\u001b[0m\u001b[0;34m\u001b[0m\u001b[0m\n\u001b[0m\u001b[1;32m    853\u001b[0m \u001b[0;34m\u001b[0m\u001b[0m\n\u001b[1;32m    854\u001b[0m                 \u001b[0;31m# For callable self.scoring, the return type is only know after\u001b[0m\u001b[0;34m\u001b[0m\u001b[0;34m\u001b[0m\u001b[0m\n",
      "\u001b[0;32m~/opt/anaconda3/lib/python3.9/site-packages/sklearn/model_selection/_validation.py\u001b[0m in \u001b[0;36m_warn_or_raise_about_fit_failures\u001b[0;34m(results, error_score)\u001b[0m\n\u001b[1;32m    365\u001b[0m                 \u001b[0;34mf\"Below are more details about the failures:\\n{fit_errors_summary}\"\u001b[0m\u001b[0;34m\u001b[0m\u001b[0;34m\u001b[0m\u001b[0m\n\u001b[1;32m    366\u001b[0m             )\n\u001b[0;32m--> 367\u001b[0;31m             \u001b[0;32mraise\u001b[0m \u001b[0mValueError\u001b[0m\u001b[0;34m(\u001b[0m\u001b[0mall_fits_failed_message\u001b[0m\u001b[0;34m)\u001b[0m\u001b[0;34m\u001b[0m\u001b[0;34m\u001b[0m\u001b[0m\n\u001b[0m\u001b[1;32m    368\u001b[0m \u001b[0;34m\u001b[0m\u001b[0m\n\u001b[1;32m    369\u001b[0m         \u001b[0;32melse\u001b[0m\u001b[0;34m:\u001b[0m\u001b[0;34m\u001b[0m\u001b[0;34m\u001b[0m\u001b[0m\n",
      "\u001b[0;31mValueError\u001b[0m: \nAll the 320 fits failed.\nIt is very likely that your model is misconfigured.\nYou can try to debug the error by setting error_score='raise'.\n\nBelow are more details about the failures:\n--------------------------------------------------------------------------------\n80 fits failed with the following error:\nTraceback (most recent call last):\n  File \"/Users/user/opt/anaconda3/lib/python3.9/site-packages/sklearn/model_selection/_validation.py\", line 686, in _fit_and_score\n    estimator.fit(X_train, y_train, **fit_params)\n  File \"/Users/user/opt/anaconda3/lib/python3.9/site-packages/sklearn/ensemble/_forest.py\", line 331, in fit\n    X, y = self._validate_data(\n  File \"/Users/user/opt/anaconda3/lib/python3.9/site-packages/sklearn/base.py\", line 596, in _validate_data\n    X, y = check_X_y(X, y, **check_params)\n  File \"/Users/user/opt/anaconda3/lib/python3.9/site-packages/sklearn/utils/validation.py\", line 1074, in check_X_y\n    X = check_array(\n  File \"/Users/user/opt/anaconda3/lib/python3.9/site-packages/sklearn/utils/validation.py\", line 856, in check_array\n    array = np.asarray(array, order=order, dtype=dtype)\n  File \"/Users/user/opt/anaconda3/lib/python3.9/site-packages/pandas/core/series.py\", line 872, in __array__\n    return np.asarray(self._values, dtype)\nValueError: could not convert string to float: 'соответствующие цель выделять миллион евро сообщаться сайт минздрав страны'\n\n--------------------------------------------------------------------------------\n240 fits failed with the following error:\nTraceback (most recent call last):\n  File \"/Users/user/opt/anaconda3/lib/python3.9/site-packages/sklearn/model_selection/_validation.py\", line 686, in _fit_and_score\n    estimator.fit(X_train, y_train, **fit_params)\n  File \"/Users/user/opt/anaconda3/lib/python3.9/site-packages/sklearn/ensemble/_forest.py\", line 331, in fit\n    X, y = self._validate_data(\n  File \"/Users/user/opt/anaconda3/lib/python3.9/site-packages/sklearn/base.py\", line 596, in _validate_data\n    X, y = check_X_y(X, y, **check_params)\n  File \"/Users/user/opt/anaconda3/lib/python3.9/site-packages/sklearn/utils/validation.py\", line 1074, in check_X_y\n    X = check_array(\n  File \"/Users/user/opt/anaconda3/lib/python3.9/site-packages/sklearn/utils/validation.py\", line 856, in check_array\n    array = np.asarray(array, order=order, dtype=dtype)\n  File \"/Users/user/opt/anaconda3/lib/python3.9/site-packages/pandas/core/series.py\", line 872, in __array__\n    return np.asarray(self._values, dtype)\nValueError: could not convert string to float: 'планшет google pixel попадать рынок сша вместе док станцией'\n"
     ]
    }
   ],
   "source": [
    "from sklearn.model_selection import RandomizedSearchCV\n",
    "from sklearn.model_selection import cross_val_score\n",
    "\n",
    "random_search = {'criterion': ['entropy', 'gini'],\n",
    "               'max_depth': list(np.linspace(10, 1200, 10, dtype = int)) + [None],\n",
    "               'max_features': ['auto', 'sqrt','log2', None],\n",
    "               'min_samples_leaf': [4, 6, 8, 12],\n",
    "               'min_samples_split': [5, 7, 10, 14],\n",
    "               'n_estimators': list(np.linspace(151, 1200, 10, dtype = int))}\n",
    "\n",
    "clf = RandomForestClassifier()\n",
    "model = RandomizedSearchCV(estimator = clf, param_distributions = random_search, n_iter = 80, \n",
    "                               cv = 4, verbose= 5, random_state= 101, n_jobs = -1)\n",
    "\n",
    "model.fit(X_train,y_train)"
   ]
  },
  {
   "cell_type": "code",
   "execution_count": null,
   "id": "8395b1a1",
   "metadata": {},
   "outputs": [],
   "source": []
  }
 ],
 "metadata": {
  "kernelspec": {
   "display_name": "Python 3 (ipykernel)",
   "language": "python",
   "name": "python3"
  },
  "language_info": {
   "codemirror_mode": {
    "name": "ipython",
    "version": 3
   },
   "file_extension": ".py",
   "mimetype": "text/x-python",
   "name": "python",
   "nbconvert_exporter": "python",
   "pygments_lexer": "ipython3",
   "version": "3.9.13"
  }
 },
 "nbformat": 4,
 "nbformat_minor": 5
}
